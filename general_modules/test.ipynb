{
 "cells": [
  {
   "cell_type": "code",
   "execution_count": 1,
   "id": "eb95d857",
   "metadata": {},
   "outputs": [],
   "source": [
    "include(\"channels.jl\")\n",
    "using .channels"
   ]
  },
  {
   "cell_type": "code",
   "execution_count": 2,
   "id": "4746091f",
   "metadata": {},
   "outputs": [
    {
     "name": "stderr",
     "output_type": "stream",
     "text": [
      "\u001b[32m\u001b[1m   Resolving\u001b[22m\u001b[39m package versions...\n",
      "\u001b[32m\u001b[1m  No Changes\u001b[22m\u001b[39m to `~/.julia/environments/v1.11/Project.toml`\n",
      "\u001b[32m\u001b[1m  No Changes\u001b[22m\u001b[39m to `~/.julia/environments/v1.11/Manifest.toml`\n"
     ]
    }
   ],
   "source": [
    "using Pkg\n",
    "Pkg.add(\"JSON\")\n",
    "using JSON"
   ]
  },
  {
   "cell_type": "code",
   "execution_count": 3,
   "id": "fe20e99d",
   "metadata": {},
   "outputs": [
    {
     "data": {
      "text/plain": [
       "-0.5"
      ]
     },
     "metadata": {},
     "output_type": "display_data"
    }
   ],
   "source": [
    "data = JSON.parsefile(\"test.json\")\n",
    "Systems_params= data[\"Systems\"]\n",
    "channels.update_parameters(Systems_params)\n"
   ]
  },
  {
   "cell_type": "code",
   "execution_count": 4,
   "id": "ff3f9cce",
   "metadata": {},
   "outputs": [
    {
     "name": "stdout",
     "output_type": "stream",
     "text": [
      "For J=0.5T=0.5parity=1Number of channels: 8\n"
     ]
    },
    {
     "data": {
      "text/plain": [
       "Main.channels.nch3b(8, [0, 0, 1, 1, 1, 1, 1, 1], [0.0, 1.0, 0.0, 0.0, 1.0, 1.0, 1.0, 1.0], [0.0, 1.0, 1.0, 1.0, 0.0, 1.0, 1.0, 2.0], [0, 0, 1, 1, 1, 1, 1, 1], [0.5, 0.5, 0.5, 0.5, 0.5, 0.5, 0.5, 0.5], [0.5, 0.5, 0.5, 1.5, 0.5, 0.5, 1.5, 1.5], [0.5, 0.5, 0.5, 0.5, 0.5, 0.5, 0.5, 0.5], [1.0, 0.0, 0.0, 0.0, 1.0, 1.0, 1.0, 1.0], [0.5, 0.5, 0.5, 0.5, 0.5, 0.5, 0.5, 0.5])"
      ]
     },
     "metadata": {},
     "output_type": "display_data"
    }
   ],
   "source": [
    "α3b(0.5,0.5,1)"
   ]
  },
  {
   "cell_type": "code",
   "execution_count": 9,
   "id": "f521c2cc",
   "metadata": {},
   "outputs": [
    {
     "name": "stderr",
     "output_type": "stream",
     "text": [
      "WARNING: replacing module mesh.\n",
      "WARNING: using mesh.initialmesh in module Main conflicts with an existing identifier.\n"
     ]
    }
   ],
   "source": [
    "include(\"mesh.jl\")\n",
    "using .mesh"
   ]
  },
  {
   "cell_type": "code",
   "execution_count": 5,
   "id": "f8aadedb",
   "metadata": {},
   "outputs": [
    {
     "data": {
      "text/plain": [
       "24-element Vector{Float64}:\n",
       " 0.019385558437952304\n",
       " 0.04481700045668655\n",
       " 0.06955083825428879\n",
       " 0.09314599936930322\n",
       " 0.11521238358385505\n",
       " 0.13538718914025086\n",
       " 0.153339020151811\n",
       " 0.16877306483331733\n",
       " 0.18143587910278275\n",
       " 0.19111953195439144\n",
       " ⋮\n",
       " 0.18143587910278275\n",
       " 0.16877306483331733\n",
       " 0.153339020151811\n",
       " 0.13538718914025086\n",
       " 0.11521238358385505\n",
       " 0.09314599936930322\n",
       " 0.06955083825428879\n",
       " 0.04481700045668655\n",
       " 0.019385558437952304"
      ]
     },
     "metadata": {},
     "output_type": "display_data"
    }
   ],
   "source": [
    "initialmesh(0.0)"
   ]
  }
 ],
 "metadata": {
  "kernelspec": {
   "display_name": "Julia 1.11.4",
   "language": "julia",
   "name": "julia-1.11"
  },
  "language_info": {
   "file_extension": ".jl",
   "mimetype": "application/julia",
   "name": "julia",
   "version": "1.11.4"
  }
 },
 "nbformat": 4,
 "nbformat_minor": 5
}
