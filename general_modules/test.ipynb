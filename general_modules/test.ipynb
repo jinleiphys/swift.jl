{
 "cells": [
  {
   "cell_type": "code",
   "execution_count": 1,
   "id": "eb95d857",
   "metadata": {},
   "outputs": [],
   "source": [
    "include(\"channels.jl\")\n",
    "using .channels"
   ]
  },
  {
   "cell_type": "code",
   "execution_count": 2,
   "id": "4746091f",
   "metadata": {},
   "outputs": [
    {
     "name": "stderr",
     "output_type": "stream",
     "text": [
      "\u001b[32m\u001b[1m   Resolving\u001b[22m\u001b[39m package versions...\n",
      "\u001b[32m\u001b[1m  No Changes\u001b[22m\u001b[39m to `~/.julia/environments/v1.11/Project.toml`\n",
      "\u001b[32m\u001b[1m  No Changes\u001b[22m\u001b[39m to `~/.julia/environments/v1.11/Manifest.toml`\n"
     ]
    }
   ],
   "source": [
    "using Pkg\n",
    "Pkg.add(\"JSON\")\n",
    "using JSON"
   ]
  },
  {
   "cell_type": "code",
   "execution_count": 3,
   "id": "fe20e99d",
   "metadata": {},
   "outputs": [
    {
     "data": {
      "text/plain": [
       "-0.5"
      ]
     },
     "metadata": {},
     "output_type": "display_data"
    }
   ],
   "source": [
    "data = JSON.parsefile(\"test.json\")\n",
    "Systems_params= data[\"Systems\"]\n",
    "channels.update_parameters(Systems_params)\n"
   ]
  },
  {
   "cell_type": "code",
   "execution_count": 4,
   "id": "ff3f9cce",
   "metadata": {},
   "outputs": [
    {
     "name": "stdout",
     "output_type": "stream",
     "text": [
      "For J=0.5T=0.5parity=1Number of channels: 8\n"
     ]
    },
    {
     "data": {
      "text/plain": [
       "Main.channels.nch3b(8, [0, 0, 1, 1, 1, 1, 1, 1], [0.0, 1.0, 0.0, 0.0, 1.0, 1.0, 1.0, 1.0], [0.0, 1.0, 1.0, 1.0, 0.0, 1.0, 1.0, 2.0], [0, 0, 1, 1, 1, 1, 1, 1], [0.5, 0.5, 0.5, 0.5, 0.5, 0.5, 0.5, 0.5], [0.5, 0.5, 0.5, 1.5, 0.5, 0.5, 1.5, 1.5], [0.5, 0.5, 0.5, 0.5, 0.5, 0.5, 0.5, 0.5], [1.0, 0.0, 0.0, 0.0, 1.0, 1.0, 1.0, 1.0], [0.5, 0.5, 0.5, 0.5, 0.5, 0.5, 0.5, 0.5])"
      ]
     },
     "metadata": {},
     "output_type": "display_data"
    }
   ],
   "source": [
    "α3b(0.5,0.5,1)"
   ]
  }
 ],
 "metadata": {
  "kernelspec": {
   "display_name": "Julia 1.11.4",
   "language": "julia",
   "name": "julia-1.11"
  },
  "language_info": {
   "file_extension": ".jl",
   "mimetype": "application/julia",
   "name": "julia",
   "version": "1.11.4"
  }
 },
 "nbformat": 4,
 "nbformat_minor": 5
}
