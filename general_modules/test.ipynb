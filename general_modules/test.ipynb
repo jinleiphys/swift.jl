{
 "cells": [
  {
   "cell_type": "code",
   "execution_count": 4,
   "id": "eb95d857",
   "metadata": {},
   "outputs": [],
   "source": [
    "include(\"channels.jl\")\n",
    "using .channels"
   ]
  },
  {
   "cell_type": "code",
   "execution_count": 2,
   "id": "4746091f",
   "metadata": {},
   "outputs": [
    {
     "name": "stderr",
     "output_type": "stream",
     "text": [
      "\u001b[32m\u001b[1m   Resolving\u001b[22m\u001b[39m package versions...\n",
      "\u001b[32m\u001b[1m  No Changes\u001b[22m\u001b[39m to `~/.julia/environments/v1.11/Project.toml`\n",
      "\u001b[32m\u001b[1m  No Changes\u001b[22m\u001b[39m to `~/.julia/environments/v1.11/Manifest.toml`\n",
      "\u001b[32m\u001b[1m   Resolving\u001b[22m\u001b[39m package versions...\n",
      "\u001b[32m\u001b[1m   Installed\u001b[22m\u001b[39m LoweredCodeUtils ─ v3.1.0\n",
      "\u001b[32m\u001b[1m   Installed\u001b[22m\u001b[39m CodeTracking ───── v1.3.9\n",
      "\u001b[32m\u001b[1m   Installed\u001b[22m\u001b[39m JuliaInterpreter ─ v0.9.44\n",
      "\u001b[32m\u001b[1m   Installed\u001b[22m\u001b[39m Revise ─────────── v3.7.3\n",
      "\u001b[32m\u001b[1m    Updating\u001b[22m\u001b[39m `~/.julia/environments/v1.11/Project.toml`\n",
      "  \u001b[90m[295af30f] \u001b[39m\u001b[92m+ Revise v3.7.3\u001b[39m\n",
      "\u001b[32m\u001b[1m    Updating\u001b[22m\u001b[39m `~/.julia/environments/v1.11/Manifest.toml`\n",
      "  \u001b[90m[da1fd8a2] \u001b[39m\u001b[92m+ CodeTracking v1.3.9\u001b[39m\n",
      "  \u001b[90m[aa1ae85d] \u001b[39m\u001b[92m+ JuliaInterpreter v0.9.44\u001b[39m\n",
      "  \u001b[90m[6f1432cf] \u001b[39m\u001b[92m+ LoweredCodeUtils v3.1.0\u001b[39m\n",
      "  \u001b[90m[295af30f] \u001b[39m\u001b[92m+ Revise v3.7.3\u001b[39m\n",
      "\u001b[92m\u001b[1mPrecompiling\u001b[22m\u001b[39m project...\n",
      "    604.2 ms\u001b[32m  ✓ \u001b[39m\u001b[90mCodeTracking\u001b[39m\n",
      "   4873.4 ms\u001b[32m  ✓ \u001b[39m\u001b[90mJuliaInterpreter\u001b[39m\n",
      "   3999.3 ms\u001b[32m  ✓ \u001b[39m\u001b[90mLoweredCodeUtils\u001b[39m\n",
      "   5565.0 ms\u001b[32m  ✓ \u001b[39mRevise\n",
      "  4 dependencies successfully precompiled in 15 seconds. 83 already precompiled.\n"
     ]
    }
   ],
   "source": [
    "using Pkg\n",
    "Pkg.add(\"JSON\")\n",
    "using JSON\n",
    "\n",
    "Pkg.add(\"Revise\")"
   ]
  },
  {
   "cell_type": "code",
   "execution_count": 3,
   "id": "fe20e99d",
   "metadata": {},
   "outputs": [
    {
     "data": {
      "text/plain": [
       "Dict{String, Any} with 15 entries:\n",
       "  \"t3\"   => 0.5\n",
       "  \"Tmax\" => 0.5\n",
       "  \"Jmin\" => 0.5\n",
       "  \"s3\"   => 0.5\n",
       "  \"s1\"   => 0.5\n",
       "  \"lmax\" => 1\n",
       "  \"t2\"   => 0.5\n",
       "  \"s2\"   => 0.5\n",
       "  \"λmax\" => 1\n",
       "  \"t1\"   => 0.5\n",
       "  \"Jmax\" => 0.5\n",
       "  \"lmin\" => 0\n",
       "  \"λmin\" => 0\n",
       "  \"Tmin\" => 0.5\n",
       "  \"MT\"   => -0.5"
      ]
     },
     "metadata": {},
     "output_type": "display_data"
    }
   ],
   "source": [
    "data = JSON.parsefile(\"test.json\")\n",
    "Systems_params= data[\"Systems\"]"
   ]
  },
  {
   "cell_type": "code",
   "execution_count": null,
   "id": "a20dcf59",
   "metadata": {},
   "outputs": [],
   "source": [
    "println(\"Systems_params: \", Systems_params[\"t3\"])"
   ]
  },
  {
   "cell_type": "markdown",
   "id": "bff0c227",
   "metadata": {},
   "source": [
    "α3b(J,T,parity,lmax,lmin,λmax,λmin,s1,s2,s3,t1,t2,t3,MT)"
   ]
  },
  {
   "cell_type": "code",
   "execution_count": 4,
   "id": "ff3f9cce",
   "metadata": {},
   "outputs": [
    {
     "name": "stdout",
     "output_type": "stream",
     "text": [
      "For J=0.5 T=0.5 parity=1 Number of channels: 8\n"
     ]
    },
    {
     "data": {
      "text/plain": [
       "nch3b(8, [0, 0, 1, 1, 1, 1, 1, 1], [0.0, 1.0, 0.0, 0.0, 1.0, 1.0, 1.0, 1.0], [0.0, 1.0, 1.0, 1.0, 0.0, 1.0, 1.0, 2.0], [0, 0, 1, 1, 1, 1, 1, 1], [0.5, 0.5, 0.5, 0.5, 0.5, 0.5, 0.5, 0.5], [0.5, 0.5, 0.5, 1.5, 0.5, 0.5, 1.5, 1.5], [0.5, 0.5, 0.5, 0.5, 0.5, 0.5, 0.5, 0.5], [1.0, 0.0, 0.0, 0.0, 1.0, 1.0, 1.0, 1.0], [0.5, 0.5, 0.5, 0.5, 0.5, 0.5, 0.5, 0.5])"
      ]
     },
     "metadata": {},
     "output_type": "display_data"
    }
   ],
   "source": [
    "α= α3b(0.5,0.5,1,Systems_params[\"lmax\"],Systems_params[\"lmin\"],Systems_params[\"λmax\"],Systems_params[\"λmin\"],Systems_params[\"s1\"],Systems_params[\"s2\"],Systems_params[\"s3\"],Systems_params[\"t1\"],Systems_params[\"t2\"],Systems_params[\"t3\"],Systems_params[\"MT\"])"
   ]
  },
  {
   "cell_type": "code",
   "execution_count": 9,
   "id": "73b2f855",
   "metadata": {},
   "outputs": [
    {
     "name": "stdout",
     "output_type": "stream",
     "text": [
      "α.l: 1\n"
     ]
    }
   ],
   "source": [
    "println(\"α.l: \", α.l[3])"
   ]
  },
  {
   "cell_type": "code",
   "execution_count": 4,
   "id": "f521c2cc",
   "metadata": {},
   "outputs": [
    {
     "name": "stderr",
     "output_type": "stream",
     "text": [
      "WARNING: replacing module mesh.\n"
     ]
    }
   ],
   "source": [
    "using Revise\n",
    "include(\"mesh.jl\")\n",
    "using .mesh"
   ]
  },
  {
   "cell_type": "markdown",
   "id": "4d33f1b7",
   "metadata": {},
   "source": [
    "function initialmesh(nθ::Int,nx::Int,ny::Int, \n",
    "    xmax::Float64, ymax::Float64,alpha::Float64)\n",
    "    return θi, dθi, xi, dxi, yi, dyi"
   ]
  },
  {
   "cell_type": "code",
   "execution_count": 7,
   "id": "f8aadedb",
   "metadata": {},
   "outputs": [
    {
     "data": {
      "text/plain": [
       "([0.010793571159988469, 0.05659276429335236, 0.13786183772187122, 0.25271446970529854, 0.3984609095574594, 0.5716855414653129, 0.768328316649816, 0.9837801753398278, 1.2129911485257514, 1.450588748496007, 1.6910039050937862, 1.9286015050640417, 2.1578124782499652, 2.373264336939977, 2.56990711212448, 2.7431317440323335, 2.8888781838844944, 3.0037308158679217, 3.0849998892964408, 3.130799082429805], [0.027668017714319135, 0.06377657679306871, 0.09844502331593069, 0.13081079977613538, 0.16011145779868483, 0.18565953665239512, 0.20685602955658772, 0.22320404656916054, 0.2343203792081908, 0.239944459410423, 0.239944459410423, 0.2343203792081908, 0.22320404656916054, 0.20685602955658772, 0.18565953665239512, 0.16011145779868483, 0.13081079977613538, 0.09844502331593069, 0.06377657679306871, 0.027668017714319135], [0.05301804463390261, 0.27969190669888955, 0.6889065326340259, 1.2832179673240212, 2.0663084314695417, 3.0431873929264865, 4.220386486741637, 5.606225385531121, 7.211181526024131, 9.04840897201156, 11.134478298600618, 13.490456931409543, 16.143537487483584, 19.12959490849989, 22.497419891067242, 26.316227987506508, 30.690278238671564, 35.791365437237644, 41.947602598343344, 50.0], [0.13610045144044727, 0.3175952454358294, 0.501251706916543, 0.6879822631970084, 0.8790304134010746, 1.0758117550546629, 1.2799669857527243, 1.4934485671344657, 1.7186439962032098, 1.958555116789662, 2.2170684752102363, 2.499379893643144, 2.8126931929939025, 3.1674360560750863, 3.5795266687200917, 4.07498955075983, 4.700539052848562, 5.5523330942781755, 6.87817286413962, 9.690719076787229], [0.05301804463390261, 0.27969190669888955, 0.6889065326340259, 1.2832179673240212, 2.0663084314695417, 3.0431873929264865, 4.220386486741637, 5.606225385531121, 7.211181526024131, 9.04840897201156, 11.134478298600618, 13.490456931409543, 16.143537487483584, 19.12959490849989, 22.497419891067242, 26.316227987506508, 30.690278238671564, 35.791365437237644, 41.947602598343344, 50.0], [0.13610045144044727, 0.3175952454358294, 0.501251706916543, 0.6879822631970084, 0.8790304134010746, 1.0758117550546629, 1.2799669857527243, 1.4934485671344657, 1.7186439962032098, 1.958555116789662, 2.2170684752102363, 2.499379893643144, 2.8126931929939025, 3.1674360560750863, 3.5795266687200917, 4.07498955075983, 4.700539052848562, 5.5523330942781755, 6.87817286413962, 9.690719076787229])"
      ]
     },
     "metadata": {},
     "output_type": "display_data"
    }
   ],
   "source": [
    "θi, dθi, xi, dxi, yi, dyi= initialmesh(20,20,20,50.,50.,0.0)"
   ]
  }
 ],
 "metadata": {
  "kernelspec": {
   "display_name": "Julia 1.11.4",
   "language": "julia",
   "name": "julia-1.11"
  },
  "language_info": {
   "file_extension": ".jl",
   "mimetype": "application/julia",
   "name": "julia",
   "version": "1.11.4"
  }
 },
 "nbformat": 4,
 "nbformat_minor": 5
}
