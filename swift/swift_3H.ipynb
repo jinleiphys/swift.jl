{
 "cells": [
  {
   "cell_type": "markdown",
   "id": "35fddf7a",
   "metadata": {},
   "source": [
    "Initialize channel configuration and computational mesh for three-body bound state calculation"
   ]
  },
  {
   "cell_type": "code",
   "execution_count": 1,
   "id": "a01ac54f",
   "metadata": {},
   "outputs": [
    {
     "name": "stdout",
     "output_type": "stream",
     "text": [
      "For J=0.5 T=0.5 parity=1 Number of channels: 3\n",
      "---The coupling coefficients are\n",
      " a3b |( l ( s1 s2 ) s12 ) J12 ( λ s3 ) J3 ,   J; ( t1 t2 ) T12 , t3 , T >\n",
      "   1 |( 0 (0.5 0.5) 0.0)  0.0 ( 0 0.5) 0.5, 0.5; (0.5 0.5) 1.0, 0.5, 0.5 > \n",
      "   2 |( 0 (0.5 0.5) 1.0)  1.0 ( 0 0.5) 0.5, 0.5; (0.5 0.5) 0.0, 0.5, 0.5 > \n",
      "   3 |( 2 (0.5 0.5) 1.0)  1.0 ( 0 0.5) 0.5, 0.5; (0.5 0.5) 0.0, 0.5, 0.5 > \n",
      "scaling factor for x: 0.18859695545615252\n"
     ]
    }
   ],
   "source": [
    "include(\"../general_modules/channels.jl\")\n",
    "include(\"../general_modules/mesh.jl\")\n",
    "using .channels\n",
    "using .mesh\n",
    "\n",
    "fermion=true; Jtot = 0.5; T = 0.5; Parity=1\n",
    "lmax=2; lmin=0; λmax=0; λmin=0; s1=0.5; s2=0.5; s3=0.5; t1=0.5; t2=0.5; t3=0.5; MT=-0.5 # -0.5 for 3H\n",
    "nθ=12; nx=30; ny=30; xmax=20; ymax=20; alpha=1\n",
    "\n",
    "α= α3b(fermion,Jtot,T,Parity,lmax,lmin,λmax,λmin,s1,s2,s3,t1,t2,t3,MT)\n",
    "grid= initialmesh(nθ,nx,ny,Float64(xmax),Float64(ymax),Float64(alpha));\n",
    "\n",
    "nothing"
   ]
  },
  {
   "cell_type": "markdown",
   "id": "9b802ee3",
   "metadata": {},
   "source": [
    "Calculate deuteron bound state using nuclear potential and analyze channel composition"
   ]
  },
  {
   "cell_type": "code",
   "execution_count": 2,
   "id": "c1e5a75c",
   "metadata": {},
   "outputs": [
    {
     "name": "stdout",
     "output_type": "stream",
     "text": [
      "\n",
      "Two-body channel configuration:\n",
      "  Total angular momentum J = 1.0\n",
      "  Parity = +\n",
      "  Number of channels: 2\n",
      "    Channel 1: 3S₁ (l=0, s=1.0)\n",
      "    Channel 2: 3D₁ (l=2, s=1.0)\n",
      "\n",
      "============================================================\n",
      "           TWO-BODY BOUND STATE ANALYSIS\n",
      "============================================================\n",
      "\n",
      "Bound State #1:\n",
      "  Binding Energy: -2.223939 MeV\n",
      "  Total J^π = 1⁺\n",
      "\n",
      "  Channel Composition:\n",
      "    Channel 1: 3S₁ (l=0, s=1.0) - 94.24%\n",
      "    Channel 2: 3D₁ (l=2, s=1.0) - 5.76%\n",
      "\n",
      "  D-state Probability: 5.762%\n",
      "  S-state Probability: 94.238%\n",
      "\n",
      "============================================================\n",
      "SUMMARY: Found 1 bound state(s)\n",
      "Binding energies (MeV): [-2.223939]\n",
      "============================================================\n"
     ]
    }
   ],
   "source": [
    "include(\"twobody.jl\")\n",
    "using .twobodybound\n",
    "\n",
    "potname=\"AV18\"\n",
    "e2b, ψ =bound2b(grid, potname); \n",
    "\n",
    "nothing"
   ]
  },
  {
   "cell_type": "code",
   "execution_count": null,
   "id": "ca1a100b",
   "metadata": {},
   "outputs": [],
   "source": [
    "computing the 3H bound state by using Faddeev Equations"
   ]
  },
  {
   "cell_type": "code",
   "execution_count": null,
   "id": "30e4675a",
   "metadata": {},
   "outputs": [
    {
     "name": "stdout",
     "output_type": "stream",
     "text": [
      "\n",
      "============================================================\n",
      "         THREE-BODY BOUND STATE ANALYSIS\n",
      "============================================================\n",
      "Two-body threshold energy: -2.223939 MeV\n",
      "Searching for three-body bound states...\n",
      "\n",
      "Three-body Bound State #1:\n",
      "  Binding Energy: -6.830823 MeV\n",
      "  Energy gain from 2-body: -4.606884 MeV\n",
      "  Wave function norm: 1.0\n",
      "  Eigenvalue energy: -6.830823 MeV\n",
      "  ⟨ψ|H|ψ⟩ energy: -6.830823 MeV\n",
      "  Energy difference: 0.0 MeV\n",
      "  ✓ Energy verification: PASSED\n",
      "\n",
      "============================================================\n",
      "SUMMARY: Found 1 three-body bound state(s)\n",
      "Three-body binding energies (MeV): [-6.830823]\n",
      "============================================================\n"
     ]
    },
    {
     "data": {
      "text/plain": [
       "1-element Vector{Any}:\n",
       " (-6.8308231176225735 + 2.0609295520168658e-13im, ComplexF64[6.913375601269424e-7 + 9.582060215814273e-21im, 3.4942649522983103e-6 + 6.003346013664854e-20im, 1.0299345344734428e-5 + 1.2086101366134798e-19im, 2.7283926182419627e-5 + 2.6808592780598606e-19im, 7.007680701752538e-5 + 3.324604317973129e-19im, 0.00016670241781706392 + 1.0757318430129614e-19im, 0.0003356625888087054 - 2.608861477543245e-19im, 0.0005297814575777969 - 3.6253010142484055e-19im, 0.0006543179255370353 - 6.437450399132683e-20im, 0.0006709593210072243 + 2.608861477543245e-19im  …  3.12303747060228e-6 + 1.0338301819034753e-18im, 4.0261660968267875e-6 - 7.072725109573408e-20im, 4.441358391291862e-6 - 1.2089013041890985e-18im, 4.4471348296727155e-6 + 2.799840937369488e-18im, 4.076453739406441e-6 - 1.2033691202523438e-18im, 3.4839116472038895e-6 + 4.249723115052435e-18im, 2.7255177650807667e-6 - 6.951890565691662e-19im, 1.978876687261045e-6 + 1.1950046698982076e-18im, 1.2470741509073435e-6 - 4.395770124004798e-19im, 6.864985294736845e-7 + 6.761275065334942e-19im], ComplexF64[1.842179287994649e-5 + 2.553292904069812e-19im 6.394964963691203e-5 + 6.202387705805408e-19im … 7.57180204580361e-7 + 1.9284220452312776e-18im -2.3024950140197243e-6 - 1.5792427004696601e-18im; 6.932893351864585e-5 + 1.191110526398532e-18im 0.00024030739682500115 + 3.718049182329228e-18im … 2.7207986191257315e-6 + 8.47413806166634e-18im -8.300829807684495e-6 - 3.1895647032123834e-18im; … ; 3.456403168396937e-8 + 6.47515564828183e-19im 7.218577614696667e-9 + 2.8632391100393976e-18im … -5.264555703479847e-6 + 6.408525574245822e-19im -2.330621844904455e-6 - 5.270052468571265e-19im; 2.0706939813807024e-7 + 1.1955835835034748e-18im 7.619189529431626e-7 + 4.077392552473521e-18im … -2.1466078577199347e-6 - 2.4517352408441016e-19im -9.404131478013966e-7 + 5.416705625198286e-19im;;; 1.9120554547781213e-5 + 1.6125596414170186e-19im 7.125617895516833e-5 + 1.0676929894921586e-18im … 1.6002752698727342e-7 - 1.7376975815316897e-18im 1.463951598134322e-6 + 1.528314722881051e-17im; 6.609652124394746e-5 + 6.428215539293665e-19im 0.0002463046385398179 + 3.949547406555028e-18im … 6.1909865620715e-7 - 2.6339906768066162e-18im 5.2993358053497674e-6 + 5.501673757920327e-17im; … ; 4.974406865587401e-6 - 8.586508850179112e-19im 1.8841882976991838e-5 - 5.875804589591541e-19im … 1.7083493948084267e-5 - 5.122717361790098e-19im 6.494644083930429e-6 - 7.849654997697197e-19im; 1.0916894916900137e-6 + 1.989630155226888e-19im 4.147755820243046e-6 + 6.9285578043354115e-19im … 7.752241563634772e-6 - 8.156012801020899e-19im 3.1192022881089254e-6 - 3.692891905094994e-19im;;; 3.711331962320086e-8 - 1.4352319448937288e-20im 1.2866910431239638e-6 - 3.084617827334162e-20im … 2.3351452012276519e-7 + 3.3967807959498466e-18im -1.7082986344664596e-7 - 1.1078782222977487e-18im; 1.3568061094134355e-7 + 1.3287489802901944e-20im 4.7329142283532724e-6 - 6.581764335304882e-20im … 8.442304165881114e-7 + 1.1902381135345866e-17im -6.132503017746073e-7 - 4.14978030121952e-18im; … ; 1.9276102569151698e-8 + 1.2425122122395799e-21im 6.630143366034682e-7 - 1.1101220348676956e-19im … 1.4419959549101503e-6 - 3.8120341200946034e-19im 5.140126361498099e-7 - 1.811826015080446e-19im; 4.217654737638509e-9 + 3.391912515545969e-21im 1.467129556361714e-7 - 1.2544153302239779e-19im … 5.915451342602983e-7 - 1.8299914617518834e-19im 2.407637521271912e-7 + 2.371265026805074e-19im])"
      ]
     },
     "metadata": {},
     "output_type": "display_data"
    }
   ],
   "source": [
    "include(\"threebodybound.jl\")\n",
    "using .threebodybound\n",
    "\n",
    "ThreeBody_Bound(α, grid, potname,e2b); \n",
    "\n",
    "nothing"
   ]
  }
 ],
 "metadata": {
  "kernelspec": {
   "display_name": "Julia 1.11.4",
   "language": "julia",
   "name": "julia-1.11"
  },
  "language_info": {
   "file_extension": ".jl",
   "mimetype": "application/julia",
   "name": "julia",
   "version": "1.11.4"
  }
 },
 "nbformat": 4,
 "nbformat_minor": 5
}
