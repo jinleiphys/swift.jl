{
 "cells": [
  {
   "cell_type": "markdown",
   "metadata": {},
   "source": [
    "# Three-Body Bound State Calculation for ³H (Tritium)\n",
    "\n",
    "This notebook computes the bound state of ³H (tritium) using the Faddeev method.\n",
    "³H consists of one proton and two neutrons with quantum numbers J^π = 1/2^+, making it the simplest three-nucleon system."
   ]
  },
  {
   "cell_type": "markdown",
   "metadata": {},
   "source": [
    "## Initialize channel configuration and computational mesh for ³H bound state calculation\n",
    "\n",
    "For ³H (tritium):\n",
    "- One proton (p) + two neutrons (n,n)\n",
    "- Total charge = +1, so MT = -0.5 \n",
    "- Spin-parity quantum numbers: $J^π$ = $1/2^+$\n",
    "- Total isospin T = 1/2\n",
    "- No Coulomb repulsion between neutrons"
   ]
  },
  {
   "cell_type": "code",
   "execution_count": 1,
   "metadata": {},
   "outputs": [
    {
     "name": "stdout",
     "output_type": "stream",
     "text": [
      "For J=0.5 T=0.5 parity=1 parity_pair=1 Number of channels: 9\n",
      "---The coupling coefficients are\n",
      " α3b| α2b |( l ( s1 s2 ) s12 ) J12 ( λ s3 ) J3 ,   J; ( t1 t2 ) T12 , t3 , T >\n",
      "  1 |   1 |( 0 (0.5 0.5) 0.0)  0.0 ( 0 0.5) 0.5, 0.5; (0.5 0.5) 1.0, 0.5, 0.5 > \n",
      "  2 |   2 |( 0 (0.5 0.5) 1.0)  1.0 ( 0 0.5) 0.5, 0.5; (0.5 0.5) 0.0, 0.5, 0.5 > \n",
      "  3 |   2 |( 0 (0.5 0.5) 1.0)  1.0 ( 2 0.5) 1.5, 0.5; (0.5 0.5) 0.0, 0.5, 0.5 > \n",
      "  4 |   3 |( 2 (0.5 0.5) 0.0)  2.0 ( 2 0.5) 1.5, 0.5; (0.5 0.5) 1.0, 0.5, 0.5 > \n",
      "  5 |   3 |( 2 (0.5 0.5) 0.0)  2.0 ( 2 0.5) 2.5, 0.5; (0.5 0.5) 1.0, 0.5, 0.5 > \n",
      "  6 |   4 |( 2 (0.5 0.5) 1.0)  1.0 ( 0 0.5) 0.5, 0.5; (0.5 0.5) 0.0, 0.5, 0.5 > \n",
      "  7 |   4 |( 2 (0.5 0.5) 1.0)  1.0 ( 2 0.5) 1.5, 0.5; (0.5 0.5) 0.0, 0.5, 0.5 > \n",
      "  8 |   5 |( 2 (0.5 0.5) 1.0)  2.0 ( 2 0.5) 1.5, 0.5; (0.5 0.5) 0.0, 0.5, 0.5 > \n",
      "  9 |   5 |( 2 (0.5 0.5) 1.0)  2.0 ( 2 0.5) 2.5, 0.5; (0.5 0.5) 0.0, 0.5, 0.5 > \n",
      "scaling factor for x: 0.18859695545615252\n"
     ]
    }
   ],
   "source": [
    "include(\"../general_modules/channels.jl\")\n",
    "include(\"../general_modules/mesh.jl\")\n",
    "using .channels\n",
    "using .mesh\n",
    "\n",
    "fermion=true; Jtot = 0.5; T = 0.5; Parity=1\n",
    "lmax=4; lmin=0; λmax=2; λmin=0; s1=0.5; s2=0.5; s3=0.5; t1=0.5; t2=0.5; t3=0.5; MT=-0.5 # -0.5 for 3H\n",
    "j2bmax=2.0  # Maximum J12 (two-body angular momentum)\n",
    "nθ=12; nx=30; ny=30; xmax=20; ymax=20; alpha=1\n",
    "\n",
    "α= α3b(fermion,Jtot,T,Parity,lmax,lmin,λmax,λmin,s1,s2,s3,t1,t2,t3,MT,j2bmax,1)  # parity_pair parameter added with default=1\n",
    "grid= initialmesh(nθ,nx,ny,Float64(xmax),Float64(ymax),Float64(alpha));\n",
    "\n",
    "nothing"
   ]
  },
  {
   "cell_type": "markdown",
   "metadata": {},
   "source": [
    "## Calculate deuteron bound state using nuclear potential\n",
    "\n",
    "First we need the two-body (deuteron) binding energy as a reference threshold.\n",
    "The deuteron is the bound state of a proton and neutron and provides the breakup threshold for ³H."
   ]
  },
  {
   "cell_type": "code",
   "execution_count": 2,
   "metadata": {},
   "outputs": [
    {
     "name": "stdout",
     "output_type": "stream",
     "text": [
      "\n",
      "Two-body channel configuration:\n",
      "  Total angular momentum J = 1.0\n",
      "  Parity = +\n",
      "  Number of channels: 2\n",
      "    Channel 1: 3S₁ (l=0, s=1.0)\n",
      "    Channel 2: 3D₁ (l=2, s=1.0)\n",
      "\n",
      "============================================================\n",
      "           TWO-BODY BOUND STATE ANALYSIS\n",
      "============================================================\n",
      "\n",
      "Bound State #1:\n",
      "  Binding Energy: -2.223939 MeV\n",
      "  Total J^π = 1⁺\n",
      "\n",
      "  Channel Composition:\n",
      "    Channel 1: 3S₁ (l=0, s=1.0) - 94.24%\n",
      "    Channel 2: 3D₁ (l=2, s=1.0) - 5.76%\n",
      "\n",
      "  D-state Probability: 5.762%\n",
      "  S-state Probability: 94.238%\n",
      "\n",
      "============================================================\n",
      "SUMMARY: Found 1 bound state(s)\n",
      "Binding energies (MeV): [-2.223939]\n",
      "============================================================\n"
     ]
    }
   ],
   "source": [
    "include(\"twobody.jl\")\n",
    "using .twobodybound\n",
    "\n",
    "potname=\"AV18\"\n",
    "e2b, ψ =bound2b(grid, potname); \n",
    "\n",
    "nothing"
   ]
  },
  {
   "cell_type": "markdown",
   "metadata": {},
   "source": [
    "## Compute ³H bound state using Faddeev Equations\n",
    "\n",
    "Now we solve the three-body Faddeev equations to find the ³H ground state.\n",
    "The calculation includes:\n",
    "- Nuclear attraction between all nucleon pairs (p-n, n-n interactions)\n",
    "- Proper treatment of identical particle (neutron) symmetry\n",
    "- Multi-channel coupling between different angular momentum states"
   ]
  },
  {
   "cell_type": "code",
   "execution_count": null,
   "metadata": {},
   "outputs": [],
   "source": [
    "include(\"threebodybound.jl\")\n",
    "using .threebodybound\n",
    "\n",
    "bound_states = ThreeBody_Bound(α, grid, potname, e2b);\n",
    "\n",
    "nothing"
   ]
  },
  {
   "cell_type": "markdown",
   "metadata": {},
   "source": [
    "## Alternative Solution: Malfiet-Tjon Method\n",
    "\n",
    "Now we solve the same ³H bound state problem using the Malfiet-Tjon iterative method.\n",
    "This approach reformulates the Faddeev equation as an eigenvalue problem where λ(E) = 1 \n",
    "corresponds to the ground state energy, and uses the secant method for convergence."
   ]
  },
  {
   "cell_type": "code",
   "execution_count": 3,
   "metadata": {},
   "outputs": [
    {
     "name": "stdout",
     "output_type": "stream",
     "text": [
      "======================================================================\n",
      "    MALFIET-TJON METHOD FOR ³H GROUND STATE\n",
      "======================================================================\n",
      "\n",
      "======================================================================\n",
      "         MALFIET-TJON EIGENVALUE SOLVER\n",
      "======================================================================\n",
      "Potential: AV18\n",
      "Two-body threshold: -2.223939 MeV\n",
      "Initial energy guesses: E0 = -7.5 MeV, E1 = -6.5 MeV\n",
      "Convergence tolerance: 1.0e-6\n",
      "Maximum iterations: 30\n",
      "Eigenvalue method: Arnoldi (Krylov dim: 50)\n",
      "Arnoldi tolerance: 1.0e-6\n",
      "----------------------------------------------------------------------\n",
      "  Building matrices...   6.153687 seconds (586.28 k allocations: 20.180 GiB, 6.90% gc time, 1.27% compilation time)\n",
      "\n",
      "============================================================\n",
      "         REARRANGEMENT MATRIX SYMMETRY CHECK\n",
      "============================================================\n",
      "Matrix dimensions: (8100, 8100)\n",
      "Maximum difference: 1.387779e-16\n",
      "Mean difference:    2.062303e-19\n",
      "Tolerance:          1.000000e-12\n",
      "\n",
      "✓ PASSED: Rxy_31 = Rxy_32 (within tolerance)\n",
      "  This confirms particle exchange symmetry\n",
      "============================================================\n",
      "  Computing RHS = LHS \\ VRxy...   2.744690 seconds (19 allocations: 3.422 GiB, 1.61% gc time)\n",
      "    Arnoldi iter 1: λ_temp = 0.0013483803351998142, λ_old = 0.0, diff = 0.0013483803351998142\n",
      "    Arnoldi iter 4: λ_temp = 0.9965002503160727, λ_old = 0.0013483803351998142, diff = 0.9951518699808729\n",
      "    Arnoldi iter 6: λ_temp = 1.0064239411081153, λ_old = 0.9965002503160727, diff = 0.009923690792042583\n",
      "    Arnoldi iter 8: λ_temp = 1.0026004861240299, λ_old = 1.0064239411081153, diff = 0.003823454984085428\n",
      "    Arnoldi iter 10: λ_temp = 1.0038987589952755, λ_old = 1.0026004861240299, diff = 0.0012982728712456204\n",
      "    Arnoldi iter 12: λ_temp = 1.0039878687641006, λ_old = 1.0038987589952755, diff = 8.910976882514632e-5\n",
      "    Arnoldi iter 14: λ_temp = 1.0039941085741078, λ_old = 1.0039878687641006, diff = 6.239810007135915e-6\n",
      "    Arnoldi iter 16: λ_temp = 1.00399404173291, λ_old = 1.0039941085741078, diff = 6.684119768785024e-8\n",
      "    Early convergence at iteration 16\n",
      "  Arnoldi: 16 iterations\n",
      "  Computing RHS = LHS \\ VRxy...   2.755236 seconds (19 allocations: 3.422 GiB, 3.67% gc time)\n",
      "    Arnoldi iter 1: λ_temp = 1.1031459728041844, λ_old = 0.0, diff = 1.1031459728041844\n",
      "    Arnoldi iter 4: λ_temp = 1.0706679674548023, λ_old = 1.1031459728041844, diff = 0.032478005349382055\n",
      "    Arnoldi iter 6: λ_temp = 1.0706017494113098, λ_old = 1.0706679674548023, diff = 6.621804349249416e-5\n",
      "    Arnoldi iter 8: λ_temp = 1.0706129302117597, λ_old = 1.0706017494113098, diff = 1.1180800449928086e-5\n",
      "    Arnoldi iter 10: λ_temp = 1.0706104268101395, λ_old = 1.0706129302117597, diff = 2.5034016202241105e-6\n",
      "    Arnoldi iter 12: λ_temp = 1.0706104082984873, λ_old = 1.0706104268101395, diff = 1.851165221111728e-8\n",
      "    Early convergence at iteration 12\n",
      "  Arnoldi: 12 iterations (fast)\n",
      "Initial: E =  -7.5000 MeV, λ =   1.003994, |λ-1| = 3.99e-03\n",
      "Initial: E =  -6.5000 MeV, λ =   1.070610, |λ-1| = 7.06e-02\n",
      "----------------------------------------------------------------------\n",
      "  Computing RHS = LHS \\ VRxy...   2.745663 seconds (19 allocations: 3.422 GiB, 3.67% gc time)\n",
      "    Arnoldi iter 1: λ_temp = 0.9650760140474618, λ_old = 0.0, diff = 0.9650760140474618\n",
      "    Arnoldi iter 4: λ_temp = 1.0003367696831635, λ_old = 0.9650760140474618, diff = 0.035260755635701746\n",
      "    Arnoldi iter 6: λ_temp = 1.000431000166455, λ_old = 1.0003367696831635, diff = 9.423048329137984e-5\n",
      "    Arnoldi iter 8: λ_temp = 1.0004115997736034, λ_old = 1.000431000166455, diff = 1.9400392851531834e-5\n",
      "    Arnoldi iter 10: λ_temp = 1.0004150991558658, λ_old = 1.0004115997736034, diff = 3.4993822624063142e-6\n",
      "    Arnoldi iter 12: λ_temp = 1.0004151365680716, λ_old = 1.0004150991558658, diff = 3.7412205777798135e-8\n",
      "    Early convergence at iteration 12\n",
      "  Arnoldi: 12 iterations (fast)\n",
      "Iter  1: E =  -7.5600 MeV, λ =   1.000415, |λ-1| = 4.15e-04\n",
      "  Computing RHS = LHS \\ VRxy...   2.732919 seconds (19 allocations: 3.422 GiB, 3.79% gc time)\n",
      "    Arnoldi iter 1: λ_temp = 0.9645294803458544, λ_old = 0.0, diff = 0.9645294803458544\n",
      "    Arnoldi iter 4: λ_temp = 0.9999646002495979, λ_old = 0.9645294803458544, diff = 0.035435119903743484\n",
      "    Arnoldi iter 6: λ_temp = 1.0000592979104483, λ_old = 0.9999646002495979, diff = 9.469766085046238e-5\n",
      "    Arnoldi iter 8: λ_temp = 1.0000397561352663, λ_old = 1.0000592979104483, diff = 1.9541775182041476e-5\n",
      "    Arnoldi iter 10: λ_temp = 1.0000432788320823, λ_old = 1.0000397561352663, diff = 3.5226968160273486e-6\n",
      "    Arnoldi iter 12: λ_temp = 1.0000433165415483, λ_old = 1.0000432788320823, diff = 3.770946599424008e-8\n",
      "    Early convergence at iteration 12\n",
      "  Arnoldi: 12 iterations (fast)\n",
      "Iter  2: E =  -7.5662 MeV, λ =   1.000043, |λ-1| = 4.33e-05\n",
      "  Computing RHS = LHS \\ VRxy...   2.758043 seconds (19 allocations: 3.422 GiB, 3.63% gc time)\n",
      "    Arnoldi iter 1: λ_temp = 0.9644658609334003, λ_old = 0.0, diff = 0.9644658609334003\n",
      "    Arnoldi iter 4: λ_temp = 0.9999212720225934, λ_old = 0.9644658609334003, diff = 0.035455411089193145\n",
      "    Arnoldi iter 6: λ_temp = 1.0000160240389688, λ_old = 0.9999212720225934, diff = 9.475201637543229e-5\n",
      "    Arnoldi iter 8: λ_temp = 0.9999964657729019, λ_old = 1.0000160240389688, diff = 1.9558266066921348e-5\n",
      "    Arnoldi iter 10: λ_temp = 0.9999999911876176, λ_old = 0.9999964657729019, diff = 3.52541471571044e-6\n",
      "    Arnoldi iter 12: λ_temp = 1.0000000289317832, λ_old = 0.9999999911876176, diff = 3.7744165570785526e-8\n",
      "    Early convergence at iteration 12\n",
      "  Arnoldi: 12 iterations (fast)\n",
      "Iter  3: E =  -7.5670 MeV, λ =   1.000000, |λ-1| = 2.89e-08\n",
      "Total normalization check: ⟨Ψ̄|B|Ψ̄⟩ = 0.9413677199594499, expected = 1.0\n",
      "\n",
      "Channel probability contributions:\n",
      "------------------------------------------------------------\n",
      "  Ch  1: (l₁₂=0,s₁₂=0.0)J₁₂=0.0, (λ₃=0,s₃=0.5)J₃=0.5, J=0.5; T₁₂=1.0, t₃=0.5, T=0.5:  30.7305%\n",
      "  Ch  2: (l₁₂=0,s₁₂=1.0)J₁₂=1.0, (λ₃=0,s₃=0.5)J₃=0.5, J=0.5; T₁₂=0.0, t₃=0.5, T=0.5:  60.6035%\n",
      "  Ch  3: (l₁₂=0,s₁₂=1.0)J₁₂=1.0, (λ₃=2,s₃=0.5)J₃=1.5, J=0.5; T₁₂=0.0, t₃=0.5, T=0.5:   0.6943%\n",
      "  Ch  4: (l₁₂=2,s₁₂=0.0)J₁₂=2.0, (λ₃=2,s₃=0.5)J₃=1.5, J=0.5; T₁₂=1.0, t₃=0.5, T=0.5:   0.0099%\n",
      "  Ch  5: (l₁₂=2,s₁₂=0.0)J₁₂=2.0, (λ₃=2,s₃=0.5)J₃=2.5, J=0.5; T₁₂=1.0, t₃=0.5, T=0.5:   0.0134%\n",
      "  Ch  6: (l₁₂=2,s₁₂=1.0)J₁₂=1.0, (λ₃=0,s₃=0.5)J₃=0.5, J=0.5; T₁₂=0.0, t₃=0.5, T=0.5:   7.7476%\n",
      "  Ch  7: (l₁₂=2,s₁₂=1.0)J₁₂=1.0, (λ₃=2,s₃=0.5)J₃=1.5, J=0.5; T₁₂=0.0, t₃=0.5, T=0.5:   0.1838%\n",
      "  Ch  8: (l₁₂=2,s₁₂=1.0)J₁₂=2.0, (λ₃=2,s₃=0.5)J₃=1.5, J=0.5; T₁₂=0.0, t₃=0.5, T=0.5:   0.0087%\n",
      "  Ch  9: (l₁₂=2,s₁₂=1.0)J₁₂=2.0, (λ₃=2,s₃=0.5)J₃=2.5, J=0.5; T₁₂=0.0, t₃=0.5, T=0.5:   0.0085%\n",
      "------------------------------------------------------------\n",
      "----------------------------------------------------------------------\n",
      "✓ CONVERGED!\n",
      "Ground state energy:  -7.566955 MeV\n",
      "Final eigenvalue λ:     1.000000\n",
      "Binding energy:        7.566955 MeV\n",
      "\n",
      "Expectation values:\n",
      "  <ψ|T|ψ>      =  46.762784 MeV\n",
      "  <ψ|V|ψ>      = -54.329739 MeV\n",
      "  <ψ|H|ψ>      =  -7.566955 MeV\n",
      "\n",
      "Energy difference:     0.000000 MeV\n",
      "✓ Energy consistency check: PASSED\n",
      "======================================================================\n",
      "\n",
      "==================================================\n",
      "    MALFIET-TJON CALCULATION SUMMARY\n",
      "==================================================\n",
      "Status: ✓ CONVERGED\n",
      "Ground state energy:  -7.566955 MeV\n",
      "Binding energy:        7.566955 MeV\n",
      "Final λ eigenvalue:  1.00000003\n",
      "Iterations:          3\n",
      "==================================================\n"
     ]
    }
   ],
   "source": [
    "include(\"MalflietTjon.jl\")\n",
    "using .MalflietTjon\n",
    "\n",
    "# Solve using Malfiet-Tjon method with initial energy guesses\n",
    "println(\"=\"^70)\n",
    "println(\"    MALFIET-TJON METHOD FOR ³H GROUND STATE\")\n",
    "println(\"=\"^70)\n",
    "\n",
    "# Use better initial energy guesses based on direct diagonalization result\n",
    "\n",
    "    E0_guess = -7.5\n",
    "    E1_guess = -6.5\n",
    "\n",
    "result,ψtot, ψ3  = malfiet_tjon_solve(α, grid, potname, e2b,\n",
    "                           E0=E0_guess,       # First energy guess (MeV)\n",
    "                           E1=E1_guess,       # Second energy guess (MeV) \n",
    "                           tolerance=1e-6,     # Convergence tolerance |λ-1|\n",
    "                           max_iterations=30,  # Reduced max iterations\n",
    "                           verbose=true)       # Print iteration details\n",
    "\n",
    "# Print comprehensive summary\n",
    "print_convergence_summary(result)\n",
    "\n",
    "nothing"
   ]
  },
  {
   "cell_type": "markdown",
   "metadata": {},
   "source": [
    "## Wave Function Structure Analysis\n",
    "\n",
    "Examine the spatial structure and channel composition of the ³H wave function."
   ]
  },
  {
   "cell_type": "markdown",
   "metadata": {},
   "source": [
    "## Summary\n",
    "\n",
    "This calculation demonstrates the Faddeev method applied to ³H (tritium):\n",
    "\n",
    "1. **Three-nucleon physics**: Exact treatment of correlations in the simplest neutron-rich nucleus\n",
    "2. **Identical particle effects**: Proper symmetry treatment for two neutrons \n",
    "3. **Channel coupling**: Multi-channel approach captures nuclear structure complexity\n",
    "4. **Neutron pairing**: Wave function analysis reveals neutron-neutron correlation patterns\n",
    "5. **Benchmark system**: ³H serves as a testing ground for three-body methods in nuclear physics\n",
    "\n",
    "The framework provides fundamental insights into few-nucleon systems and validates computational approaches for more complex nuclear calculations."
   ]
  }
 ],
 "metadata": {
  "kernelspec": {
   "display_name": "Julia 1.11.4",
   "language": "julia",
   "name": "julia-1.11"
  },
  "language_info": {
   "file_extension": ".jl",
   "mimetype": "application/julia",
   "name": "julia",
   "version": "1.11.4"
  }
 },
 "nbformat": 4,
 "nbformat_minor": 4
}
