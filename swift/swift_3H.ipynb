{
 "cells": [
  {
   "cell_type": "markdown",
   "metadata": {},
   "source": [
    "# Three-Body Bound State Calculation for ³H (Tritium)\n",
    "\n",
    "This notebook computes the bound state of ³H (tritium) using the Faddeev method.\n",
    "³H consists of one proton and two neutrons with quantum numbers J^π = 1/2^+, making it the simplest three-nucleon system."
   ]
  },
  {
   "cell_type": "markdown",
   "metadata": {},
   "source": [
    "## Initialize channel configuration and computational mesh for ³H bound state calculation\n",
    "\n",
    "For ³H (tritium):\n",
    "- One proton (p) + two neutrons (n,n)\n",
    "- Total charge = +1, so MT = -0.5 \n",
    "- Spin-parity quantum numbers: $J^π$ = $1/2^+$\n",
    "- Total isospin T = 1/2\n",
    "- No Coulomb repulsion between neutrons"
   ]
  },
  {
   "cell_type": "code",
   "execution_count": 1,
   "metadata": {},
   "outputs": [
    {
     "name": "stdout",
     "output_type": "stream",
     "text": [
      "For J=0.5 T=0.5 parity=1 parity_pair=1 Number of channels: 5\n",
      "---The coupling coefficients are\n",
      " α3b| α2b |( l ( s1 s2 ) s12 ) J12 ( λ s3 ) J3 ,   J; ( t1 t2 ) T12 , t3 , T >\n",
      "  1 |   1 |( 0 (0.5 0.5) 0.0)  0.0 ( 0 0.5) 0.5, 0.5; (0.5 0.5) 1.0, 0.5, 0.5 > \n",
      "  2 |   2 |( 0 (0.5 0.5) 1.0)  1.0 ( 0 0.5) 0.5, 0.5; (0.5 0.5) 0.0, 0.5, 0.5 > \n",
      "  3 |   2 |( 0 (0.5 0.5) 1.0)  1.0 ( 2 0.5) 1.5, 0.5; (0.5 0.5) 0.0, 0.5, 0.5 > \n",
      "  4 |   3 |( 2 (0.5 0.5) 1.0)  1.0 ( 0 0.5) 0.5, 0.5; (0.5 0.5) 0.0, 0.5, 0.5 > \n",
      "  5 |   3 |( 2 (0.5 0.5) 1.0)  1.0 ( 2 0.5) 1.5, 0.5; (0.5 0.5) 0.0, 0.5, 0.5 > \n",
      "scaling factor for x: 0.18859695545615252\n"
     ]
    }
   ],
   "source": [
    "include(\"../general_modules/channels.jl\")\n",
    "include(\"../general_modules/mesh.jl\")\n",
    "using .channels\n",
    "using .mesh\n",
    "\n",
    "fermion=true; Jtot = 0.5; T = 0.5; Parity=1\n",
    "lmax=2; lmin=0; λmax=2; λmin=0; s1=0.5; s2=0.5; s3=0.5; t1=0.5; t2=0.5; t3=0.5; MT=-0.5 # -0.5 for 3H\n",
    "j2bmax=1.0  # Maximum J12 (two-body angular momentum)\n",
    "nθ=12; nx=30; ny=30; xmax=20; ymax=20; alpha=1\n",
    "\n",
    "α= α3b(fermion,Jtot,T,Parity,lmax,lmin,λmax,λmin,s1,s2,s3,t1,t2,t3,MT,j2bmax,1)  # parity_pair parameter added with default=1\n",
    "grid= initialmesh(nθ,nx,ny,Float64(xmax),Float64(ymax),Float64(alpha));\n",
    "\n",
    "nothing"
   ]
  },
  {
   "cell_type": "markdown",
   "metadata": {},
   "source": [
    "## Calculate deuteron bound state using nuclear potential\n",
    "\n",
    "First we need the two-body (deuteron) binding energy as a reference threshold.\n",
    "The deuteron is the bound state of a proton and neutron and provides the breakup threshold for ³H."
   ]
  },
  {
   "cell_type": "code",
   "execution_count": 2,
   "metadata": {},
   "outputs": [
    {
     "name": "stdout",
     "output_type": "stream",
     "text": [
      "\n",
      "Two-body channel configuration:\n",
      "  Total angular momentum J = 1.0\n",
      "  Parity = +\n",
      "  Number of channels: 2\n",
      "    Channel 1: 3S₁ (l=0, s=1.0)\n",
      "    Channel 2: 3D₁ (l=2, s=1.0)\n",
      "\n",
      "============================================================\n",
      "           TWO-BODY BOUND STATE ANALYSIS\n",
      "============================================================\n",
      "\n",
      "Bound State #1:\n",
      "  Binding Energy: -2.223939 MeV\n",
      "  Total J^π = 1⁺\n",
      "\n",
      "  Channel Composition:\n",
      "    Channel 1: 3S₁ (l=0, s=1.0) - 94.24%\n",
      "    Channel 2: 3D₁ (l=2, s=1.0) - 5.76%\n",
      "\n",
      "  D-state Probability: 5.762%\n",
      "  S-state Probability: 94.238%\n",
      "\n",
      "============================================================\n",
      "SUMMARY: Found 1 bound state(s)\n",
      "Binding energies (MeV): [-2.223939]\n",
      "============================================================\n"
     ]
    }
   ],
   "source": [
    "include(\"twobody.jl\")\n",
    "using .twobodybound\n",
    "\n",
    "potname=\"AV18\"\n",
    "e2b, ψ =bound2b(grid, potname); \n",
    "\n",
    "nothing"
   ]
  },
  {
   "cell_type": "markdown",
   "metadata": {},
   "source": [
    "## Compute ³H bound state using Faddeev Equations\n",
    "\n",
    "Now we solve the three-body Faddeev equations to find the ³H ground state.\n",
    "The calculation includes:\n",
    "- Nuclear attraction between all nucleon pairs (p-n, n-n interactions)\n",
    "- Proper treatment of identical particle (neutron) symmetry\n",
    "- Multi-channel coupling between different angular momentum states"
   ]
  },
  {
   "cell_type": "code",
   "execution_count": null,
   "metadata": {},
   "outputs": [],
   "source": [
    "include(\"threebodybound.jl\")\n",
    "using .threebodybound\n",
    "\n",
    "bound_states = ThreeBody_Bound(α, grid, potname, e2b);\n",
    "\n",
    "nothing"
   ]
  },
  {
   "cell_type": "markdown",
   "metadata": {},
   "source": [
    "## Alternative Solution: Malfiet-Tjon Method\n",
    "\n",
    "Now we solve the same ³H bound state problem using the Malfiet-Tjon iterative method.\n",
    "This approach reformulates the Faddeev equation as an eigenvalue problem where λ(E) = 1 \n",
    "corresponds to the ground state energy, and uses the secant method for convergence."
   ]
  },
  {
   "cell_type": "code",
   "execution_count": 3,
   "metadata": {},
   "outputs": [
    {
     "name": "stdout",
     "output_type": "stream",
     "text": [
      "======================================================================\n",
      "    MALFIET-TJON METHOD FOR ³H GROUND STATE\n",
      "======================================================================\n",
      "\n",
      "======================================================================\n",
      "         MALFIET-TJON EIGENVALUE SOLVER\n",
      "======================================================================\n",
      "Potential: AV18\n",
      "Two-body threshold: -2.223939 MeV\n",
      "Initial energy guesses: E0 = -7.5 MeV, E1 = -6.5 MeV\n",
      "Convergence tolerance: 1.0e-6\n",
      "Maximum iterations: 30\n",
      "Eigenvalue method: Arnoldi (Krylov dim: 50)\n",
      "Arnoldi tolerance: 1.0e-6\n",
      "----------------------------------------------------------------------\n",
      "  Building matrices...   2.042053 seconds (408.01 k allocations: 4.600 GiB, 11.45% gc time, 0.53% compilation time)\n",
      "\n",
      "============================================================\n",
      "         REARRANGEMENT MATRIX SYMMETRY CHECK\n",
      "============================================================\n",
      "Matrix dimensions: (4500, 4500)\n",
      "Maximum difference: 1.110223e-16\n",
      "Mean difference:    1.457478e-19\n",
      "Tolerance:          1.000000e-12\n",
      "\n",
      "✓ PASSED: Rxy_31 = Rxy_32 (within tolerance)\n",
      "  This confirms particle exchange symmetry\n",
      "============================================================\n",
      "  Computing RHS = LHS \\ VRxy...   2.643800 seconds (19 allocations: 1.056 GiB, 0.44% gc time)\n",
      "    Arnoldi iter 1: λ_temp = 0.0010078132209994897, λ_old = 0.0, diff = 0.0010078132209994897\n",
      "    Arnoldi iter 4: λ_temp = 0.6160856908625816, λ_old = 0.0010078132209994897, diff = 0.6150778776415821\n",
      "    Arnoldi iter 6: λ_temp = 0.9059743134612435, λ_old = 0.6160856908625816, diff = 0.2898886225986619\n",
      "    Arnoldi iter 8: λ_temp = 0.9738059362792483, λ_old = 0.9059743134612435, diff = 0.06783162281800481\n",
      "    Arnoldi iter 10: λ_temp = 0.9812607377657994, λ_old = 0.9738059362792483, diff = 0.007454801486551088\n",
      "    Arnoldi iter 12: λ_temp = 0.9814624205955599, λ_old = 0.9812607377657994, diff = 0.00020168282976051888\n",
      "    Arnoldi iter 14: λ_temp = 0.9814499967456719, λ_old = 0.9814624205955599, diff = 1.2423849887976957e-5\n",
      "    Arnoldi iter 16: λ_temp = 0.9814499529019908, λ_old = 0.9814499967456719, diff = 4.384368113008463e-8\n",
      "    Early convergence at iteration 16\n",
      "  Arnoldi: 16 iterations\n",
      "  Computing RHS = LHS \\ VRxy...   2.720311 seconds (19 allocations: 1.056 GiB, 2.25% gc time)\n",
      "    Arnoldi iter 1: λ_temp = 1.0755385656519838, λ_old = 0.0, diff = 1.0755385656519838\n",
      "    Arnoldi iter 4: λ_temp = 1.0452484664742627, λ_old = 1.0755385656519838, diff = 0.030290099177721075\n",
      "    Arnoldi iter 6: λ_temp = 1.045266084329886, λ_old = 1.0452484664742627, diff = 1.7617855623264234e-5\n",
      "    Arnoldi iter 8: λ_temp = 1.045267212925983, λ_old = 1.045266084329886, diff = 1.1285960970219833e-6\n",
      "    Arnoldi iter 10: λ_temp = 1.0452652678515484, λ_old = 1.045267212925983, diff = 1.9450744346283244e-6\n",
      "    Arnoldi iter 12: λ_temp = 1.0452654280142353, λ_old = 1.0452652678515484, diff = 1.6016268689078572e-7\n",
      "    Early convergence at iteration 12\n",
      "  Arnoldi: 12 iterations (fast)\n",
      "Initial: E =  -7.5000 MeV, λ =   0.981450, |λ-1| = 1.86e-02\n",
      "Initial: E =  -6.5000 MeV, λ =   1.045265, |λ-1| = 4.53e-02\n",
      "----------------------------------------------------------------------\n",
      "  Computing RHS = LHS \\ VRxy...   2.817128 seconds (19 allocations: 1.056 GiB, 2.07% gc time)\n",
      "    Arnoldi iter 1: λ_temp = 0.9754757630515448, λ_old = 0.0, diff = 0.9754757630515448\n",
      "    Arnoldi iter 4: λ_temp = 0.9986755735901022, λ_old = 0.9754757630515448, diff = 0.023199810538557353\n",
      "    Arnoldi iter 6: λ_temp = 0.9986754429909964, λ_old = 0.9986755735901022, diff = 1.3059910575208278e-7\n",
      "    Early convergence at iteration 6\n",
      "  Arnoldi: 6 iterations (fast)\n",
      "Iter  1: E =  -7.2093 MeV, λ =   0.998675, |λ-1| = 1.32e-03\n",
      "  Computing RHS = LHS \\ VRxy...   2.794113 seconds (19 allocations: 1.056 GiB, 2.11% gc time)\n",
      "    Arnoldi iter 1: λ_temp = 0.9772939749373881, λ_old = 0.0, diff = 0.9772939749373881\n",
      "    Arnoldi iter 4: λ_temp = 0.9999072234814321, λ_old = 0.9772939749373881, diff = 0.022613248544044007\n",
      "    Arnoldi iter 6: λ_temp = 0.9999071895912626, λ_old = 0.9999072234814321, diff = 3.389016955956947e-8\n",
      "    Early convergence at iteration 6\n",
      "  Arnoldi: 6 iterations (fast)\n",
      "Iter  2: E =  -7.1892 MeV, λ =   0.999907, |λ-1| = 9.28e-05\n",
      "  Computing RHS = LHS \\ VRxy...   2.832791 seconds (19 allocations: 1.056 GiB, 2.13% gc time)\n",
      "    Arnoldi iter 1: λ_temp = 0.9774313306977286, λ_old = 0.0, diff = 0.9774313306977286\n",
      "    Arnoldi iter 4: λ_temp = 1.0000002278388505, λ_old = 0.9774313306977286, diff = 0.02256889714112187\n",
      "    Arnoldi iter 6: λ_temp = 1.000000200985514, λ_old = 1.0000002278388505, diff = 2.6853336443366516e-8\n",
      "    Early convergence at iteration 6\n",
      "  Arnoldi: 6 iterations (fast)\n",
      "Iter  3: E =  -7.1876 MeV, λ =   1.000000, |λ-1| = 2.01e-07\n",
      "Total normalization check: ⟨Ψ̄|B|Ψ̄⟩ = 0.9604464129184328, expected = 1.0\n",
      "----------------------------------------------------------------------\n",
      "✓ CONVERGED!\n",
      "Ground state energy:  -7.187632 MeV\n",
      "Final eigenvalue λ:     1.000000\n",
      "Binding energy:        7.187632 MeV\n",
      "\n",
      "Expectation values:\n",
      "  <ψ|T|ψ>      =  46.399753 MeV\n",
      "  <ψ|V|ψ>      = -53.587233 MeV\n",
      "  <ψ|H|ψ>      =  -7.187480 MeV\n",
      "\n",
      "Energy difference:     0.000152 MeV\n",
      "✓ Energy consistency check: PASSED\n",
      "======================================================================\n",
      "\n",
      "==================================================\n",
      "    MALFIET-TJON CALCULATION SUMMARY\n",
      "==================================================\n",
      "Status: ✓ CONVERGED\n",
      "Ground state energy:  -7.187632 MeV\n",
      "Binding energy:        7.187632 MeV\n",
      "Final λ eigenvalue:  1.00000020\n",
      "Iterations:          3\n",
      "==================================================\n"
     ]
    }
   ],
   "source": [
    "include(\"MalflietTjon.jl\")\n",
    "using .MalflietTjon\n",
    "\n",
    "# Solve using Malfiet-Tjon method with initial energy guesses\n",
    "println(\"=\"^70)\n",
    "println(\"    MALFIET-TJON METHOD FOR ³H GROUND STATE\")\n",
    "println(\"=\"^70)\n",
    "\n",
    "# Use better initial energy guesses based on direct diagonalization result\n",
    "# The direct method found binding energy around -6.83 MeV, so use guesses around that\n",
    "\n",
    "    E0_guess = -7.5\n",
    "    E1_guess = -6.5\n",
    "\n",
    "result,ψtot, ψ3  = malfiet_tjon_solve(α, grid, potname, e2b,\n",
    "                           E0=E0_guess,       # First energy guess (MeV)\n",
    "                           E1=E1_guess,       # Second energy guess (MeV) \n",
    "                           tolerance=1e-6,     # Convergence tolerance |λ-1|\n",
    "                           max_iterations=30,  # Reduced max iterations\n",
    "                           verbose=true)       # Print iteration details\n",
    "\n",
    "# Print comprehensive summary\n",
    "print_convergence_summary(result)\n",
    "\n",
    "nothing"
   ]
  },
  {
   "cell_type": "code",
   "execution_count": 4,
   "metadata": {},
   "outputs": [
    {
     "name": "stdout",
     "output_type": "stream",
     "text": [
      "For J=0.5 T=0.0 parity=1 parity_pair=nothing Number of channels: 16\n",
      "---The coupling coefficients are\n",
      " α3b| α2b |( l ( s1 s2 ) s12 ) J12 ( λ s3 ) J3 ,   J; ( t1 t2 ) T12 , t3 , T >\n",
      "  1 |   1 |( 0 (0.5 0.5) 0.0)  0.0 ( 0 0.5) 0.5, 0.5; (0.0 0.0) 0.0, 0.0, 0.0 > \n",
      "  2 |   2 |( 0 (0.5 0.5) 1.0)  1.0 ( 0 0.5) 0.5, 0.5; (0.0 0.0) 0.0, 0.0, 0.0 > \n",
      "  3 |   2 |( 0 (0.5 0.5) 1.0)  1.0 ( 2 0.5) 1.5, 0.5; (0.0 0.0) 0.0, 0.0, 0.0 > \n",
      "  4 |   3 |( 1 (0.5 0.5) 0.0)  1.0 ( 1 0.5) 0.5, 0.5; (0.0 0.0) 0.0, 0.0, 0.0 > \n",
      "  5 |   3 |( 1 (0.5 0.5) 0.0)  1.0 ( 1 0.5) 1.5, 0.5; (0.0 0.0) 0.0, 0.0, 0.0 > \n",
      "  6 |   4 |( 1 (0.5 0.5) 1.0)  0.0 ( 1 0.5) 0.5, 0.5; (0.0 0.0) 0.0, 0.0, 0.0 > \n",
      "  7 |   5 |( 1 (0.5 0.5) 1.0)  1.0 ( 1 0.5) 0.5, 0.5; (0.0 0.0) 0.0, 0.0, 0.0 > \n",
      "  8 |   5 |( 1 (0.5 0.5) 1.0)  1.0 ( 1 0.5) 1.5, 0.5; (0.0 0.0) 0.0, 0.0, 0.0 > \n",
      "  9 |   6 |( 1 (0.5 0.5) 1.0)  2.0 ( 1 0.5) 1.5, 0.5; (0.0 0.0) 0.0, 0.0, 0.0 > \n",
      " 10 |   7 |( 2 (0.5 0.5) 0.0)  2.0 ( 2 0.5) 1.5, 0.5; (0.0 0.0) 0.0, 0.0, 0.0 > \n",
      " 11 |   7 |( 2 (0.5 0.5) 0.0)  2.0 ( 2 0.5) 2.5, 0.5; (0.0 0.0) 0.0, 0.0, 0.0 > \n",
      " 12 |   8 |( 2 (0.5 0.5) 1.0)  1.0 ( 0 0.5) 0.5, 0.5; (0.0 0.0) 0.0, 0.0, 0.0 > \n",
      " 13 |   8 |( 2 (0.5 0.5) 1.0)  1.0 ( 2 0.5) 1.5, 0.5; (0.0 0.0) 0.0, 0.0, 0.0 > \n",
      " 14 |   9 |( 2 (0.5 0.5) 1.0)  2.0 ( 2 0.5) 1.5, 0.5; (0.0 0.0) 0.0, 0.0, 0.0 > \n",
      " 15 |   9 |( 2 (0.5 0.5) 1.0)  2.0 ( 2 0.5) 2.5, 0.5; (0.0 0.0) 0.0, 0.0, 0.0 > \n",
      " 16 |  10 |( 3 (0.5 0.5) 1.0)  2.0 ( 1 0.5) 1.5, 0.5; (0.0 0.0) 0.0, 0.0, 0.0 > \n",
      "Testing permutation operator identity...\n",
      "Input wavefunction size: (4500,)\n",
      "Test wavefunction: only channel 1 active, others zero\n",
      "Non-zero elements in channel 1: 900\n",
      "Rxy_plus (P+) matrix size: (14400, 14400)\n",
      "Rxy_minus (P-) matrix size: (14400, 14400)\n",
      "\n",
      "Permutation identity test results:\n",
      "||P- * P+ * ψ - ψ|| = 0.5010319065527747\n",
      "||P+ * P- * ψ - ψ|| = 0.5010319065527747\n",
      "||P- * P+ * ψ - P+ * P- * ψ|| = 0.452860206405278\n",
      "\n",
      "Test results (tolerance = 1.0e-12):\n",
      "P- * P+ = I: FAIL\n",
      "P+ * P- = I: FAIL\n",
      "P+ and P- commute: FAIL\n",
      "\n",
      "✗ Some permutation operator tests FAILED\n"
     ]
    },
    {
     "data": {
      "text/plain": [
       "false"
      ]
     },
     "execution_count": 4,
     "metadata": {},
     "output_type": "execute_result"
    }
   ],
   "source": [
    "include(\"test_permutation_operators.jl\")\n",
    "using .TestPermutationOperators\n",
    "\n",
    "\n",
    "fermion=false; Jtot = 0.5; T = 0.0; Parity=1\n",
    "lmax=4; lmin=0; λmax=2; λmin=0; s1=0.5; s2=0.5; s3=0.5; t1=0.0; t2=0.0; t3=0.0; MT=0.0 # -0.5 for 3H\n",
    "j2bmax=2.0  # Maximum J12 (two-body angular momentum)\n",
    "\n",
    "α= α3b(fermion,Jtot,T,Parity,lmax,lmin,λmax,λmin,s1,s2,s3,t1,t2,t3,MT,j2bmax) \n",
    "\n",
    "\n",
    "\n",
    "\n",
    "test_permutation_identity(α, grid, ψ3)"
   ]
  },
  {
   "cell_type": "markdown",
   "metadata": {},
   "source": [
    "## Wave Function Structure Analysis\n",
    "\n",
    "Examine the spatial structure and channel composition of the ³H wave function."
   ]
  },
  {
   "cell_type": "markdown",
   "metadata": {},
   "source": [
    "## Summary\n",
    "\n",
    "This calculation demonstrates the Faddeev method applied to ³H (tritium):\n",
    "\n",
    "1. **Three-nucleon physics**: Exact treatment of correlations in the simplest neutron-rich nucleus\n",
    "2. **Identical particle effects**: Proper symmetry treatment for two neutrons \n",
    "3. **Channel coupling**: Multi-channel approach captures nuclear structure complexity\n",
    "4. **Neutron pairing**: Wave function analysis reveals neutron-neutron correlation patterns\n",
    "5. **Benchmark system**: ³H serves as a testing ground for three-body methods in nuclear physics\n",
    "\n",
    "The framework provides fundamental insights into few-nucleon systems and validates computational approaches for more complex nuclear calculations."
   ]
  }
 ],
 "metadata": {
  "kernelspec": {
   "display_name": "Julia 1.11.4",
   "language": "julia",
   "name": "julia-1.11"
  },
  "language_info": {
   "file_extension": ".jl",
   "mimetype": "application/julia",
   "name": "julia",
   "version": "1.11.4"
  }
 },
 "nbformat": 4,
 "nbformat_minor": 4
}
