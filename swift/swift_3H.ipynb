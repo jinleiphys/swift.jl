{
 "cells": [
  {
   "cell_type": "markdown",
   "metadata": {},
   "source": [
    "# Three-Body Bound State Calculation for ³H (Tritium)\n",
    "\n",
    "This notebook computes the bound state of ³H (tritium) using the Faddeev method.\n",
    "³H consists of one proton and two neutrons with quantum numbers J^π = 1/2^+, making it the simplest three-nucleon system."
   ]
  },
  {
   "cell_type": "markdown",
   "metadata": {},
   "source": [
    "## Initialize channel configuration and computational mesh for ³H bound state calculation\n",
    "\n",
    "For ³H (tritium):\n",
    "- One proton (p) + two neutrons (n,n)\n",
    "- Total charge = +1, so MT = -0.5 \n",
    "- Spin-parity quantum numbers: $J^π$ = $1/2^+$\n",
    "- Total isospin T = 1/2\n",
    "- No Coulomb repulsion between neutrons"
   ]
  },
  {
   "cell_type": "code",
   "execution_count": 1,
   "metadata": {},
   "outputs": [
    {
     "name": "stdout",
     "output_type": "stream",
     "text": [
      "For J=0.5 T=0.5 parity=1 parity_pair=1 Number of channels: 5\n",
      "---The coupling coefficients are\n",
      " a3b |( l ( s1 s2 ) s12 ) J12 ( λ s3 ) J3 ,   J; ( t1 t2 ) T12 , t3 , T >\n",
      "   1 |( 0 (0.5 0.5) 0.0)  0.0 ( 0 0.5) 0.5, 0.5; (0.5 0.5) 1.0, 0.5, 0.5 > \n",
      "   2 |( 0 (0.5 0.5) 1.0)  1.0 ( 0 0.5) 0.5, 0.5; (0.5 0.5) 0.0, 0.5, 0.5 > \n",
      "   3 |( 0 (0.5 0.5) 1.0)  1.0 ( 2 0.5) 1.5, 0.5; (0.5 0.5) 0.0, 0.5, 0.5 > \n",
      "   4 |( 2 (0.5 0.5) 1.0)  1.0 ( 0 0.5) 0.5, 0.5; (0.5 0.5) 0.0, 0.5, 0.5 > \n",
      "   5 |( 2 (0.5 0.5) 1.0)  1.0 ( 2 0.5) 1.5, 0.5; (0.5 0.5) 0.0, 0.5, 0.5 > \n",
      "scaling factor for x: 0.18859695545615252\n"
     ]
    }
   ],
   "source": [
    "include(\"../general_modules/channels.jl\")\n",
    "include(\"../general_modules/mesh.jl\")\n",
    "using .channels\n",
    "using .mesh\n",
    "\n",
    "fermion=true; Jtot = 0.5; T = 0.5; Parity=1\n",
    "lmax=6; lmin=0; λmax=2; λmin=0; s1=0.5; s2=0.5; s3=0.5; t1=0.5; t2=0.5; t3=0.5; MT=-0.5 # -0.5 for 3H\n",
    "j2bmax=1.0  # Maximum J12 (two-body angular momentum)\n",
    "nθ=12; nx=30; ny=30; xmax=20; ymax=20; alpha=1\n",
    "\n",
    "α= α3b(fermion,Jtot,T,Parity,lmax,lmin,λmax,λmin,s1,s2,s3,t1,t2,t3,MT,j2bmax)  # parity_pair parameter added with default=1\n",
    "grid= initialmesh(nθ,nx,ny,Float64(xmax),Float64(ymax),Float64(alpha));\n",
    "\n",
    "nothing"
   ]
  },
  {
   "cell_type": "markdown",
   "metadata": {},
   "source": [
    "## Calculate deuteron bound state using nuclear potential\n",
    "\n",
    "First we need the two-body (deuteron) binding energy as a reference threshold.\n",
    "The deuteron is the bound state of a proton and neutron and provides the breakup threshold for ³H."
   ]
  },
  {
   "cell_type": "code",
   "execution_count": 2,
   "metadata": {},
   "outputs": [
    {
     "name": "stdout",
     "output_type": "stream",
     "text": [
      "\n",
      "Two-body channel configuration:\n",
      "  Total angular momentum J = 1.0\n",
      "  Parity = +\n",
      "  Number of channels: 2\n",
      "    Channel 1: 3S₁ (l=0, s=1.0)\n",
      "    Channel 2: 3D₁ (l=2, s=1.0)\n",
      "\n",
      "============================================================\n",
      "           TWO-BODY BOUND STATE ANALYSIS\n",
      "============================================================\n",
      "\n",
      "Bound State #1:\n",
      "  Binding Energy: -2.223939 MeV\n",
      "  Total J^π = 1⁺\n",
      "\n",
      "  Channel Composition:\n",
      "    Channel 1: 3S₁ (l=0, s=1.0) - 94.24%\n",
      "    Channel 2: 3D₁ (l=2, s=1.0) - 5.76%\n",
      "\n",
      "  D-state Probability: 5.762%\n",
      "  S-state Probability: 94.238%\n",
      "\n",
      "============================================================\n",
      "SUMMARY: Found 1 bound state(s)\n",
      "Binding energies (MeV): [-2.223939]\n",
      "============================================================\n"
     ]
    }
   ],
   "source": [
    "include(\"twobody.jl\")\n",
    "using .twobodybound\n",
    "\n",
    "potname=\"AV18\"\n",
    "e2b, ψ =bound2b(grid, potname); \n",
    "\n",
    "nothing"
   ]
  },
  {
   "cell_type": "markdown",
   "metadata": {},
   "source": [
    "## Compute ³H bound state using Faddeev Equations\n",
    "\n",
    "Now we solve the three-body Faddeev equations to find the ³H ground state.\n",
    "The calculation includes:\n",
    "- Nuclear attraction between all nucleon pairs (p-n, n-n interactions)\n",
    "- Proper treatment of identical particle (neutron) symmetry\n",
    "- Multi-channel coupling between different angular momentum states"
   ]
  },
  {
   "cell_type": "code",
   "execution_count": null,
   "metadata": {},
   "outputs": [],
   "source": [
    "include(\"threebodybound.jl\")\n",
    "using .threebodybound\n",
    "\n",
    "bound_states = ThreeBody_Bound(α, grid, potname, e2b);\n",
    "\n",
    "nothing"
   ]
  },
  {
   "cell_type": "markdown",
   "metadata": {},
   "source": [
    "## Alternative Solution: Malfiet-Tjon Method\n",
    "\n",
    "Now we solve the same ³H bound state problem using the Malfiet-Tjon iterative method.\n",
    "This approach reformulates the Faddeev equation as an eigenvalue problem where λ(E) = 1 \n",
    "corresponds to the ground state energy, and uses the secant method for convergence."
   ]
  },
  {
   "cell_type": "code",
   "execution_count": 3,
   "metadata": {},
   "outputs": [
    {
     "name": "stdout",
     "output_type": "stream",
     "text": [
      "======================================================================\n",
      "    MALFIET-TJON METHOD FOR ³H GROUND STATE\n",
      "======================================================================\n",
      "\n",
      "======================================================================\n",
      "         MALFIET-TJON EIGENVALUE SOLVER\n",
      "======================================================================\n",
      "Potential: AV18\n",
      "Two-body threshold: -2.223939 MeV\n",
      "Initial energy guesses: E0 = -7.5 MeV, E1 = -6.5 MeV\n",
      "Convergence tolerance: 1.0e-6\n",
      "Maximum iterations: 30\n",
      "Eigenvalue method: Arnoldi (Krylov dim: 50)\n",
      "Arnoldi tolerance: 1.0e-6\n",
      "----------------------------------------------------------------------\n",
      "  Building matrices...   2.123263 seconds (963.38 k allocations: 4.616 GiB, 11.77% gc time, 0.53% compilation time)\n",
      "  Computing RHS = LHS \\ VRxy...   0.686925 seconds (19 allocations: 1.056 GiB, 12.24% gc time)\n",
      "    Arnoldi iter 1: λ_temp = 0.001081026550947382, λ_old = 0.0, diff = 0.001081026550947382\n",
      "    Arnoldi iter 4: λ_temp = 0.5641422115356394, λ_old = 0.001081026550947382, diff = 0.563061184984692\n",
      "    Arnoldi iter 6: λ_temp = 0.9004653917766554, λ_old = 0.5641422115356394, diff = 0.33632318024101604\n",
      "    Arnoldi iter 8: λ_temp = 0.9729578595038151, λ_old = 0.9004653917766554, diff = 0.07249246772715967\n",
      "    Arnoldi iter 10: λ_temp = 0.9827552212527577, λ_old = 0.9729578595038151, diff = 0.009797361748942635\n",
      "    Arnoldi iter 12: λ_temp = 0.9829321263063635, λ_old = 0.9827552212527577, diff = 0.00017690505360579145\n",
      "    Arnoldi iter 14: λ_temp = 0.9829202960801461, λ_old = 0.9829321263063635, diff = 1.1830226217424133e-5\n",
      "    Arnoldi iter 16: λ_temp = 0.9829201205393604, λ_old = 0.9829202960801461, diff = 1.7554078568515763e-7\n",
      "    Early convergence at iteration 16\n",
      "  Arnoldi: 16 iterations\n",
      "  Computing RHS = LHS \\ VRxy...   0.655834 seconds (19 allocations: 1.056 GiB, 19.50% gc time)\n",
      "    Arnoldi iter 1: λ_temp = 1.0771581250445972, λ_old = 0.0, diff = 1.0771581250445972\n",
      "    Arnoldi iter 4: λ_temp = 1.04655354815247, λ_old = 1.0771581250445972, diff = 0.030604576892127255\n",
      "    Arnoldi iter 6: λ_temp = 1.0465646852637147, λ_old = 1.04655354815247, diff = 1.1137111244785558e-5\n",
      "    Arnoldi iter 8: λ_temp = 1.0465669815102672, λ_old = 1.0465646852637147, diff = 2.296246552457859e-6\n",
      "    Arnoldi iter 10: λ_temp = 1.0465648863322505, λ_old = 1.0465669815102672, diff = 2.095178016636723e-6\n",
      "    Arnoldi iter 12: λ_temp = 1.0465650507582325, λ_old = 1.0465648863322505, diff = 1.6442598194110758e-7\n",
      "    Early convergence at iteration 12\n",
      "  Arnoldi: 12 iterations (fast)\n",
      "Initial: E =  -7.5000 MeV, λ =   0.982920, |λ-1| = 1.71e-02\n",
      "Initial: E =  -6.5000 MeV, λ =   1.046565, |λ-1| = 4.66e-02\n",
      "----------------------------------------------------------------------\n",
      "  Computing RHS = LHS \\ VRxy...   0.613006 seconds (19 allocations: 1.056 GiB, 13.84% gc time)\n",
      "    Arnoldi iter 1: λ_temp = 0.974680206823503, λ_old = 0.0, diff = 0.974680206823503\n",
      "    Arnoldi iter 4: λ_temp = 0.9987398340866502, λ_old = 0.974680206823503, diff = 0.024059627263147254\n",
      "    Arnoldi iter 6: λ_temp = 0.9987446280205843, λ_old = 0.9987398340866502, diff = 4.793933934044148e-6\n",
      "    Arnoldi iter 8: λ_temp = 0.9987415176699792, λ_old = 0.9987446280205843, diff = 3.1103506050733642e-6\n",
      "    Arnoldi iter 10: λ_temp = 0.9987434191215989, λ_old = 0.9987415176699792, diff = 1.9014516197124465e-6\n",
      "    Arnoldi iter 12: λ_temp = 0.9987432639109386, λ_old = 0.9987434191215989, diff = 1.5521066032420094e-7\n",
      "    Early convergence at iteration 12\n",
      "  Arnoldi: 12 iterations (fast)\n",
      "Iter  1: E =  -7.2316 MeV, λ =   0.998743, |λ-1| = 1.26e-03\n",
      "  Computing RHS = LHS \\ VRxy...   0.590730 seconds (19 allocations: 1.056 GiB, 11.41% gc time)\n",
      "    Arnoldi iter 1: λ_temp = 0.9764065950950543, λ_old = 0.0, diff = 0.9764065950950543\n",
      "    Arnoldi iter 4: λ_temp = 0.9999056917050014, λ_old = 0.9764065950950543, diff = 0.02349909660994709\n",
      "    Arnoldi iter 6: λ_temp = 0.9999104785170324, λ_old = 0.9999056917050014, diff = 4.786812030976861e-6\n",
      "    Arnoldi iter 8: λ_temp = 0.9999074768660181, λ_old = 0.9999104785170324, diff = 3.0016510143004993e-6\n",
      "    Arnoldi iter 10: λ_temp = 0.9999093241800747, λ_old = 0.9999074768660181, diff = 1.847314056613314e-6\n",
      "    Arnoldi iter 12: λ_temp = 0.9999091740335625, λ_old = 0.9999093241800747, diff = 1.5014651222333697e-7\n",
      "    Early convergence at iteration 12\n",
      "  Arnoldi: 12 iterations (fast)\n",
      "Iter  2: E =  -7.2124 MeV, λ =   0.999909, |λ-1| = 9.08e-05\n",
      "  Computing RHS = LHS \\ VRxy...   0.543786 seconds (19 allocations: 1.056 GiB, 2.78% gc time)\n",
      "    Arnoldi iter 1: λ_temp = 0.9765414157350559, λ_old = 0.0, diff = 0.9765414157350559\n",
      "    Arnoldi iter 4: λ_temp = 0.9999967013872595, λ_old = 0.9765414157350559, diff = 0.02345528565220356\n",
      "    Arnoldi iter 6: λ_temp = 1.0000014873485101, λ_old = 0.9999967013872595, diff = 4.78596125064179e-6\n",
      "    Arnoldi iter 8: λ_temp = 0.9999984941039404, λ_old = 1.0000014873485101, diff = 2.993244569760023e-6\n",
      "    Arnoldi iter 10: λ_temp = 1.0000003372095347, λ_old = 0.9999984941039404, diff = 1.8431055943679553e-6\n",
      "    Arnoldi iter 12: λ_temp = 1.0000001874551894, λ_old = 1.0000003372095347, diff = 1.4975434536879106e-7\n",
      "    Early convergence at iteration 12\n",
      "  Arnoldi: 12 iterations (fast)\n",
      "Iter  3: E =  -7.2109 MeV, λ =   1.000000, |λ-1| = 1.87e-07\n",
      "----------------------------------------------------------------------\n",
      "✓ CONVERGED!\n",
      "Ground state energy:  -7.210913 MeV\n",
      "Final eigenvalue λ:     1.000000\n",
      "Binding energy:        7.210913 MeV\n",
      "\n",
      "Expectation values:\n",
      "  <ψ|T|ψ>/<ψ|B|ψ>      =  71.032198 MeV\n",
      "  <ψ|V|ψ>/<ψ|B|ψ>      = -42.162959 MeV\n",
      "  <ψ|V*Rxy|ψ>/<ψ|B|ψ>  = -36.080158 MeV\n",
      "  <ψ|H|ψ>/<ψ|B|ψ>      =  -7.210920 MeV\n",
      "\n",
      "Energy difference:     0.000007 MeV\n",
      "✓ Energy consistency check: PASSED\n",
      "======================================================================\n",
      "\n",
      "==================================================\n",
      "    MALFIET-TJON CALCULATION SUMMARY\n",
      "==================================================\n",
      "Status: ✓ CONVERGED\n",
      "Ground state energy:  -7.210913 MeV\n",
      "Binding energy:        7.210913 MeV\n",
      "Final λ eigenvalue:  1.00000019\n",
      "Iterations:          3\n",
      "==================================================\n"
     ]
    }
   ],
   "source": [
    "include(\"MalflietTjon.jl\")\n",
    "using .MalflietTjon\n",
    "\n",
    "# Solve using Malfiet-Tjon method with initial energy guesses\n",
    "println(\"=\"^70)\n",
    "println(\"    MALFIET-TJON METHOD FOR ³H GROUND STATE\")\n",
    "println(\"=\"^70)\n",
    "\n",
    "# Use better initial energy guesses based on direct diagonalization result\n",
    "# The direct method found binding energy around -6.83 MeV, so use guesses around that\n",
    "\n",
    "    E0_guess = -7.5\n",
    "    E1_guess = -6.5\n",
    "\n",
    "result = malfiet_tjon_solve(α, grid, potname, e2b,\n",
    "                           E0=E0_guess,       # First energy guess (MeV)\n",
    "                           E1=E1_guess,       # Second energy guess (MeV) \n",
    "                           tolerance=1e-6,     # Convergence tolerance |λ-1|\n",
    "                           max_iterations=30,  # Reduced max iterations\n",
    "                           verbose=true)       # Print iteration details\n",
    "\n",
    "# Print comprehensive summary\n",
    "print_convergence_summary(result)\n",
    "\n",
    "nothing"
   ]
  },
  {
   "cell_type": "markdown",
   "metadata": {},
   "source": [
    "## Wave Function Structure Analysis\n",
    "\n",
    "Examine the spatial structure and channel composition of the ³H wave function."
   ]
  },
  {
   "cell_type": "markdown",
   "metadata": {},
   "source": [
    "## Summary\n",
    "\n",
    "This calculation demonstrates the Faddeev method applied to ³H (tritium):\n",
    "\n",
    "1. **Three-nucleon physics**: Exact treatment of correlations in the simplest neutron-rich nucleus\n",
    "2. **Identical particle effects**: Proper symmetry treatment for two neutrons \n",
    "3. **Channel coupling**: Multi-channel approach captures nuclear structure complexity\n",
    "4. **Neutron pairing**: Wave function analysis reveals neutron-neutron correlation patterns\n",
    "5. **Benchmark system**: ³H serves as a testing ground for three-body methods in nuclear physics\n",
    "\n",
    "The framework provides fundamental insights into few-nucleon systems and validates computational approaches for more complex nuclear calculations."
   ]
  }
 ],
 "metadata": {
  "kernelspec": {
   "display_name": "Julia 1.11.4",
   "language": "julia",
   "name": "julia-1.11"
  },
  "language_info": {
   "file_extension": ".jl",
   "mimetype": "application/julia",
   "name": "julia",
   "version": "1.11.4"
  }
 },
 "nbformat": 4,
 "nbformat_minor": 4
}
