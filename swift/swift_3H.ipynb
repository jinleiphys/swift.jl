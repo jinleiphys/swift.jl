{
 "cells": [
  {
   "cell_type": "markdown",
   "metadata": {},
   "source": [
    "# Three-Body Bound State Calculation for ³H (Tritium)\n",
    "\n",
    "This notebook computes the bound state of ³H (tritium) using the Faddeev method.\n",
    "³H consists of one proton and two neutrons with quantum numbers J^π = 1/2^+, making it the simplest three-nucleon system."
   ]
  },
  {
   "cell_type": "markdown",
   "metadata": {},
   "source": [
    "## Initialize channel configuration and computational mesh for ³H bound state calculation\n",
    "\n",
    "For ³H (tritium):\n",
    "- One proton (p) + two neutrons (n,n)\n",
    "- Total charge = +1, so MT = -0.5 \n",
    "- Spin-parity quantum numbers: $J^π$ = $1/2^+$\n",
    "- Total isospin T = 1/2\n",
    "- No Coulomb repulsion between neutrons"
   ]
  },
  {
   "cell_type": "code",
   "execution_count": null,
   "metadata": {},
   "outputs": [
    {
     "name": "stdout",
     "output_type": "stream",
     "text": [
      "For J=0.5 T=0.5 parity=1 parity_pair=1 Number of channels: 3\n",
      "---The coupling coefficients are\n",
      " a3b |( l ( s1 s2 ) s12 ) J12 ( λ s3 ) J3 ,   J; ( t1 t2 ) T12 , t3 , T >\n",
      "   1 |( 0 (0.5 0.5) 0.0)  0.0 ( 0 0.5) 0.5, 0.5; (0.5 0.5) 1.0, 0.5, 0.5 > \n",
      "   2 |( 0 (0.5 0.5) 1.0)  1.0 ( 0 0.5) 0.5, 0.5; (0.5 0.5) 0.0, 0.5, 0.5 > \n",
      "   3 |( 2 (0.5 0.5) 1.0)  1.0 ( 0 0.5) 0.5, 0.5; (0.5 0.5) 0.0, 0.5, 0.5 > \n",
      "scaling factor for x: 0.18859695545615252\n"
     ]
    }
   ],
   "source": [
    "include(\"../general_modules/channels.jl\")\n",
    "include(\"../general_modules/mesh.jl\")\n",
    "using .channels\n",
    "using .mesh\n",
    "\n",
    "fermion=true; Jtot = 0.5; T = 0.5; Parity=1\n",
    "lmax=6; lmin=0; λmax=4; λmin=0; s1=0.5; s2=0.5; s3=0.5; t1=0.5; t2=0.5; t3=0.5; MT=-0.5 # -0.5 for 3H\n",
    "j2bmax=1.0  # Maximum J12 (two-body angular momentum)\n",
    "nθ=12; nx=30; ny=30; xmax=20; ymax=20; alpha=1\n",
    "\n",
    "α= α3b(fermion,Jtot,T,Parity,lmax,lmin,λmax,λmin,s1,s2,s3,t1,t2,t3,MT,j2bmax)  # parity_pair parameter added with default=1\n",
    "grid= initialmesh(nθ,nx,ny,Float64(xmax),Float64(ymax),Float64(alpha));\n",
    "\n",
    "nothing"
   ]
  },
  {
   "cell_type": "markdown",
   "metadata": {},
   "source": [
    "## Calculate deuteron bound state using nuclear potential\n",
    "\n",
    "First we need the two-body (deuteron) binding energy as a reference threshold.\n",
    "The deuteron is the bound state of a proton and neutron and provides the breakup threshold for ³H."
   ]
  },
  {
   "cell_type": "code",
   "execution_count": null,
   "metadata": {},
   "outputs": [],
   "source": [
    "include(\"twobody.jl\")\n",
    "using .twobodybound\n",
    "\n",
    "potname=\"MT\"\n",
    "e2b, ψ =bound2b(grid, potname); \n",
    "\n",
    "nothing"
   ]
  },
  {
   "cell_type": "markdown",
   "metadata": {},
   "source": [
    "## Compute ³H bound state using Faddeev Equations\n",
    "\n",
    "Now we solve the three-body Faddeev equations to find the ³H ground state.\n",
    "The calculation includes:\n",
    "- Nuclear attraction between all nucleon pairs (p-n, n-n interactions)\n",
    "- Proper treatment of identical particle (neutron) symmetry\n",
    "- Multi-channel coupling between different angular momentum states"
   ]
  },
  {
   "cell_type": "code",
   "execution_count": null,
   "metadata": {},
   "outputs": [],
   "source": [
    "include(\"threebodybound.jl\")\n",
    "using .threebodybound\n",
    "\n",
    "bound_states = ThreeBody_Bound(α, grid, potname, e2b);\n",
    "\n",
    "nothing"
   ]
  },
  {
   "cell_type": "markdown",
   "metadata": {},
   "source": [
    "## Alternative Solution: Malfiet-Tjon Method\n",
    "\n",
    "Now we solve the same ³H bound state problem using the Malfiet-Tjon iterative method.\n",
    "This approach reformulates the Faddeev equation as an eigenvalue problem where λ(E) = 1 \n",
    "corresponds to the ground state energy, and uses the secant method for convergence."
   ]
  },
  {
   "cell_type": "code",
   "execution_count": null,
   "metadata": {},
   "outputs": [],
   "source": [
    "include(\"MalflietTjon.jl\")\n",
    "using .MalflietTjon\n",
    "\n",
    "# Solve using Malfiet-Tjon method with initial energy guesses\n",
    "println(\"=\"^70)\n",
    "println(\"    MALFIET-TJON METHOD FOR ³H GROUND STATE\")\n",
    "println(\"=\"^70)\n",
    "\n",
    "# Use better initial energy guesses based on direct diagonalization result\n",
    "# The direct method found binding energy around -6.83 MeV, so use guesses around that\n",
    "\n",
    "    E0_guess = -7.5\n",
    "    E1_guess = -6.5\n",
    "\n",
    "result = malfiet_tjon_solve(α, grid, potname, e2b,\n",
    "                           E0=E0_guess,       # First energy guess (MeV)\n",
    "                           E1=E1_guess,       # Second energy guess (MeV) \n",
    "                           tolerance=1e-6,     # Convergence tolerance |λ-1|\n",
    "                           max_iterations=30,  # Reduced max iterations\n",
    "                           verbose=true)       # Print iteration details\n",
    "\n",
    "# Print comprehensive summary\n",
    "print_convergence_summary(result)\n",
    "\n",
    "nothing"
   ]
  },
  {
   "cell_type": "markdown",
   "metadata": {},
   "source": [
    "## Wave Function Structure Analysis\n",
    "\n",
    "Examine the spatial structure and channel composition of the ³H wave function."
   ]
  },
  {
   "cell_type": "markdown",
   "metadata": {},
   "source": [
    "## Summary\n",
    "\n",
    "This calculation demonstrates the Faddeev method applied to ³H (tritium):\n",
    "\n",
    "1. **Three-nucleon physics**: Exact treatment of correlations in the simplest neutron-rich nucleus\n",
    "2. **Identical particle effects**: Proper symmetry treatment for two neutrons \n",
    "3. **Channel coupling**: Multi-channel approach captures nuclear structure complexity\n",
    "4. **Neutron pairing**: Wave function analysis reveals neutron-neutron correlation patterns\n",
    "5. **Benchmark system**: ³H serves as a testing ground for three-body methods in nuclear physics\n",
    "\n",
    "The framework provides fundamental insights into few-nucleon systems and validates computational approaches for more complex nuclear calculations."
   ]
  }
 ],
 "metadata": {
  "kernelspec": {
   "display_name": "Julia 1.11.4",
   "language": "julia",
   "name": "julia-1.11"
  },
  "language_info": {
   "file_extension": ".jl",
   "mimetype": "application/julia",
   "name": "julia",
   "version": "1.11.4"
  }
 },
 "nbformat": 4,
 "nbformat_minor": 4
}
