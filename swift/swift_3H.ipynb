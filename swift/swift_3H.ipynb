{
 "cells": [
  {
   "cell_type": "markdown",
   "metadata": {},
   "source": [
    "# Three-Body Bound State Calculation for ³H (Tritium)\n",
    "\n",
    "This notebook computes the bound state of ³H (tritium) using the Faddeev method.\n",
    "³H consists of one proton and two neutrons with quantum numbers J^π = 1/2^+, making it the simplest three-nucleon system."
   ]
  },
  {
   "cell_type": "markdown",
   "metadata": {},
   "source": [
    "## Initialize channel configuration and computational mesh for ³H bound state calculation\n",
    "\n",
    "For ³H (tritium):\n",
    "- One proton (p) + two neutrons (n,n)\n",
    "- Total charge = +1, so MT = -0.5 \n",
    "- Spin-parity quantum numbers: $J^π$ = $1/2^+$\n",
    "- Total isospin T = 1/2\n",
    "- No Coulomb repulsion between neutrons"
   ]
  },
  {
   "cell_type": "code",
   "execution_count": 1,
   "metadata": {},
   "outputs": [
    {
     "name": "stdout",
     "output_type": "stream",
     "text": [
      "For J=0.5 T=0.5 parity=1 parity_pair=1 Number of channels: 5\n",
      "---The coupling coefficients are\n",
      " a3b |( l ( s1 s2 ) s12 ) J12 ( λ s3 ) J3 ,   J; ( t1 t2 ) T12 , t3 , T >\n",
      "   1 |( 0 (0.5 0.5) 0.0)  0.0 ( 0 0.5) 0.5, 0.5; (0.5 0.5) 1.0, 0.5, 0.5 > \n",
      "   2 |( 0 (0.5 0.5) 1.0)  1.0 ( 0 0.5) 0.5, 0.5; (0.5 0.5) 0.0, 0.5, 0.5 > \n",
      "   3 |( 0 (0.5 0.5) 1.0)  1.0 ( 2 0.5) 1.5, 0.5; (0.5 0.5) 0.0, 0.5, 0.5 > \n",
      "   4 |( 2 (0.5 0.5) 1.0)  1.0 ( 0 0.5) 0.5, 0.5; (0.5 0.5) 0.0, 0.5, 0.5 > \n",
      "   5 |( 2 (0.5 0.5) 1.0)  1.0 ( 2 0.5) 1.5, 0.5; (0.5 0.5) 0.0, 0.5, 0.5 > \n",
      "scaling factor for x: 0.18859695545615252\n"
     ]
    }
   ],
   "source": [
    "include(\"../general_modules/channels.jl\")\n",
    "include(\"../general_modules/mesh.jl\")\n",
    "using .channels\n",
    "using .mesh\n",
    "\n",
    "fermion=true; Jtot = 0.5; T = 0.5; Parity=1\n",
    "lmax=4; lmin=0; λmax=4; λmin=0; s1=0.5; s2=0.5; s3=0.5; t1=0.5; t2=0.5; t3=0.5; MT=-0.5 # -0.5 for 3H\n",
    "j2bmax=1.0  # Maximum J12 (two-body angular momentum)\n",
    "nθ=12; nx=30; ny=30; xmax=20; ymax=20; alpha=1\n",
    "\n",
    "α= α3b(fermion,Jtot,T,Parity,lmax,lmin,λmax,λmin,s1,s2,s3,t1,t2,t3,MT,j2bmax,1)  # parity_pair parameter added with default=1\n",
    "grid= initialmesh(nθ,nx,ny,Float64(xmax),Float64(ymax),Float64(alpha));\n",
    "\n",
    "nothing"
   ]
  },
  {
   "cell_type": "markdown",
   "metadata": {},
   "source": [
    "## Calculate deuteron bound state using nuclear potential\n",
    "\n",
    "First we need the two-body (deuteron) binding energy as a reference threshold.\n",
    "The deuteron is the bound state of a proton and neutron and provides the breakup threshold for ³H."
   ]
  },
  {
   "cell_type": "code",
   "execution_count": 2,
   "metadata": {},
   "outputs": [
    {
     "name": "stdout",
     "output_type": "stream",
     "text": [
      "\n",
      "Two-body channel configuration:\n",
      "  Total angular momentum J = 1.0\n",
      "  Parity = +\n",
      "  Number of channels: 2\n",
      "    Channel 1: 3S₁ (l=0, s=1.0)\n",
      "    Channel 2: 3D₁ (l=2, s=1.0)\n",
      "\n",
      "============================================================\n",
      "           TWO-BODY BOUND STATE ANALYSIS\n",
      "============================================================\n",
      "\n",
      "Bound State #1:\n",
      "  Binding Energy: -2.223939 MeV\n",
      "  Total J^π = 1⁺\n",
      "\n",
      "  Channel Composition:\n",
      "    Channel 1: 3S₁ (l=0, s=1.0) - 94.24%\n",
      "    Channel 2: 3D₁ (l=2, s=1.0) - 5.76%\n",
      "\n",
      "  D-state Probability: 5.762%\n",
      "  S-state Probability: 94.238%\n",
      "\n",
      "============================================================\n",
      "SUMMARY: Found 1 bound state(s)\n",
      "Binding energies (MeV): [-2.223939]\n",
      "============================================================\n"
     ]
    }
   ],
   "source": [
    "include(\"twobody.jl\")\n",
    "using .twobodybound\n",
    "\n",
    "potname=\"AV14\"\n",
    "e2b, ψ =bound2b(grid, potname); \n",
    "\n",
    "nothing"
   ]
  },
  {
   "cell_type": "markdown",
   "metadata": {},
   "source": [
    "## Compute ³H bound state using Faddeev Equations\n",
    "\n",
    "Now we solve the three-body Faddeev equations to find the ³H ground state.\n",
    "The calculation includes:\n",
    "- Nuclear attraction between all nucleon pairs (p-n, n-n interactions)\n",
    "- Proper treatment of identical particle (neutron) symmetry\n",
    "- Multi-channel coupling between different angular momentum states"
   ]
  },
  {
   "cell_type": "code",
   "execution_count": 3,
   "metadata": {},
   "outputs": [
    {
     "name": "stdout",
     "output_type": "stream",
     "text": [
      "\n",
      "============================================================\n",
      "         TIMING ANALYSIS: ThreeBody_Bound\n",
      "============================================================\n",
      "Building matrices...\n",
      "Total matrix construction time: 2.7947 seconds\n",
      "\n",
      "Solving eigenvalue problem...\n",
      "Eigenvalue decomposition: 212.0065 seconds\n",
      "\n",
      "============================================================\n",
      "         THREE-BODY BOUND STATE ANALYSIS\n",
      "============================================================\n",
      "Two-body threshold energy: -2.223939 MeV\n",
      "Searching for three-body bound states...\n",
      "\n",
      "Three-body Bound State #1:\n",
      "  Binding Energy: -7.210916 MeV\n",
      "  Energy gain from 2-body: -4.986977 MeV\n",
      "  Wave function norm: 0.999999\n",
      "  B-orthogonal norm: 1.0\n",
      "  Eigenvalue energy: -7.210916 MeV\n",
      "  ⟨ψ|H|ψ⟩ energy: -7.210916 MeV\n",
      "  ⟨ψ|T|ψ⟩ kinetic energy: 71.032218 MeV\n",
      "  Energy difference: 0.0 MeV\n",
      "  ✓ Energy verification: PASSED\n",
      "\n",
      "============================================================\n",
      "SUMMARY: Found 1 three-body bound state(s)\n",
      "Three-body binding energies (MeV): [-7.210916]\n",
      "============================================================\n",
      "\n",
      "============================================================\n",
      "         DETAILED TIMING BREAKDOWN\n",
      "============================================================\n",
      "Total matrices:          2.7947 seconds (1.3%)\n",
      "\n",
      "Eigenvalue solution:     212.0065 seconds (98.7%)\n",
      "\n",
      "Bound state analysis breakdown:\n",
      "  Wave function comp:    0.0007 seconds (0.0%)\n",
      "  Normalization:         0.0000 seconds (0.0%)\n",
      "  Energy verification:   0.0100 seconds (0.0%)\n",
      "Total analysis:          0.0123 seconds (0.0%)\n",
      "\n",
      "TOTAL FUNCTION TIME:     214.8135 seconds\n",
      "\n",
      "Most time-consuming operations:\n",
      "  1. Eigenvalue decomposition: 212.0065 seconds (98.7%)\n",
      "  2. Matrix construction: 2.7947 seconds (1.3%)\n",
      "  3. Bound state analysis: 0.0123 seconds (0.0%)\n",
      "============================================================\n"
     ]
    }
   ],
   "source": [
    "include(\"threebodybound.jl\")\n",
    "using .threebodybound\n",
    "\n",
    "bound_states = ThreeBody_Bound(α, grid, potname, e2b);\n",
    "\n",
    "nothing"
   ]
  },
  {
   "cell_type": "markdown",
   "metadata": {},
   "source": [
    "## Alternative Solution: Malfiet-Tjon Method\n",
    "\n",
    "Now we solve the same ³H bound state problem using the Malfiet-Tjon iterative method.\n",
    "This approach reformulates the Faddeev equation as an eigenvalue problem where λ(E) = 1 \n",
    "corresponds to the ground state energy, and uses the secant method for convergence."
   ]
  },
  {
   "cell_type": "code",
   "execution_count": 3,
   "metadata": {},
   "outputs": [
    {
     "name": "stdout",
     "output_type": "stream",
     "text": [
      "======================================================================\n",
      "    MALFIET-TJON METHOD FOR ³H GROUND STATE\n",
      "======================================================================\n",
      "\n",
      "======================================================================\n",
      "         MALFIET-TJON EIGENVALUE SOLVER\n",
      "======================================================================\n",
      "Potential: AV14\n",
      "Two-body threshold: -2.223939 MeV\n",
      "Initial energy guesses: E0 = -7.5 MeV, E1 = -6.5 MeV\n",
      "Convergence tolerance: 1.0e-6\n",
      "Maximum iterations: 30\n",
      "Eigenvalue method: Arnoldi (Krylov dim: 50)\n",
      "Arnoldi tolerance: 1.0e-6\n",
      "----------------------------------------------------------------------\n",
      "  Building matrices...   6.912544 seconds (1.13 M allocations: 21.017 GiB, 6.68% gc time, 0.17% compilation time)\n",
      "  Computing RHS = LHS \\ VRxy...   2.749467 seconds (19 allocations: 3.422 GiB, 3.77% gc time)\n",
      "    Arnoldi iter 1: λ_temp = 0.001557235699541034, λ_old = 0.0, diff = 0.001557235699541034\n",
      "    Arnoldi iter 4: λ_temp = 0.7247801493041308, λ_old = 0.001557235699541034, diff = 0.7232229136045898\n",
      "    Arnoldi iter 6: λ_temp = 0.9315643576738096, λ_old = 0.7247801493041308, diff = 0.2067842083696788\n",
      "    Arnoldi iter 8: λ_temp = 0.9461694992973667, λ_old = 0.9315643576738096, diff = 0.014605141623557083\n",
      "    Arnoldi iter 10: λ_temp = 0.9494418539008584, λ_old = 0.9461694992973667, diff = 0.003272354603491734\n",
      "    Arnoldi iter 12: λ_temp = 0.9485835671518204, λ_old = 0.9494418539008584, diff = 0.0008582867490380952\n",
      "    Arnoldi iter 14: λ_temp = 0.9486243593997251, λ_old = 0.9485835671518204, diff = 4.079224790476399e-5\n",
      "    Arnoldi iter 16: λ_temp = 0.9486269090540642, λ_old = 0.9486243593997251, diff = 2.5496543391012594e-6\n",
      "    Arnoldi iter 18: λ_temp = 0.9486269408228711, λ_old = 0.9486269090540642, diff = 3.1768806918464065e-8\n",
      "    Early convergence at iteration 18\n",
      "  Arnoldi: 18 iterations\n",
      "  Computing RHS = LHS \\ VRxy...   2.742983 seconds (19 allocations: 3.422 GiB, 3.54% gc time)\n",
      "    Arnoldi iter 1: λ_temp = 1.039502225176798, λ_old = 0.0, diff = 1.039502225176798\n",
      "    Arnoldi iter 4: λ_temp = 1.0134954835017214, λ_old = 1.039502225176798, diff = 0.02600674167507666\n",
      "    Arnoldi iter 6: λ_temp = 1.0134088503824057, λ_old = 1.0134954835017214, diff = 8.663311931567108e-5\n",
      "    Arnoldi iter 8: λ_temp = 1.0134432687724024, λ_old = 1.0134088503824057, diff = 3.441838999673763e-5\n",
      "    Arnoldi iter 10: λ_temp = 1.0134400370149388, λ_old = 1.0134432687724024, diff = 3.231757463639795e-6\n",
      "    Arnoldi iter 12: λ_temp = 1.0134402572170542, λ_old = 1.0134400370149388, diff = 2.202021154307232e-7\n",
      "    Early convergence at iteration 12\n",
      "  Arnoldi: 12 iterations (fast)\n",
      "Initial: E =  -7.5000 MeV, λ =   0.948627, |λ-1| = 5.14e-02\n",
      "Initial: E =  -6.5000 MeV, λ =   1.013440, |λ-1| = 1.34e-02\n",
      "----------------------------------------------------------------------\n",
      "  Computing RHS = LHS \\ VRxy...   2.758637 seconds (19 allocations: 3.422 GiB, 3.65% gc time)\n",
      "    Arnoldi iter 1: λ_temp = 0.9923807179896489, λ_old = 0.0, diff = 0.9923807179896489\n",
      "    Arnoldi iter 4: λ_temp = 0.9988311848474472, λ_old = 0.9923807179896489, diff = 0.006450466857798265\n",
      "    Arnoldi iter 6: λ_temp = 0.9988568403988267, λ_old = 0.9988311848474472, diff = 2.5655551379566433e-5\n",
      "    Arnoldi iter 8: λ_temp = 0.9988487475035634, λ_old = 0.9988568403988267, diff = 8.092895263267508e-6\n",
      "    Arnoldi iter 10: λ_temp = 0.9988495291586794, λ_old = 0.9988487475035634, diff = 7.816551159667284e-7\n",
      "    Early convergence at iteration 10\n",
      "  Arnoldi: 10 iterations (fast)\n",
      "Iter  1: E =  -6.7074 MeV, λ =   0.998850, |λ-1| = 1.15e-03\n",
      "  Computing RHS = LHS \\ VRxy...   2.737765 seconds (19 allocations: 3.422 GiB, 3.98% gc time)\n",
      "    Arnoldi iter 1: λ_temp = 0.9939994250506995, λ_old = 0.0, diff = 0.9939994250506995\n",
      "    Arnoldi iter 4: λ_temp = 0.9999588432633199, λ_old = 0.9939994250506995, diff = 0.00595941821262036\n",
      "    Arnoldi iter 6: λ_temp = 0.9999824485546399, λ_old = 0.9999588432633199, diff = 2.3605291320061283e-5\n",
      "    Arnoldi iter 8: λ_temp = 0.9999750216301552, λ_old = 0.9999824485546399, diff = 7.42692448474358e-6\n",
      "    Arnoldi iter 10: λ_temp = 0.9999757397194051, λ_old = 0.9999750216301552, diff = 7.180892499514258e-7\n",
      "    Early convergence at iteration 10\n",
      "  Arnoldi: 10 iterations (fast)\n",
      "Iter  2: E =  -6.6910 MeV, λ =   0.999976, |λ-1| = 2.43e-05\n",
      "  Computing RHS = LHS \\ VRxy...   2.729194 seconds (19 allocations: 3.422 GiB, 3.70% gc time)\n",
      "    Arnoldi iter 1: λ_temp = 0.9940343709630365, λ_old = 0.0, diff = 0.9940343709630365\n",
      "    Arnoldi iter 4: λ_temp = 0.9999831792381454, λ_old = 0.9940343709630365, diff = 0.005948808275108908\n",
      "    Arnoldi iter 6: λ_temp = 1.000006740411608, λ_old = 0.9999831792381454, diff = 2.3561173462582907e-5\n",
      "    Arnoldi iter 8: λ_temp = 0.9999993277801189, λ_old = 1.000006740411608, diff = 7.412631489067678e-6\n",
      "    Arnoldi iter 10: λ_temp = 1.000000044503653, λ_old = 0.9999993277801189, diff = 7.167235340777012e-7\n",
      "    Early convergence at iteration 10\n",
      "  Arnoldi: 10 iterations (fast)\n",
      "Iter  3: E =  -6.6907 MeV, λ =   1.000000, |λ-1| = 4.45e-08\n",
      "----------------------------------------------------------------------\n",
      "✓ CONVERGED!\n",
      "Ground state energy:  -6.690666 MeV\n",
      "Final eigenvalue λ:     1.000000\n",
      "Binding energy:        6.690666 MeV\n",
      "Hamiltonian <H>:      -6.690670 MeV\n",
      "Energy difference:     0.000005 MeV\n",
      "✓ Energy consistency check: PASSED\n",
      "======================================================================\n",
      "\n",
      "==================================================\n",
      "    MALFIET-TJON CALCULATION SUMMARY\n",
      "==================================================\n",
      "Status: ✓ CONVERGED\n",
      "Ground state energy:  -6.690666 MeV\n",
      "Binding energy:        6.690666 MeV\n",
      "Final λ eigenvalue:  1.00000004\n",
      "Iterations:          3\n",
      "==================================================\n"
     ]
    }
   ],
   "source": [
    "include(\"MalflietTjon.jl\")\n",
    "using .MalflietTjon\n",
    "\n",
    "# Solve using Malfiet-Tjon method with initial energy guesses\n",
    "println(\"=\"^70)\n",
    "println(\"    MALFIET-TJON METHOD FOR ³H GROUND STATE\")\n",
    "println(\"=\"^70)\n",
    "\n",
    "# Use better initial energy guesses based on direct diagonalization result\n",
    "# The direct method found binding energy around -6.83 MeV, so use guesses around that\n",
    "\n",
    "    E0_guess = -7.5\n",
    "    E1_guess = -6.5\n",
    "\n",
    "result = malfiet_tjon_solve(α, grid, potname, e2b,\n",
    "                           E0=E0_guess,       # First energy guess (MeV)\n",
    "                           E1=E1_guess,       # Second energy guess (MeV) \n",
    "                           tolerance=1e-6,     # Convergence tolerance |λ-1|\n",
    "                           max_iterations=30,  # Reduced max iterations\n",
    "                           verbose=true)       # Print iteration details\n",
    "\n",
    "# Print comprehensive summary\n",
    "print_convergence_summary(result)\n",
    "\n",
    "nothing"
   ]
  },
  {
   "cell_type": "markdown",
   "metadata": {},
   "source": [
    "## Wave Function Structure Analysis\n",
    "\n",
    "Examine the spatial structure and channel composition of the ³H wave function."
   ]
  },
  {
   "cell_type": "markdown",
   "metadata": {},
   "source": [
    "## Summary\n",
    "\n",
    "This calculation demonstrates the Faddeev method applied to ³H (tritium):\n",
    "\n",
    "1. **Three-nucleon physics**: Exact treatment of correlations in the simplest neutron-rich nucleus\n",
    "2. **Identical particle effects**: Proper symmetry treatment for two neutrons \n",
    "3. **Channel coupling**: Multi-channel approach captures nuclear structure complexity\n",
    "4. **Neutron pairing**: Wave function analysis reveals neutron-neutron correlation patterns\n",
    "5. **Benchmark system**: ³H serves as a testing ground for three-body methods in nuclear physics\n",
    "\n",
    "The framework provides fundamental insights into few-nucleon systems and validates computational approaches for more complex nuclear calculations."
   ]
  }
 ],
 "metadata": {
  "kernelspec": {
   "display_name": "Julia 1.11.4",
   "language": "julia",
   "name": "julia-1.11"
  },
  "language_info": {
   "file_extension": ".jl",
   "mimetype": "application/julia",
   "name": "julia",
   "version": "1.11.4"
  }
 },
 "nbformat": 4,
 "nbformat_minor": 4
}
