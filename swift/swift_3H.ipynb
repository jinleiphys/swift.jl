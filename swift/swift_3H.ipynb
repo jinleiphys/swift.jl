{
 "cells": [
  {
   "cell_type": "markdown",
   "id": "35fddf7a",
   "metadata": {},
   "source": [
    "Initialize channel configuration and computational mesh for three-body bound state calculation"
   ]
  },
  {
   "cell_type": "code",
   "execution_count": 1,
   "id": "a01ac54f",
   "metadata": {},
   "outputs": [
    {
     "name": "stdout",
     "output_type": "stream",
     "text": [
      "For J=0.5 T=0.5 parity=1 Number of channels: 3\n",
      "---The coupling coefficients are\n",
      " a3b |( l ( s1 s2 ) s12 ) J12 ( λ s3 ) J3 ,   J; ( t1 t2 ) T12 , t3 , T >\n",
      "   1 |( 0 (0.5 0.5) 0.0)  0.0 ( 0 0.5) 0.5, 0.5; (0.5 0.5) 1.0, 0.5, 0.5 > \n",
      "   2 |( 0 (0.5 0.5) 1.0)  1.0 ( 0 0.5) 0.5, 0.5; (0.5 0.5) 0.0, 0.5, 0.5 > \n",
      "   3 |( 2 (0.5 0.5) 1.0)  1.0 ( 0 0.5) 0.5, 0.5; (0.5 0.5) 0.0, 0.5, 0.5 > \n",
      "scaling factor for x: 0.18859695545615252\n"
     ]
    }
   ],
   "source": [
    "include(\"../general_modules/channels.jl\")\n",
    "include(\"../general_modules/mesh.jl\")\n",
    "using .channels\n",
    "using .mesh\n",
    "\n",
    "fermion=true; Jtot = 0.5; T = 0.5; Parity=1\n",
    "lmax=2; lmin=0; λmax=0; λmin=0; s1=0.5; s2=0.5; s3=0.5; t1=0.5; t2=0.5; t3=0.5; MT=-0.5 # -0.5 for 3H\n",
    "nθ=12; nx=30; ny=30; xmax=20; ymax=20; alpha=1\n",
    "\n",
    "α= α3b(fermion,Jtot,T,Parity,lmax,lmin,λmax,λmin,s1,s2,s3,t1,t2,t3,MT)\n",
    "grid= initialmesh(nθ,nx,ny,Float64(xmax),Float64(ymax),Float64(alpha));\n",
    "\n",
    "nothing"
   ]
  }
 ],
 "metadata": {
  "kernelspec": {
   "display_name": "Julia 1.11.4",
   "language": "julia",
   "name": "julia-1.11"
  },
  "language_info": {
   "file_extension": ".jl",
   "mimetype": "application/julia",
   "name": "julia",
   "version": "1.11.4"
  }
 },
 "nbformat": 4,
 "nbformat_minor": 5
}
