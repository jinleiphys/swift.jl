{
 "cells": [
  {
   "cell_type": "code",
   "execution_count": 1,
   "id": "b95d98be",
   "metadata": {},
   "outputs": [],
   "source": [
    "\n",
    "using Revise\n",
    "includet(\"../general_modules/channels.jl\")\n",
    "include(\"../general_modules/mesh.jl\")\n",
    "using .channels\n",
    "using .mesh\n",
    "using JSON"
   ]
  },
  {
   "cell_type": "code",
   "execution_count": 2,
   "id": "aa562f47",
   "metadata": {},
   "outputs": [
    {
     "name": "stdout",
     "output_type": "stream",
     "text": [
      "For J=0.5 T=0.5 parity=1 Number of channels: 2\n",
      "scaling factor for x: 0.18859695545615252\n"
     ]
    },
    {
     "data": {
      "text/plain": [
       "Main.mesh.meshset(12, 30, 30, [-0.9815606342467192, -0.9041172563704748, -0.7699026741943047, -0.5873179542866175, -0.3678314989981802, -0.1252334085114689, 0.1252334085114689, 0.3678314989981802, 0.5873179542866175, 0.7699026741943047, 0.9041172563704748, 0.9815606342467192], [0.04717533638651175, 0.10693932599531826, 0.16007832854334625, 0.20316742672306587, 0.23349253653835492, 0.24914704581340288, 0.24914704581340288, 0.23349253653835492, 0.20316742672306587, 0.16007832854334625, 0.10693932599531826, 0.04717533638651175], [0.02233755499529331, 0.07493852941322005, 0.15777170988775746, 0.2710468592921538, 0.41506220089174284, 0.5902044222346922, 0.7969539970971387, 1.0358926739011418, 1.3077130639006518, 1.6132306695796537  …  7.627531701911872, 8.486257300100586, 9.419116142271335, 10.436398422075927, 11.551987684483082, 12.78547931418975, 14.16630994957712, 15.74295182755926, 17.608089697752572, 20.0], [0.03752824519482659, 0.06768997721952366, 0.09801166074965893, 0.12858830514825056, 0.15950673452274355, 0.19085766252334455, 0.22273828631746898, 0.2552543032772834, 0.288522145544282, 0.32267165514452717  …  0.8244476904128443, 0.8943070289430883, 0.9731067473070161, 1.06373863030051, 1.1706427753748438, 1.3011118272027768, 1.4682868546519336, 1.699311796159685, 2.0643743543904027, 2.8513367290896006], [0.02233755499529331, 0.07493852941322005, 0.15777170988775746, 0.2710468592921538, 0.41506220089174284, 0.5902044222346922, 0.7969539970971387, 1.0358926739011418, 1.3077130639006518, 1.6132306695796537  …  7.627531701911872, 8.486257300100586, 9.419116142271335, 10.436398422075927, 11.551987684483082, 12.78547931418975, 14.16630994957712, 15.74295182755926, 17.608089697752572, 20.0], [0.03752824519482659, 0.06768997721952366, 0.09801166074965893, 0.12858830514825056, 0.15950673452274355, 0.19085766252334455, 0.22273828631746898, 0.2552543032772834, 0.288522145544282, 0.32267165514452717  …  0.8244476904128443, 0.8943070289430883, 0.9731067473070161, 1.06373863030051, 1.1706427753748438, 1.3011118272027768, 1.4682868546519336, 1.699311796159685, 2.0643743543904027, 2.8513367290896006], 20.0, 20.0, 1.0, 0.18859695545615252, 0.18859695545615252, [0.11844069773696127, 0.39734750347357933, 0.836554914188094, 1.4371751581916195, 2.200789508440617, 3.129448303166859, 4.225699164493803, 5.492626704368935, 6.933903364122365, 8.553853192793023  …  40.44355691460364, 44.996788413552004, 49.94309754094209, 55.3370461195081, 61.25224904369593, 67.79260716731075, 75.11420274687673, 83.47405073153149, 93.36359463048878, 106.0462505962874], [0.11844069773696127, 0.39734750347357933, 0.836554914188094, 1.4371751581916195, 2.200789508440617, 3.129448303166859, 4.225699164493803, 5.492626704368935, 6.933903364122365, 8.553853192793023  …  40.44355691460364, 44.996788413552004, 49.94309754094209, 55.3370461195081, 61.25224904369593, 67.79260716731075, 75.11420274687673, 83.47405073153149, 93.36359463048878, 106.0462505962874], [5.162034125408847, 3.843596737094324, 3.1941927965575623, 2.788683736648578, 2.503862569803137, 2.288996874603539, 2.118861466554405, 1.9793083816819463, 1.8617031066243126, 1.7604333673118389  …  1.1013324792634314, 1.057442297008515, 1.0137240688379452, 0.9695775127182306, 0.9242464803301526, 0.8766832070304587, 0.8252671242464545, 0.7671202796013884, 0.6959944434613212, 0.5922100125750088], [5.162034125408847, 3.843596737094324, 3.1941927965575623, 2.788683736648578, 2.503862569803137, 2.288996874603539, 2.118861466554405, 1.9793083816819463, 1.8617031066243126, 1.7604333673118389  …  1.1013324792634314, 1.057442297008515, 1.0137240688379452, 0.9695775127182306, 0.9242464803301526, 0.8766832070304587, 0.8252671242464545, 0.7671202796013884, 0.6959944434613212, 0.5922100125750088])"
      ]
     },
     "metadata": {},
     "output_type": "display_data"
    }
   ],
   "source": [
    "data = JSON.parsefile(\"test.json\")\n",
    "Systems_params= data[\"Systems\"]\n",
    "mesh_params= data[\"Mesh\"]\n",
    "fermion=true\n",
    "α= α3b(fermion,0.5,0.5,1,Systems_params[\"lmax\"],Systems_params[\"lmin\"],Systems_params[\"λmax\"],Systems_params[\"λmin\"],Systems_params[\"s1\"],Systems_params[\"s2\"],Systems_params[\"s3\"],Systems_params[\"t1\"],Systems_params[\"t2\"],Systems_params[\"t3\"],Systems_params[\"MT\"])\n",
    "\n",
    "grid= initialmesh(mesh_params[\"nθ\"],mesh_params[\"nx\"],mesh_params[\"ny\"],Float64(mesh_params[\"xmax\"]),Float64(mesh_params[\"ymax\"]),Float64(mesh_params[\"alpha\"]))"
   ]
  },
  {
   "cell_type": "code",
   "execution_count": null,
   "id": "087a1535",
   "metadata": {},
   "outputs": [],
   "source": [
    "for i in 1:mesh_params[\"nx\"]\n",
    "    println(grid.xi[i], \"   \", grid.dxi[i])\n",
    "end"
   ]
  },
  {
   "cell_type": "code",
   "execution_count": null,
   "id": "056c1d49",
   "metadata": {},
   "outputs": [],
   "source": [
    "using Revise\n",
    "Revise.revise()\n",
    "includet(\"Gcoefficient.jl\")\n",
    "using .Gcoefficient"
   ]
  },
  {
   "cell_type": "markdown",
   "id": "9643889f",
   "metadata": {},
   "source": [
    "initialY(λmax, lmax, nθ, nx, ny, cosθi, xi, yi, P::Char)\n",
    "return Yλαout, Ylαin, Yλαin\n",
    "\n",
    "Yλin[iθ, iy, ix, nch, perm_index]"
   ]
  },
  {
   "cell_type": "markdown",
   "id": "0a47059e",
   "metadata": {},
   "source": []
  },
  {
   "cell_type": "code",
   "execution_count": null,
   "id": "6ba7154b",
   "metadata": {},
   "outputs": [],
   "source": [
    "Gαα=computeGcoefficient(α, grid)"
   ]
  },
  {
   "cell_type": "code",
   "execution_count": null,
   "id": "e1e1c070",
   "metadata": {},
   "outputs": [],
   "source": [
    "using Revise\n",
    "includet(\"twobody.jl\")\n",
    "using .twobodybound"
   ]
  },
  {
   "cell_type": "code",
   "execution_count": null,
   "id": "de84c67b",
   "metadata": {},
   "outputs": [],
   "source": [
    "potname=\"MT\"\n",
    "bound_states=bound2b(grid, potname)"
   ]
  },
  {
   "cell_type": "code",
   "execution_count": null,
   "id": "c50987ac",
   "metadata": {},
   "outputs": [],
   "source": [
    "using Revise\n",
    "includet(\"spline.jl\")\n",
    "using .spline"
   ]
  },
  {
   "cell_type": "code",
   "execution_count": null,
   "id": "55efb584",
   "metadata": {},
   "outputs": [],
   "source": [
    "\"\"\"\n",
    "Test the cubic Hermitian spline interpolation with a polynomial function.\n",
    "\"\"\"\n",
    "# Import Printf for formatting\n",
    "using Printf\n",
    "using Plots\n",
    "function test_cubherm_interpolation()\n",
    "    # Define the polynomial function f(x) = 5x^5 + 4x^4 + 3x^3 + 2x^2 + x\n",
    "    f(x) = 5*x^5 + 4*x^4 + 3*x^3 + 2*x^2 + x\n",
    "    \n",
    "    # Create a set of old grid points (coarse grid)\n",
    "    xold = collect(range(-1.0, 1.0, length=15))\n",
    "    \n",
    "    # Evaluate the function at the old grid points\n",
    "    yold = f.(xold)\n",
    "    \n",
    "    # println(\"Original grid points:\")\n",
    "    # for i in 1:length(xold)\n",
    "    #     println(\"x = $(xold[i]), f(x) = $(yold[i])\")\n",
    "    # end\n",
    "    # println()\n",
    "    \n",
    "    # Create a set of test points (fine grid) where we want to interpolate\n",
    "    xtest = collect(range(-0.95, 0.95, length=20))\n",
    "    \n",
    "    # Compute the exact values\n",
    "    yexact = f.(xtest)\n",
    "    \n",
    "    # Interpolate using our cubic Hermitian spline\n",
    "    yinterp = Float64[]\n",
    "    for x in xtest\n",
    "        push!(yinterp, cubherm_interp_point(xold, yold, x))\n",
    "    end\n",
    "    \n",
    "    # Compute errors\n",
    "    errors = abs.(yinterp - yexact)\n",
    "    max_error = maximum(errors)\n",
    "    avg_error = sum(errors) / length(errors)\n",
    "    \n",
    "    println(\"Interpolation results and errors:\")\n",
    "    println(\"   x       Exact        Interpolated       Error\")\n",
    "    println(\"------------------------------------------------------\")\n",
    "    for i in 1:length(xtest)\n",
    "        # Use simple string formatting instead of @printf/@sprintf\n",
    "        x_str = @sprintf(\"%.4f\", xtest[i])\n",
    "        exact_str = @sprintf(\"%.6f\", yexact[i])\n",
    "        interp_str = @sprintf(\"%.6f\", yinterp[i])\n",
    "        error_str = @sprintf(\"%.6e\", errors[i])\n",
    "        \n",
    "        println(\"$(lpad(x_str, 7))  $(lpad(exact_str, 12))  $(lpad(interp_str, 12))  $(lpad(error_str, 12))\")\n",
    "    end\n",
    "    \n",
    "    println(\"\\nMaximum error: $max_error\")\n",
    "    println(\"Average error: $avg_error\")\n",
    "    \n",
    "    # Optional: Plot the results if Plots.jl is available\n",
    "    try\n",
    "        \n",
    "        \n",
    "        p = plot(xold, yold, seriestype=:scatter, \n",
    "             label=\"Original Points\", markersize=6, legend=:topleft)\n",
    "        \n",
    "        plot!(p, xtest, yexact, \n",
    "              label=\"Exact Function\", linewidth=2)\n",
    "        \n",
    "        plot!(p, xtest, yinterp, \n",
    "              label=\"Interpolated\", linewidth=2, linestyle=:dash)\n",
    "        \n",
    "        # Plot error\n",
    "        p_error = plot(xtest, errors, \n",
    "                   label=\"Interpolation Error\", linewidth=2,\n",
    "                   xlabel=\"x\", ylabel=\"Error\", title=\"Interpolation Error\")\n",
    "        \n",
    "        # Display both plots\n",
    "        plot(p, p_error, layout=(2,1), size=(800, 600),\n",
    "             title=[\"Cubic Hermitian Spline Interpolation\" \"\"])\n",
    "        \n",
    "        savefig(\"interpolation_test.png\")\n",
    "        println(\"\\nPlot saved as 'interpolation_test.png'\")\n",
    "    catch\n",
    "        println(\"\\nPlotting skipped (Plots.jl not available)\")\n",
    "    end\n",
    "    \n",
    "    return max_error, avg_error\n",
    "end"
   ]
  },
  {
   "cell_type": "code",
   "execution_count": null,
   "id": "05754c5a",
   "metadata": {},
   "outputs": [],
   "source": [
    "using Printf \n",
    "test_cubherm_interpolation()"
   ]
  },
  {
   "cell_type": "code",
   "execution_count": 3,
   "id": "9cc31e61",
   "metadata": {},
   "outputs": [],
   "source": [
    "using Revise\n",
    "includet(\"matrices.jl\")\n",
    "using .matrices\n"
   ]
  },
  {
   "cell_type": "code",
   "execution_count": null,
   "id": "42addaf9",
   "metadata": {},
   "outputs": [],
   "source": [
    "Rxy=Rxy_matrix(α, grid)\n",
    "println(\"Rxy matrix:\", Rxy[30,144])"
   ]
  },
  {
   "cell_type": "code",
   "execution_count": 3,
   "id": "4075a7c2",
   "metadata": {},
   "outputs": [],
   "source": [
    "using Revise\n",
    "includet(\"threebodybound.jl\")\n",
    "using .threebodybound"
   ]
  },
  {
   "cell_type": "code",
   "execution_count": 4,
   "id": "1f48478a",
   "metadata": {},
   "outputs": [
    {
     "name": "stdout",
     "output_type": "stream",
     "text": [
      "Number of bound states: 4\n",
      "Bound state energies: ComplexF64[-9.333888242094295 - 3.411545631718321e-14im, -7.1350235218777645 + 4.1551642286712397e-14im, -4.645634472708434 - 2.9585992890054896e-14im, -0.8655240300723803 + 3.929176881579563e-14im]\n"
     ]
    },
    {
     "data": {
      "text/plain": [
       "4-element Vector{Any}:\n",
       " (-9.333888242094295 - 3.411545631718321e-14im, ComplexF64[1.1106371898053781e-7 - 4.665298654799076e-22im, 3.515137725668958e-7 - 2.4914680050097194e-21im, -5.610480851041702e-7 - 6.815968247436948e-21im, -6.6776212856079455e-6 - 2.329340604949326e-21im, -2.4976218447725498e-5 + 3.3881317890172014e-21im, -5.927691029897667e-5 - 1.2281977735187355e-20im, -0.00010349473790929702 - 1.3552527156068805e-19im, -0.00014126557965582717 - 3.5405977195229754e-19im, -0.00015675015291558746 - 5.183841637196318e-19im, -0.0001468914252912197 - 4.438452643612534e-19im  …  -0.0 + 0.0im, -0.0 + 0.0im, -0.0 + 0.0im, -0.0 + 0.0im, -0.0 + 0.0im, -0.0 + 0.0im, -0.0 + 0.0im, -0.0 + 0.0im, -0.0 + 0.0im, -0.0 + 0.0im])\n",
       " (-7.1350235218777645 + 4.1551642286712397e-14im, ComplexF64[-5.896574406211195e-8 - 1.826414792517085e-21im, -1.059185987774696e-7 + 1.0521737391674512e-21im, 1.6298652905029477e-7 + 4.622947007436361e-20im, 2.606215660379838e-6 + 2.90532300908225e-19im, 9.186121896005178e-6 + 9.287716266643403e-19im, 2.1775181680198237e-5 + 2.120970499924768e-18im, 3.8466110461202374e-5 + 3.708310243079327e-18im, 5.1866479005236024e-5 + 5.04831636563563e-18im, 5.7386886878180456e-5 + 5.6446275605026575e-18im, 5.457238435925598e-5 + 5.380353280959316e-18im  …  0.0 + 0.0im, 0.0 + 0.0im, 0.0 + 0.0im, 0.0 + 0.0im, 0.0 + 0.0im, 0.0 + 0.0im, 0.0 + 0.0im, 0.0 + 0.0im, 0.0 + 0.0im, 0.0 + 0.0im])\n",
       " (-4.645634472708434 - 2.9585992890054896e-14im, ComplexF64[2.6839371173552967e-8 + 9.328012370183924e-22im, 2.2251209347658695e-7 + 6.968996660759258e-21im, -3.6705197129226607e-7 + 4.0102543277183335e-20im, -3.2217091413515886e-6 + 1.8623475183263886e-19im, -1.2999251821067278e-5 + 5.209782021205981e-19im, -3.086056782269658e-5 + 1.0077574489958038e-18im, -5.303023094928174e-5 + 1.4325444720438354e-18im, -7.332306138045552e-5 + 1.5790811719188294e-18im, -8.148709534923227e-5 + 1.4727785370384147e-18im, -7.509458432881607e-5 + 1.3078188705606397e-18im  …  -0.0 + 0.0im, -0.0 + 0.0im, -0.0 + 0.0im, -0.0 + 0.0im, -0.0 + 0.0im, -0.0 + 0.0im, -0.0 + 0.0im, -0.0 + 0.0im, -0.0 + 0.0im, -0.0 + 0.0im])\n",
       " (-0.8655240300723803 + 3.929176881579563e-14im, ComplexF64[-1.151979502810086e-7 - 1.2308447514789052e-21im, -1.6584234285253809e-7 - 1.4823076576950256e-21im, 2.497049989250462e-7 - 2.1480226146777023e-20im, 4.612420906655452e-6 - 8.703263533037936e-20im, 1.5856691677546332e-5 - 2.583450489125616e-19im, 3.7545937412218244e-5 - 4.607859233063394e-19im, 6.657269686386197e-5 - 5.522654816098038e-19im, 8.91321712506574e-5 - 4.1335207826009857e-19im, 9.834403526637637e-5 - 1.4568966692773966e-19im, 9.408417308361282e-5 - 9.486769009248164e-20im  …  0.0 + 0.0im, 0.0 + 0.0im, 0.0 + 0.0im, 0.0 + 0.0im, 0.0 + 0.0im, 0.0 + 0.0im, 0.0 + 0.0im, 0.0 + 0.0im, 0.0 + 0.0im, 0.0 + 0.0im])"
      ]
     },
     "metadata": {},
     "output_type": "display_data"
    }
   ],
   "source": [
    "ThreeBody_Bound(α, grid)"
   ]
  },
  {
   "cell_type": "code",
   "execution_count": null,
   "id": "e789b3d1",
   "metadata": {},
   "outputs": [],
   "source": [
    "T_matrix(α,grid) "
   ]
  },
  {
   "cell_type": "code",
   "execution_count": 4,
   "id": "82eb6f13",
   "metadata": {},
   "outputs": [
    {
     "data": {
      "text/plain": [
       "1800×1800 Kronecker.KroneckerProduct{Float64, Matrix{Float64}, Matrix{Float64}}:\n",
       " 50479.3      0.0      0.0      0.0  …  0.0  0.0  0.0  0.0  0.0  0.0  0.0\n",
       "     0.0  50479.3      0.0      0.0     0.0  0.0  0.0  0.0  0.0  0.0  0.0\n",
       "     0.0      0.0  50479.3      0.0     0.0  0.0  0.0  0.0  0.0  0.0  0.0\n",
       "     0.0      0.0      0.0  50479.3     0.0  0.0  0.0  0.0  0.0  0.0  0.0\n",
       "     0.0      0.0      0.0      0.0     0.0  0.0  0.0  0.0  0.0  0.0  0.0\n",
       "     0.0      0.0      0.0      0.0  …  0.0  0.0  0.0  0.0  0.0  0.0  0.0\n",
       "     0.0      0.0      0.0      0.0     0.0  0.0  0.0  0.0  0.0  0.0  0.0\n",
       "     0.0      0.0      0.0      0.0     0.0  0.0  0.0  0.0  0.0  0.0  0.0\n",
       "     0.0      0.0      0.0      0.0     0.0  0.0  0.0  0.0  0.0  0.0  0.0\n",
       "     0.0      0.0      0.0      0.0     0.0  0.0  0.0  0.0  0.0  0.0  0.0\n",
       "     ⋮                               ⋱            ⋮                   \n",
       "     0.0      0.0      0.0      0.0     0.0  0.0  0.0  0.0  0.0  0.0  0.0\n",
       "     0.0      0.0      0.0      0.0     0.0  0.0  0.0  0.0  0.0  0.0  0.0\n",
       "     0.0      0.0      0.0      0.0     0.0  0.0  0.0  0.0  0.0  0.0  0.0\n",
       "     0.0      0.0      0.0      0.0     0.0  0.0  0.0  0.0  0.0  0.0  0.0\n",
       "     0.0      0.0      0.0      0.0  …  0.0  0.0  0.0  0.0  0.0  0.0  0.0\n",
       "     0.0      0.0      0.0      0.0     0.0  0.0  0.0  0.0  0.0  0.0  0.0\n",
       "     0.0      0.0      0.0      0.0     0.0  0.0  0.0  0.0  0.0  0.0  0.0\n",
       "     0.0      0.0      0.0      0.0     0.0  0.0  0.0  0.0  0.0  0.0  0.0\n",
       "     0.0      0.0      0.0      0.0     0.0  0.0  0.0  0.0  0.0  0.0  0.0"
      ]
     },
     "metadata": {},
     "output_type": "display_data"
    }
   ],
   "source": [
    "V_matrix(α, grid, \"MT\")"
   ]
  }
 ],
 "metadata": {
  "kernelspec": {
   "display_name": "Julia 1.11.4",
   "language": "julia",
   "name": "julia-1.11"
  },
  "language_info": {
   "file_extension": ".jl",
   "mimetype": "application/julia",
   "name": "julia",
   "version": "1.11.4"
  }
 },
 "nbformat": 4,
 "nbformat_minor": 5
}
