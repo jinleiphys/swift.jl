{
 "cells": [
  {
   "cell_type": "code",
   "execution_count": 1,
   "id": "b95d98be",
   "metadata": {},
   "outputs": [
    {
     "name": "stderr",
     "output_type": "stream",
     "text": [
      "\u001b[32m\u001b[1m   Resolving\u001b[22m\u001b[39m package versions...\n",
      "\u001b[32m\u001b[1m  No Changes\u001b[22m\u001b[39m to `~/.julia/environments/v1.11/Project.toml`\n",
      "\u001b[32m\u001b[1m  No Changes\u001b[22m\u001b[39m to `~/.julia/environments/v1.11/Manifest.toml`\n"
     ]
    }
   ],
   "source": [
    "\n",
    "include(\"../general_modules/channels.jl\")\n",
    "include(\"../general_modules/mesh.jl\")\n",
    "using .channels\n",
    "using .mesh\n",
    "using JSON\n",
    "using Pkg\n",
    "Pkg.add(\"Plots\")"
   ]
  },
  {
   "cell_type": "code",
   "execution_count": null,
   "id": "aa562f47",
   "metadata": {},
   "outputs": [],
   "source": [
    "data = JSON.parsefile(\"test.json\")\n",
    "Systems_params= data[\"Systems\"]\n",
    "mesh_params= data[\"Mesh\"]\n",
    "\n",
    "α= α3b(0.5,0.5,1,Systems_params[\"lmax\"],Systems_params[\"lmin\"],Systems_params[\"λmax\"],Systems_params[\"λmin\"],Systems_params[\"s1\"],Systems_params[\"s2\"],Systems_params[\"s3\"],Systems_params[\"t1\"],Systems_params[\"t2\"],Systems_params[\"t3\"],Systems_params[\"MT\"])\n",
    "\n",
    "grid= initialmesh(mesh_params[\"nθ\"],mesh_params[\"nx\"],mesh_params[\"ny\"],Float64(mesh_params[\"xmax\"]),Float64(mesh_params[\"ymax\"]),Float64(mesh_params[\"alpha\"]))"
   ]
  },
  {
   "cell_type": "code",
   "execution_count": null,
   "id": "087a1535",
   "metadata": {},
   "outputs": [],
   "source": [
    "for i in 1:mesh_params[\"nx\"]\n",
    "    println(grid.xi[i], \"   \", grid.dxi[i])\n",
    "end"
   ]
  },
  {
   "cell_type": "code",
   "execution_count": null,
   "id": "056c1d49",
   "metadata": {},
   "outputs": [],
   "source": [
    "using Revise\n",
    "Revise.revise()\n",
    "includet(\"Gcoefficient.jl\")\n",
    "using .Gcoefficient"
   ]
  },
  {
   "cell_type": "markdown",
   "id": "9643889f",
   "metadata": {},
   "source": [
    "initialY(λmax, lmax, nθ, nx, ny, cosθi, xi, yi, P::Char)\n",
    "return Yλαout, Ylαin, Yλαin\n",
    "\n",
    "Yλin[iθ, iy, ix, nch, perm_index]"
   ]
  },
  {
   "cell_type": "markdown",
   "id": "0a47059e",
   "metadata": {},
   "source": []
  },
  {
   "cell_type": "code",
   "execution_count": null,
   "id": "6ba7154b",
   "metadata": {},
   "outputs": [],
   "source": [
    "G1=computeGcoffecient(α, grid)"
   ]
  },
  {
   "cell_type": "code",
   "execution_count": null,
   "id": "e1e1c070",
   "metadata": {},
   "outputs": [],
   "source": [
    "using Revise\n",
    "includet(\"twobody.jl\")\n",
    "using .twobodybound"
   ]
  },
  {
   "cell_type": "code",
   "execution_count": null,
   "id": "de84c67b",
   "metadata": {},
   "outputs": [],
   "source": [
    "potname=\"AV18\"\n",
    "bound_states=bound2b(grid, potname)"
   ]
  },
  {
   "cell_type": "code",
   "execution_count": 2,
   "id": "c50987ac",
   "metadata": {},
   "outputs": [],
   "source": [
    "using Revise\n",
    "includet(\"spline.jl\")\n",
    "using .spline"
   ]
  },
  {
   "cell_type": "code",
   "execution_count": 3,
   "id": "55efb584",
   "metadata": {},
   "outputs": [
    {
     "data": {
      "text/plain": [
       "test_cubherm_interpolation (generic function with 1 method)"
      ]
     },
     "metadata": {},
     "output_type": "display_data"
    }
   ],
   "source": [
    "\"\"\"\n",
    "Test the cubic Hermitian spline interpolation with a polynomial function.\n",
    "\"\"\"\n",
    "# Import Printf for formatting\n",
    "using Printf\n",
    "using Plots\n",
    "function test_cubherm_interpolation()\n",
    "    # Define the polynomial function f(x) = 5x^5 + 4x^4 + 3x^3 + 2x^2 + x\n",
    "    f(x) = 5*x^5 + 4*x^4 + 3*x^3 + 2*x^2 + x\n",
    "    \n",
    "    # Create a set of old grid points (coarse grid)\n",
    "    xold = collect(range(-1.0, 1.0, length=15))\n",
    "    \n",
    "    # Evaluate the function at the old grid points\n",
    "    yold = f.(xold)\n",
    "    \n",
    "    # println(\"Original grid points:\")\n",
    "    # for i in 1:length(xold)\n",
    "    #     println(\"x = $(xold[i]), f(x) = $(yold[i])\")\n",
    "    # end\n",
    "    # println()\n",
    "    \n",
    "    # Create a set of test points (fine grid) where we want to interpolate\n",
    "    xtest = collect(range(-0.95, 0.95, length=20))\n",
    "    \n",
    "    # Compute the exact values\n",
    "    yexact = f.(xtest)\n",
    "    \n",
    "    # Interpolate using our cubic Hermitian spline\n",
    "    yinterp = Float64[]\n",
    "    for x in xtest\n",
    "        push!(yinterp, cubherm_interp_point(xold, yold, x))\n",
    "    end\n",
    "    \n",
    "    # Compute errors\n",
    "    errors = abs.(yinterp - yexact)\n",
    "    max_error = maximum(errors)\n",
    "    avg_error = sum(errors) / length(errors)\n",
    "    \n",
    "    println(\"Interpolation results and errors:\")\n",
    "    println(\"   x       Exact        Interpolated       Error\")\n",
    "    println(\"------------------------------------------------------\")\n",
    "    for i in 1:length(xtest)\n",
    "        # Use simple string formatting instead of @printf/@sprintf\n",
    "        x_str = @sprintf(\"%.4f\", xtest[i])\n",
    "        exact_str = @sprintf(\"%.6f\", yexact[i])\n",
    "        interp_str = @sprintf(\"%.6f\", yinterp[i])\n",
    "        error_str = @sprintf(\"%.6e\", errors[i])\n",
    "        \n",
    "        println(\"$(lpad(x_str, 7))  $(lpad(exact_str, 12))  $(lpad(interp_str, 12))  $(lpad(error_str, 12))\")\n",
    "    end\n",
    "    \n",
    "    println(\"\\nMaximum error: $max_error\")\n",
    "    println(\"Average error: $avg_error\")\n",
    "    \n",
    "    # Optional: Plot the results if Plots.jl is available\n",
    "    try\n",
    "        \n",
    "        \n",
    "        p = plot(xold, yold, seriestype=:scatter, \n",
    "             label=\"Original Points\", markersize=6, legend=:topleft)\n",
    "        \n",
    "        plot!(p, xtest, yexact, \n",
    "              label=\"Exact Function\", linewidth=2)\n",
    "        \n",
    "        plot!(p, xtest, yinterp, \n",
    "              label=\"Interpolated\", linewidth=2, linestyle=:dash)\n",
    "        \n",
    "        # Plot error\n",
    "        p_error = plot(xtest, errors, \n",
    "                   label=\"Interpolation Error\", linewidth=2,\n",
    "                   xlabel=\"x\", ylabel=\"Error\", title=\"Interpolation Error\")\n",
    "        \n",
    "        # Display both plots\n",
    "        plot(p, p_error, layout=(2,1), size=(800, 600),\n",
    "             title=[\"Cubic Hermitian Spline Interpolation\" \"\"])\n",
    "        \n",
    "        savefig(\"interpolation_test.png\")\n",
    "        println(\"\\nPlot saved as 'interpolation_test.png'\")\n",
    "    catch\n",
    "        println(\"\\nPlotting skipped (Plots.jl not available)\")\n",
    "    end\n",
    "    \n",
    "    return max_error, avg_error\n",
    "end"
   ]
  },
  {
   "cell_type": "code",
   "execution_count": 4,
   "id": "05754c5a",
   "metadata": {},
   "outputs": [
    {
     "name": "stdout",
     "output_type": "stream",
     "text": [
      "Interpolation results and errors:\n",
      "   x       Exact        Interpolated       Error\n",
      "------------------------------------------------------\n",
      "-0.9500     -2.328005     -2.450916  1.229116e-01\n",
      "-0.8500     -1.377877     -1.374544  3.332682e-03\n",
      "-0.7500     -0.811523     -0.814772  3.248681e-03\n",
      "-0.6500     -0.494995     -0.491207  3.788643e-03\n",
      "-0.5500     -0.329742     -0.326736  3.006452e-03\n",
      "-0.4500     -0.246614     -0.247700  1.085854e-03\n",
      "-0.3500     -0.199861     -0.199010  8.508227e-04\n",
      "-0.2500     -0.161133     -0.160290  8.424573e-04\n",
      "-0.1500     -0.113480     -0.113702  2.225794e-04\n",
      "-0.0500     -0.045352     -0.046313  9.610156e-04\n",
      " 0.0500      0.055402      0.055129  2.726579e-04\n",
      " 0.1500      0.207530      0.208283  7.531708e-04\n",
      " 0.2500      0.442383      0.438300  4.083294e-03\n",
      " 0.3500      0.809911      0.808031  1.879582e-03\n",
      " 0.4500      1.384664      1.389009  4.345309e-03\n",
      " 0.5500      2.271792      2.263719  8.073529e-03\n",
      " 0.6500      3.613045      3.605919  7.126439e-03\n",
      " 0.7500      5.592773      5.601528  8.754200e-03\n",
      " 0.8500      8.443927      8.437136  6.790429e-03\n",
      " 0.9500     12.454055     12.799998  3.459436e-01\n",
      "\n",
      "Maximum error: 0.34594358702847217\n",
      "Average error: 0.026413649084087255\n",
      "\n",
      "Plot saved as 'interpolation_test.png'\n"
     ]
    },
    {
     "data": {
      "text/plain": [
       "(0.34594358702847217, 0.026413649084087255)"
      ]
     },
     "metadata": {},
     "output_type": "display_data"
    }
   ],
   "source": [
    "using Printf \n",
    "test_cubherm_interpolation()"
   ]
  }
 ],
 "metadata": {
  "kernelspec": {
   "display_name": "Julia 1.11.4",
   "language": "julia",
   "name": "julia-1.11"
  },
  "language_info": {
   "file_extension": ".jl",
   "mimetype": "application/julia",
   "name": "julia",
   "version": "1.11.4"
  }
 },
 "nbformat": 4,
 "nbformat_minor": 5
}
