{
 "cells": [
  {
   "cell_type": "code",
   "execution_count": 1,
   "id": "b95d98be",
   "metadata": {},
   "outputs": [],
   "source": [
    "\n",
    "using Revise\n",
    "includet(\"../general_modules/channels.jl\")\n",
    "include(\"../general_modules/mesh.jl\")\n",
    "using .channels\n",
    "using .mesh\n",
    "using JSON"
   ]
  },
  {
   "cell_type": "code",
   "execution_count": 2,
   "id": "aa562f47",
   "metadata": {},
   "outputs": [
    {
     "name": "stdout",
     "output_type": "stream",
     "text": [
      "For J=0.0 T=0.0 parity=1 Number of channels: 1\n",
      "scaling factor for x: 0.3\n"
     ]
    },
    {
     "data": {
      "text/plain": [
       "Main.mesh.meshset(12, 12, 12, [-0.9815606342467192, -0.9041172563704748, -0.7699026741943047, -0.5873179542866175, -0.3678314989981802, -0.1252334085114689, 0.1252334085114689, 0.3678314989981802, 0.5873179542866175, 0.7699026741943047, 0.9041172563704748, 0.9815606342467192], [0.04717533638651175, 0.10693932599531826, 0.16007832854334625, 0.20316742672306587, 0.23349253653835492, 0.24914704581340288, 0.24914704581340288, 0.23349253653835492, 0.20316742672306587, 0.16007832854334625, 0.10693932599531826, 0.04717533638651175], [0.0848575044719742, 0.2856978124093846, 0.6049476415733046, 1.0477062209334076, 1.6216473060047178, 2.337844182123722, 3.2122166066967295, 4.268145709136995, 5.5415989902690015, 7.092535125720268, 9.036017587831902, 11.666785312828601], [0.14277897009800458, 0.259383321803658, 0.37995967777078926, 0.5068231073270444, 0.6428816610948332, 0.7921245262743847, 0.960438937417142, 1.1572465340299454, 1.3992307171257872, 1.7204236864089044, 2.2079451522012565, 3.215760611971282], [0.0848575044719742, 0.2856978124093846, 0.6049476415733046, 1.0477062209334076, 1.6216473060047178, 2.337844182123722, 3.2122166066967295, 4.268145709136995, 5.5415989902690015, 7.092535125720268, 9.036017587831902, 11.666785312828601], [0.14277897009800458, 0.259383321803658, 0.37995967777078926, 0.5068231073270444, 0.6428816610948332, 0.7921245262743847, 0.960438937417142, 1.1572465340299454, 1.3992307171257872, 1.7204236864089044, 2.2079451522012565, 3.215760611971282], 11.666785312828601, 11.666785312828601, 1.0, 0.3, 0.3, [0.282858348239914, 0.9523260413646153, 2.016492138577682, 3.4923540697780253, 5.4054910200157265, 7.792813940412407, 10.707388688989099, 14.227152363789983, 18.471996634230006, 23.641783752400894, 30.12005862610634, 38.88928437609534], [0.282858348239914, 0.9523260413646153, 2.016492138577682, 3.4923540697780253, 5.4054910200157265, 7.792813940412407, 10.707388688989099, 14.227152363789983, 18.471996634230006, 23.641783752400894, 30.12005862610634, 38.88928437609534], [2.6464754981695227, 1.9634912765596917, 1.6223002856488982, 1.404661879275012, 1.247195345459919, 1.1235781107361935, 1.020387478732711, 0.9295806086763798, 0.8453865514282729, 0.7623989568413893, 0.6729857362718576, 0.5576454259261682], [2.6464754981695227, 1.9634912765596917, 1.6223002856488982, 1.404661879275012, 1.247195345459919, 1.1235781107361935, 1.020387478732711, 0.9295806086763798, 0.8453865514282729, 0.7623989568413893, 0.6729857362718576, 0.5576454259261682])"
      ]
     },
     "metadata": {},
     "output_type": "display_data"
    }
   ],
   "source": [
    "data = JSON.parsefile(\"test.json\")\n",
    "Systems_params= data[\"Systems\"]\n",
    "mesh_params= data[\"Mesh\"]\n",
    "fermion=false\n",
    "α= α3b(fermion,0.0,0.0,1,Systems_params[\"lmax\"],Systems_params[\"lmin\"],Systems_params[\"λmax\"],Systems_params[\"λmin\"],Systems_params[\"s1\"],Systems_params[\"s2\"],Systems_params[\"s3\"],Systems_params[\"t1\"],Systems_params[\"t2\"],Systems_params[\"t3\"],Systems_params[\"MT\"])\n",
    "\n",
    "grid= initialmesh(mesh_params[\"nθ\"],mesh_params[\"nx\"],mesh_params[\"ny\"],Float64(mesh_params[\"xmax\"]),Float64(mesh_params[\"ymax\"]),Float64(mesh_params[\"alpha\"]))"
   ]
  },
  {
   "cell_type": "code",
   "execution_count": null,
   "id": "087a1535",
   "metadata": {},
   "outputs": [],
   "source": [
    "for i in 1:mesh_params[\"nx\"]\n",
    "    println(grid.xi[i], \"   \", grid.dxi[i])\n",
    "end"
   ]
  },
  {
   "cell_type": "code",
   "execution_count": null,
   "id": "056c1d49",
   "metadata": {},
   "outputs": [],
   "source": [
    "using Revise\n",
    "Revise.revise()\n",
    "includet(\"Gcoefficient.jl\")\n",
    "using .Gcoefficient"
   ]
  },
  {
   "cell_type": "markdown",
   "id": "9643889f",
   "metadata": {},
   "source": [
    "initialY(λmax, lmax, nθ, nx, ny, cosθi, xi, yi, P::Char)\n",
    "return Yλαout, Ylαin, Yλαin\n",
    "\n",
    "Yλin[iθ, iy, ix, nch, perm_index]"
   ]
  },
  {
   "cell_type": "markdown",
   "id": "0a47059e",
   "metadata": {},
   "source": []
  },
  {
   "cell_type": "code",
   "execution_count": null,
   "id": "6ba7154b",
   "metadata": {},
   "outputs": [],
   "source": [
    "Gαα=computeGcoefficient(α, grid)"
   ]
  },
  {
   "cell_type": "code",
   "execution_count": 3,
   "id": "e1e1c070",
   "metadata": {},
   "outputs": [],
   "source": [
    "using Revise\n",
    "includet(\"twobody.jl\")\n",
    "using .twobodybound"
   ]
  },
  {
   "cell_type": "code",
   "execution_count": 4,
   "id": "de84c67b",
   "metadata": {},
   "outputs": [
    {
     "name": "stdout",
     "output_type": "stream",
     "text": [
      "For J=1.0 parity=+ Number of channels: 2\n",
      "Number of bound states: 1\n",
      "Bound state energies: [-2.220428332024142]\n"
     ]
    },
    {
     "data": {
      "text/plain": [
       "1-element Vector{Any}:\n",
       " (-2.220428332024142, [-0.0033236481027346695, -0.03648135266525975, -0.152039580930092, -0.32120450972445946, -0.4311612801842848, -0.45278501208225486, -0.41885803539313576, -0.36277768667592314, -0.2954622232673801, -0.22833076783345466  …  0.0, 0.0, 0.0, 0.0, 0.0, 0.0, 0.0, 0.0, 0.0, 0.0])"
      ]
     },
     "metadata": {},
     "output_type": "display_data"
    }
   ],
   "source": [
    "potname=\"MT\"\n",
    "bound_states=bound2b(grid, potname)"
   ]
  },
  {
   "cell_type": "code",
   "execution_count": null,
   "id": "c50987ac",
   "metadata": {},
   "outputs": [],
   "source": [
    "using Revise\n",
    "includet(\"spline.jl\")\n",
    "using .spline"
   ]
  },
  {
   "cell_type": "code",
   "execution_count": null,
   "id": "55efb584",
   "metadata": {},
   "outputs": [],
   "source": [
    "\"\"\"\n",
    "Test the cubic Hermitian spline interpolation with a polynomial function.\n",
    "\"\"\"\n",
    "# Import Printf for formatting\n",
    "using Printf\n",
    "using Plots\n",
    "function test_cubherm_interpolation()\n",
    "    # Define the polynomial function f(x) = 5x^5 + 4x^4 + 3x^3 + 2x^2 + x\n",
    "    f(x) = 5*x^5 + 4*x^4 + 3*x^3 + 2*x^2 + x\n",
    "    \n",
    "    # Create a set of old grid points (coarse grid)\n",
    "    xold = collect(range(-1.0, 1.0, length=15))\n",
    "    \n",
    "    # Evaluate the function at the old grid points\n",
    "    yold = f.(xold)\n",
    "    \n",
    "    # println(\"Original grid points:\")\n",
    "    # for i in 1:length(xold)\n",
    "    #     println(\"x = $(xold[i]), f(x) = $(yold[i])\")\n",
    "    # end\n",
    "    # println()\n",
    "    \n",
    "    # Create a set of test points (fine grid) where we want to interpolate\n",
    "    xtest = collect(range(-0.95, 0.95, length=20))\n",
    "    \n",
    "    # Compute the exact values\n",
    "    yexact = f.(xtest)\n",
    "    \n",
    "    # Interpolate using our cubic Hermitian spline\n",
    "    yinterp = Float64[]\n",
    "    for x in xtest\n",
    "        push!(yinterp, cubherm_interp_point(xold, yold, x))\n",
    "    end\n",
    "    \n",
    "    # Compute errors\n",
    "    errors = abs.(yinterp - yexact)\n",
    "    max_error = maximum(errors)\n",
    "    avg_error = sum(errors) / length(errors)\n",
    "    \n",
    "    println(\"Interpolation results and errors:\")\n",
    "    println(\"   x       Exact        Interpolated       Error\")\n",
    "    println(\"------------------------------------------------------\")\n",
    "    for i in 1:length(xtest)\n",
    "        # Use simple string formatting instead of @printf/@sprintf\n",
    "        x_str = @sprintf(\"%.4f\", xtest[i])\n",
    "        exact_str = @sprintf(\"%.6f\", yexact[i])\n",
    "        interp_str = @sprintf(\"%.6f\", yinterp[i])\n",
    "        error_str = @sprintf(\"%.6e\", errors[i])\n",
    "        \n",
    "        println(\"$(lpad(x_str, 7))  $(lpad(exact_str, 12))  $(lpad(interp_str, 12))  $(lpad(error_str, 12))\")\n",
    "    end\n",
    "    \n",
    "    println(\"\\nMaximum error: $max_error\")\n",
    "    println(\"Average error: $avg_error\")\n",
    "    \n",
    "    # Optional: Plot the results if Plots.jl is available\n",
    "    try\n",
    "        \n",
    "        \n",
    "        p = plot(xold, yold, seriestype=:scatter, \n",
    "             label=\"Original Points\", markersize=6, legend=:topleft)\n",
    "        \n",
    "        plot!(p, xtest, yexact, \n",
    "              label=\"Exact Function\", linewidth=2)\n",
    "        \n",
    "        plot!(p, xtest, yinterp, \n",
    "              label=\"Interpolated\", linewidth=2, linestyle=:dash)\n",
    "        \n",
    "        # Plot error\n",
    "        p_error = plot(xtest, errors, \n",
    "                   label=\"Interpolation Error\", linewidth=2,\n",
    "                   xlabel=\"x\", ylabel=\"Error\", title=\"Interpolation Error\")\n",
    "        \n",
    "        # Display both plots\n",
    "        plot(p, p_error, layout=(2,1), size=(800, 600),\n",
    "             title=[\"Cubic Hermitian Spline Interpolation\" \"\"])\n",
    "        \n",
    "        savefig(\"interpolation_test.png\")\n",
    "        println(\"\\nPlot saved as 'interpolation_test.png'\")\n",
    "    catch\n",
    "        println(\"\\nPlotting skipped (Plots.jl not available)\")\n",
    "    end\n",
    "    \n",
    "    return max_error, avg_error\n",
    "end"
   ]
  },
  {
   "cell_type": "code",
   "execution_count": null,
   "id": "05754c5a",
   "metadata": {},
   "outputs": [],
   "source": [
    "using Printf \n",
    "test_cubherm_interpolation()"
   ]
  },
  {
   "cell_type": "code",
   "execution_count": 7,
   "id": "9cc31e61",
   "metadata": {},
   "outputs": [],
   "source": [
    "using Revise\n",
    "includet(\"matrices.jl\")\n",
    "using .matrices\n"
   ]
  },
  {
   "cell_type": "code",
   "execution_count": 8,
   "id": "42addaf9",
   "metadata": {},
   "outputs": [
    {
     "data": {
      "text/plain": [
       "144×144 Matrix{ComplexF64}:\n",
       "      13.4046+0.0im      -0.28484+0.0im  …  -4.00884e-7+0.0im\n",
       "    -0.388215+0.0im      0.158143+0.0im      1.32599e-7+0.0im\n",
       "      0.06072+0.0im      0.014069+0.0im      4.06535e-7+0.0im\n",
       "    0.0127869+0.0im    -0.0149884+0.0im       2.9187e-7+0.0im\n",
       "   0.00083975+0.0im  -0.000858678+0.0im      2.18607e-8+0.0im\n",
       "  -0.00100088+0.0im   0.000645621+0.0im  …  -2.01881e-7+0.0im\n",
       "  -0.00068003+0.0im   0.000427737+0.0im     -2.74591e-7+0.0im\n",
       " -0.000241174+0.0im   0.000147494+0.0im     -1.96499e-7+0.0im\n",
       "  -2.58379e-5+0.0im    1.59816e-5+0.0im      -2.9225e-8+0.0im\n",
       "   3.21404e-5+0.0im   -1.83673e-5+0.0im      1.70686e-7+0.0im\n",
       "             ⋮                           ⋱  \n",
       "   -0.0458766+0.0im     0.0256066+0.0im  …  -0.00104481+0.0im\n",
       "   -0.0468156+0.0im     0.0261028+0.0im     -0.00103494+0.0im\n",
       "    0.0347493+0.0im    -0.0194446+0.0im     0.000957861+0.0im\n",
       "    0.0569587+0.0im      -0.03191+0.0im      0.00221529+0.0im\n",
       "     0.083299+0.0im    -0.0465384+0.0im      0.00349868+0.0im\n",
       "  -0.00624551+0.0im    0.00342665+0.0im  …   0.00211261+0.0im\n",
       "    -0.137624+0.0im      0.076899+0.0im      -0.0128261+0.0im\n",
       "    0.0964353+0.0im    -0.0540265+0.0im       0.0171231+0.0im\n",
       "    -0.106178+0.0im     0.0589148+0.0im        0.157562+0.0im"
      ]
     },
     "metadata": {},
     "output_type": "display_data"
    }
   ],
   "source": [
    "Rxy_matrix(α, grid)\n"
   ]
  },
  {
   "cell_type": "code",
   "execution_count": 15,
   "id": "4075a7c2",
   "metadata": {},
   "outputs": [],
   "source": [
    "using Revise\n",
    "includet(\"threebodybound.jl\")\n",
    "using .threebodybound"
   ]
  },
  {
   "cell_type": "code",
   "execution_count": 16,
   "id": "1f48478a",
   "metadata": {},
   "outputs": [
    {
     "data": {
      "text/plain": [
       "12-element Vector{Any}:\n",
       " (-43.89847796640892, [0.0, 0.0, 0.0, 0.0, 0.0, 0.0, 0.0, 0.0, 0.0, 0.0  …  0.0, 0.0, 0.0, 0.0, 0.0, 0.0, 0.0, 0.0, 0.0, 0.0])\n",
       " (-43.89847796640892, [0.0, 0.0, 0.0, 0.0, 0.0, 0.0, 0.0, 0.0, 0.0, 0.0  …  0.0, 0.0, 0.0, 0.0, 0.0, 0.0, 0.0, 0.0, 0.0, 0.0])\n",
       " (-43.89847796640892, [0.0, 0.0, 0.0, 0.0, 0.0, 0.0, 0.0, 0.0, 0.0, 0.0  …  0.0, 0.0, 0.0, 0.0, 0.0, 0.0, 0.0, 0.0, 0.0, 0.0])\n",
       " (-43.89847796640892, [0.0, 0.0, 0.0, 0.0, 0.0, 0.0, 0.0, 0.0, 0.0, 0.0  …  0.0, 0.0, 0.0, 0.0, 0.0, 0.0, 0.0, 0.0, 0.0, 0.0])\n",
       " (-43.89847796640892, [0.0, 0.0, 0.0, 0.0, 0.0, 0.0, 0.0, 0.0, 0.0, 0.0  …  0.0, 0.0, 0.0, 0.0, 0.0, 0.0, 0.0, 0.0, 0.0, 0.0])\n",
       " (-43.89847796640892, [0.0, 0.0, 0.0, 0.0, 0.0, 0.0, 0.0, 0.0, 0.0, 0.0  …  0.0, 0.0, 0.0, 0.0, 0.0, 0.0, 0.0, 0.0, 0.0, 0.0])\n",
       " (-43.89847796640892, [0.0, 0.0, 0.0, 0.0, 0.0, 0.0, 0.0, 0.0, 0.0, 0.0  …  0.0, 0.0, 0.0, 0.0, 0.0, 0.0, 0.0, 0.0, 0.0, 0.0])\n",
       " (-43.89847796640892, [0.0, 0.0, 0.0, 0.0, 0.0, 0.0, 0.0, 0.0, 0.0, 0.0  …  0.0, 0.0, 0.0, 0.0, 0.0, 0.0, 0.0, 0.0, 0.0, 0.0])\n",
       " (-43.89847796640892, [0.0, 0.0, 0.0, 0.0, 0.0, 0.0, 0.0, 0.0, 0.0, 0.0  …  0.0, 0.0, 0.0, 0.0, 0.0, 0.0, 0.0, 0.0, 0.0, 0.0])\n",
       " (-43.89847796640892, [0.0, 0.0, 0.0, 0.0, 0.0, 0.0, 0.0, 0.0, 0.0, 0.0  …  0.0, 0.0, 0.0, 0.0, 0.0, 0.0, 0.0, 0.0, 0.0, 0.0])\n",
       " (-43.89847796640892, [0.0, 0.0, 0.0, 0.0, 0.0, 0.0, 0.0, 0.0, 0.0, 0.0  …  0.0, 0.0, 0.0, 0.0, 0.0, 0.0, 0.0, 0.0, 0.0, 0.0])\n",
       " (-43.89847796640892, [0.0, 0.0, 0.0, 0.0, 0.0, 0.0, 0.0, 0.0, 0.0, 0.0  …  0.0, 0.0, 0.0, 0.0, 0.0, 0.0, 0.0, 0.0, 0.0, 0.0])"
      ]
     },
     "metadata": {},
     "output_type": "display_data"
    }
   ],
   "source": [
    "ThreeBody_Bound(α, grid)"
   ]
  },
  {
   "cell_type": "code",
   "execution_count": 9,
   "id": "e789b3d1",
   "metadata": {},
   "outputs": [
    {
     "data": {
      "text/plain": [
       "144×144 Matrix{Float64}:\n",
       " 14083.7      -1667.48      235.522    …    0.0         0.0       0.0\n",
       " -1667.48      9595.01     -591.035         0.0         0.0       0.0\n",
       "   235.522     -591.035    8739.59          0.0         0.0       0.0\n",
       "   -40.4788      83.1169   -296.602         0.0         0.0       0.0\n",
       "    -9.28087    -10.7471     41.4457        0.0         0.0       0.0\n",
       "    24.846       -8.00025    -3.83259  …    0.0         0.0       0.0\n",
       "   -29.5417      13.7864     -6.0605        0.0         0.0       0.0\n",
       "    30.1921     -15.3741      9.09489       0.0         0.0       0.0\n",
       "   -29.2067      15.3743     -9.865         0.0         0.0       0.0\n",
       "    27.5315     -14.7187      9.76021      31.0602      0.0       0.0\n",
       "     ⋮                                 ⋱                         \n",
       "     0.0          0.0         0.0      …   -6.96166     6.82188  -6.40611\n",
       "     0.0          0.0         0.0           4.9691     -5.19224   5.01381\n",
       "     0.0          0.0         0.0          -3.17681     3.92109  -4.00185\n",
       "     0.0          0.0         0.0           0.969904   -2.72425   3.17418\n",
       "     0.0          0.0         0.0           3.33763     1.24166  -2.38834\n",
       "     0.0          0.0         0.0      …  -21.9088      1.58337   1.44828\n",
       "     0.0          0.0         0.0          41.0759    -13.3433    0.216024\n",
       "     0.0          0.0         0.0         -13.3433     28.1873   -6.53271\n",
       "     0.0          0.0         0.0           0.216024   -6.53271  17.5919"
      ]
     },
     "metadata": {},
     "output_type": "display_data"
    }
   ],
   "source": [
    "T_matrix(α,grid) "
   ]
  },
  {
   "cell_type": "code",
   "execution_count": 10,
   "id": "82eb6f13",
   "metadata": {},
   "outputs": [
    {
     "data": {
      "text/plain": [
       "144×144 Kronecker.KroneckerProduct{Float64, Matrix{Float64}, Matrix{Float64}}:\n",
       " 7711.5     0.0     0.0     0.0     0.0     0.0  …   0.0          0.0\n",
       "    0.0  7711.5     0.0     0.0     0.0     0.0      0.0          0.0\n",
       "    0.0     0.0  7711.5     0.0     0.0     0.0      0.0          0.0\n",
       "    0.0     0.0     0.0  7711.5     0.0     0.0      0.0          0.0\n",
       "    0.0     0.0     0.0     0.0  7711.5     0.0      0.0          0.0\n",
       "    0.0     0.0     0.0     0.0     0.0  7711.5  …   0.0          0.0\n",
       "    0.0     0.0     0.0     0.0     0.0     0.0      0.0          0.0\n",
       "    0.0     0.0     0.0     0.0     0.0     0.0      0.0          0.0\n",
       "    0.0     0.0     0.0     0.0     0.0     0.0      0.0          0.0\n",
       "    0.0     0.0     0.0     0.0     0.0     0.0      0.0          0.0\n",
       "    ⋮                                       ⋮    ⋱               \n",
       "    0.0     0.0     0.0     0.0     0.0     0.0  …  -0.0         -0.0\n",
       "    0.0     0.0     0.0     0.0     0.0     0.0     -0.0         -0.0\n",
       "    0.0     0.0     0.0     0.0     0.0     0.0     -0.0         -0.0\n",
       "    0.0     0.0     0.0     0.0     0.0     0.0     -0.0         -0.0\n",
       "    0.0     0.0     0.0     0.0     0.0     0.0     -0.0         -0.0\n",
       "    0.0     0.0     0.0     0.0     0.0     0.0  …  -0.0         -0.0\n",
       "    0.0     0.0     0.0     0.0     0.0     0.0     -0.0         -0.0\n",
       "    0.0     0.0     0.0     0.0     0.0     0.0     -6.17182e-7  -0.0\n",
       "    0.0     0.0     0.0     0.0     0.0     0.0     -0.0         -6.17182e-7"
      ]
     },
     "metadata": {},
     "output_type": "display_data"
    }
   ],
   "source": [
    "V_matrix(α, grid, \"MT\")"
   ]
  }
 ],
 "metadata": {
  "kernelspec": {
   "display_name": "Julia 1.11.4",
   "language": "julia",
   "name": "julia-1.11"
  },
  "language_info": {
   "file_extension": ".jl",
   "mimetype": "application/julia",
   "name": "julia",
   "version": "1.11.4"
  }
 },
 "nbformat": 4,
 "nbformat_minor": 5
}
