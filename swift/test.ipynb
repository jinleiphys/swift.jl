{
 "cells": [
  {
   "cell_type": "code",
   "execution_count": 1,
   "id": "b95d98be",
   "metadata": {},
   "outputs": [],
   "source": [
    "\n",
    "include(\"../general_modules/channels.jl\")\n",
    "include(\"../general_modules/mesh.jl\")\n",
    "using .channels\n",
    "using .mesh\n",
    "using JSON"
   ]
  },
  {
   "cell_type": "code",
   "execution_count": 2,
   "id": "aa562f47",
   "metadata": {},
   "outputs": [
    {
     "name": "stdout",
     "output_type": "stream",
     "text": [
      "For J=0.5 T=0.5 parity=1 Number of channels: 8\n",
      "scaling factor for x: 0.18238347461116797\n"
     ]
    },
    {
     "data": {
      "text/plain": [
       "Main.mesh.meshset(20, 60, 60, [-0.9931285991850949, -0.9639719272779138, -0.912234428251326, -0.8391169718222188, -0.7463319064601508, -0.636053680726515, -0.5108670019508271, -0.37370608871541955, -0.2277858511416451, -0.07652652113349732, 0.07652652113349732, 0.2277858511416451, 0.37370608871541955, 0.5108670019508271, 0.636053680726515, 0.7463319064601508, 0.8391169718222188, 0.912234428251326, 0.9639719272779138, 0.9931285991850949], [0.017614007139152055, 0.04060142980038697, 0.06267204833410904, 0.08327674157670457, 0.10193011981724034, 0.11819453196151841, 0.13168863844917655, 0.142096109318382, 0.14917298647260377, 0.15275338713072587, 0.15275338713072587, 0.14917298647260377, 0.142096109318382, 0.13168863844917655, 0.11819453196151841, 0.10193011981724034, 0.08327674157670457, 0.06267204833410904, 0.04060142980038697, 0.017614007139152055], [0.004358596129354452, 0.022968411603823145, 0.056462081708942215, 0.1048696848528175, 0.16822495102374077, 0.24657121555841388, 0.3399621299358039, 0.4484619677032939, 0.5721458984302754, 0.7111002889020385  …  23.539332668426415, 24.799860809374557, 26.138077058450943, 27.566025024854977, 29.099944557869794, 30.76276776386058, 32.58899510105903, 34.63557878784591, 37.01180583909497, 40.0], [0.011185933400080516, 0.026046045706668262, 0.040945736465529466, 0.05587505159063575, 0.07084269503567375, 0.08585877130790606, 0.10093376523185128, 0.11607843357337054, 0.13130381662877735, 0.14662127574327033  …  1.224951807808077, 1.2976327302006854, 1.3807847720098008, 1.4777788112777264, 1.5938078967697071, 1.7374291701789717, 1.9241127915401863, 2.185922339291599, 2.6060700302616233, 3.5272365710486353], [0.004358596129354452, 0.022968411603823145, 0.056462081708942215, 0.1048696848528175, 0.16822495102374077, 0.24657121555841388, 0.3399621299358039, 0.4484619677032939, 0.5721458984302754, 0.7111002889020385  …  23.539332668426415, 24.799860809374557, 26.138077058450943, 27.566025024854977, 29.099944557869794, 30.76276776386058, 32.58899510105903, 34.63557878784591, 37.01180583909497, 40.0], [0.011185933400080516, 0.026046045706668262, 0.040945736465529466, 0.05587505159063575, 0.07084269503567375, 0.08585877130790606, 0.10093376523185128, 0.11607843357337054, 0.13130381662877735, 0.14662127574327033  …  1.224951807808077, 1.2976327302006854, 1.3807847720098008, 1.4777788112777264, 1.5938078967697071, 1.7374291701789717, 1.9241127915401863, 2.185922339291599, 2.6060700302616233, 3.5272365710486353], 40.0, 40.0, 0.0, 0.18238347461116797, 0.18238347461116797, [0.023897977262724877, 0.12593471888168925, 0.30957893432678824, 0.574995542092803, 0.9223694821166641, 1.3519383600081687, 1.8639963442992045, 2.458895843822426, 3.137049009785895, 3.898929387204993  …  129.06505218529827, 135.9764686041132, 143.31384526024607, 151.1432166956151, 159.55362523885103, 168.67080654892223, 178.6839250131464, 189.90524696213376, 202.93398795040068, 219.31811577379972], [0.023897977262724877, 0.12593471888168925, 0.30957893432678824, 0.574995542092803, 0.9223694821166641, 1.3519383600081687, 1.8639963442992045, 2.458895843822426, 3.137049009785895, 3.898929387204993  …  129.06505218529827, 135.9764686041132, 143.31384526024607, 151.1432166956151, 159.55362523885103, 168.67080654892223, 178.6839250131464, 189.90524696213376, 202.93398795040068, 219.31811577379972], [9.455051209569048, 6.19625240999726, 4.941919383260819, 4.23049349341489, 3.7570974759262783, 3.4127750682758915, 3.147616134153153, 2.935108976090824, 2.7596965141627767, 2.611568989452608  …  0.9035256756852631, 0.8778576627109321, 0.8510145896322788, 0.8226124580091918, 0.7921036469849644, 0.7586587054678541, 0.7209161199210297, 0.6763673513628488, 0.6194510009691682, 0.5324547499381708], [9.455051209569048, 6.19625240999726, 4.941919383260819, 4.23049349341489, 3.7570974759262783, 3.4127750682758915, 3.147616134153153, 2.935108976090824, 2.7596965141627767, 2.611568989452608  …  0.9035256756852631, 0.8778576627109321, 0.8510145896322788, 0.8226124580091918, 0.7921036469849644, 0.7586587054678541, 0.7209161199210297, 0.6763673513628488, 0.6194510009691682, 0.5324547499381708])"
      ]
     },
     "metadata": {},
     "output_type": "display_data"
    }
   ],
   "source": [
    "data = JSON.parsefile(\"test.json\")\n",
    "Systems_params= data[\"Systems\"]\n",
    "mesh_params= data[\"Mesh\"]\n",
    "\n",
    "α= α3b(0.5,0.5,1,Systems_params[\"lmax\"],Systems_params[\"lmin\"],Systems_params[\"λmax\"],Systems_params[\"λmin\"],Systems_params[\"s1\"],Systems_params[\"s2\"],Systems_params[\"s3\"],Systems_params[\"t1\"],Systems_params[\"t2\"],Systems_params[\"t3\"],Systems_params[\"MT\"])\n",
    "\n",
    "grid= initialmesh(mesh_params[\"nθ\"],mesh_params[\"nx\"],mesh_params[\"ny\"],Float64(mesh_params[\"xmax\"]),Float64(mesh_params[\"ymax\"]),Float64(mesh_params[\"alpha\"]))"
   ]
  },
  {
   "cell_type": "code",
   "execution_count": null,
   "id": "087a1535",
   "metadata": {},
   "outputs": [],
   "source": [
    "for i in 1:mesh_params[\"nx\"]\n",
    "    println(grid.xi[i], \"   \", grid.dxi[i])\n",
    "end"
   ]
  },
  {
   "cell_type": "code",
   "execution_count": 3,
   "id": "056c1d49",
   "metadata": {},
   "outputs": [],
   "source": [
    "using Revise\n",
    "Revise.revise()\n",
    "includet(\"Gcoefficient.jl\")\n",
    "using .Gcoefficient"
   ]
  },
  {
   "cell_type": "markdown",
   "id": "9643889f",
   "metadata": {},
   "source": [
    "initialY(λmax, lmax, nθ, nx, ny, cosθi, xi, yi, P::Char)\n",
    "return Yλαout, Ylαin, Yλαin\n",
    "\n",
    "Yλin[iθ, iy, ix, nch, perm_index]"
   ]
  },
  {
   "cell_type": "markdown",
   "id": "0a47059e",
   "metadata": {},
   "source": []
  },
  {
   "cell_type": "code",
   "execution_count": null,
   "id": "6ba7154b",
   "metadata": {},
   "outputs": [],
   "source": [
    "Gαα=computeGcoffecient(α, grid)"
   ]
  },
  {
   "cell_type": "code",
   "execution_count": null,
   "id": "e1e1c070",
   "metadata": {},
   "outputs": [],
   "source": [
    "using Revise\n",
    "includet(\"twobody.jl\")\n",
    "using .twobodybound"
   ]
  },
  {
   "cell_type": "code",
   "execution_count": null,
   "id": "de84c67b",
   "metadata": {},
   "outputs": [],
   "source": [
    "potname=\"AV18\"\n",
    "bound_states=bound2b(grid, potname)"
   ]
  },
  {
   "cell_type": "code",
   "execution_count": null,
   "id": "c50987ac",
   "metadata": {},
   "outputs": [],
   "source": [
    "using Revise\n",
    "includet(\"spline.jl\")\n",
    "using .spline"
   ]
  },
  {
   "cell_type": "code",
   "execution_count": null,
   "id": "55efb584",
   "metadata": {},
   "outputs": [],
   "source": [
    "\"\"\"\n",
    "Test the cubic Hermitian spline interpolation with a polynomial function.\n",
    "\"\"\"\n",
    "# Import Printf for formatting\n",
    "using Printf\n",
    "using Plots\n",
    "function test_cubherm_interpolation()\n",
    "    # Define the polynomial function f(x) = 5x^5 + 4x^4 + 3x^3 + 2x^2 + x\n",
    "    f(x) = 5*x^5 + 4*x^4 + 3*x^3 + 2*x^2 + x\n",
    "    \n",
    "    # Create a set of old grid points (coarse grid)\n",
    "    xold = collect(range(-1.0, 1.0, length=15))\n",
    "    \n",
    "    # Evaluate the function at the old grid points\n",
    "    yold = f.(xold)\n",
    "    \n",
    "    # println(\"Original grid points:\")\n",
    "    # for i in 1:length(xold)\n",
    "    #     println(\"x = $(xold[i]), f(x) = $(yold[i])\")\n",
    "    # end\n",
    "    # println()\n",
    "    \n",
    "    # Create a set of test points (fine grid) where we want to interpolate\n",
    "    xtest = collect(range(-0.95, 0.95, length=20))\n",
    "    \n",
    "    # Compute the exact values\n",
    "    yexact = f.(xtest)\n",
    "    \n",
    "    # Interpolate using our cubic Hermitian spline\n",
    "    yinterp = Float64[]\n",
    "    for x in xtest\n",
    "        push!(yinterp, cubherm_interp_point(xold, yold, x))\n",
    "    end\n",
    "    \n",
    "    # Compute errors\n",
    "    errors = abs.(yinterp - yexact)\n",
    "    max_error = maximum(errors)\n",
    "    avg_error = sum(errors) / length(errors)\n",
    "    \n",
    "    println(\"Interpolation results and errors:\")\n",
    "    println(\"   x       Exact        Interpolated       Error\")\n",
    "    println(\"------------------------------------------------------\")\n",
    "    for i in 1:length(xtest)\n",
    "        # Use simple string formatting instead of @printf/@sprintf\n",
    "        x_str = @sprintf(\"%.4f\", xtest[i])\n",
    "        exact_str = @sprintf(\"%.6f\", yexact[i])\n",
    "        interp_str = @sprintf(\"%.6f\", yinterp[i])\n",
    "        error_str = @sprintf(\"%.6e\", errors[i])\n",
    "        \n",
    "        println(\"$(lpad(x_str, 7))  $(lpad(exact_str, 12))  $(lpad(interp_str, 12))  $(lpad(error_str, 12))\")\n",
    "    end\n",
    "    \n",
    "    println(\"\\nMaximum error: $max_error\")\n",
    "    println(\"Average error: $avg_error\")\n",
    "    \n",
    "    # Optional: Plot the results if Plots.jl is available\n",
    "    try\n",
    "        \n",
    "        \n",
    "        p = plot(xold, yold, seriestype=:scatter, \n",
    "             label=\"Original Points\", markersize=6, legend=:topleft)\n",
    "        \n",
    "        plot!(p, xtest, yexact, \n",
    "              label=\"Exact Function\", linewidth=2)\n",
    "        \n",
    "        plot!(p, xtest, yinterp, \n",
    "              label=\"Interpolated\", linewidth=2, linestyle=:dash)\n",
    "        \n",
    "        # Plot error\n",
    "        p_error = plot(xtest, errors, \n",
    "                   label=\"Interpolation Error\", linewidth=2,\n",
    "                   xlabel=\"x\", ylabel=\"Error\", title=\"Interpolation Error\")\n",
    "        \n",
    "        # Display both plots\n",
    "        plot(p, p_error, layout=(2,1), size=(800, 600),\n",
    "             title=[\"Cubic Hermitian Spline Interpolation\" \"\"])\n",
    "        \n",
    "        savefig(\"interpolation_test.png\")\n",
    "        println(\"\\nPlot saved as 'interpolation_test.png'\")\n",
    "    catch\n",
    "        println(\"\\nPlotting skipped (Plots.jl not available)\")\n",
    "    end\n",
    "    \n",
    "    return max_error, avg_error\n",
    "end"
   ]
  },
  {
   "cell_type": "code",
   "execution_count": null,
   "id": "05754c5a",
   "metadata": {},
   "outputs": [],
   "source": [
    "using Printf \n",
    "test_cubherm_interpolation()"
   ]
  },
  {
   "cell_type": "code",
   "execution_count": 4,
   "id": "9cc31e61",
   "metadata": {},
   "outputs": [],
   "source": [
    "using Revise\n",
    "includet(\"matrices.jl\")\n",
    "using .matrices"
   ]
  },
  {
   "cell_type": "code",
   "execution_count": 5,
   "id": "42addaf9",
   "metadata": {},
   "outputs": [
    {
     "data": {
      "text/plain": [
       "28800×28800 Matrix{ComplexF64}:\n",
       "      45.7035+0.0im     -0.528331+0.0im  …   6.47457e-90+0.0im\n",
       "    -0.444669+0.0im     0.0856427+0.0im      2.70721e-89+0.0im\n",
       "    0.0277008+0.0im     0.0149378+0.0im      1.82357e-89+0.0im\n",
       "    0.0105837+0.0im    -0.0075937+0.0im     -1.20442e-89+0.0im\n",
       "   0.00193561+0.0im   -0.00117024+0.0im     -4.57927e-89+0.0im\n",
       " -0.000746015+0.0im   0.000347109+0.0im  …  -5.33224e-89+0.0im\n",
       "  -0.00107879+0.0im   0.000507133+0.0im     -6.80216e-90+0.0im\n",
       "  -0.00058492+0.0im   0.000269883+0.0im      9.42274e-89+0.0im\n",
       "   5.70313e-5+0.0im   -2.34415e-5+0.0im      1.90278e-88+0.0im\n",
       "  0.000501179+0.0im  -0.000220496+0.0im      1.43229e-88+0.0im\n",
       "             ⋮                           ⋱  \n",
       "   1.38171e62+0.0im   -5.77694e61+0.0im      8.51524e-21+1.22729e-57im\n",
       "   2.76733e63+0.0im   -1.15703e63+0.0im      1.74271e-19+5.53829e-53im\n",
       "   -2.0198e64+0.0im    8.44428e63+0.0im     -1.42205e-18+6.97325e-52im\n",
       "  -1.26423e66+0.0im    5.28568e65+0.0im     -1.71592e-16+2.74081e-48im\n",
       "  -2.65733e67+0.0im    1.11104e67+0.0im  …  -6.85541e-15-3.44828e-47im\n",
       "   -8.9224e68+0.0im    3.73043e68+0.0im     -1.02551e-12-1.39573e-45im\n",
       "  -5.79355e70+0.0im    2.42216e70+0.0im     -3.03203e-11-3.26928e-47im\n",
       "   3.40865e72+0.0im   -1.42459e72+0.0im       1.52684e-8+2.32296e-40im\n",
       "  -3.19951e76+0.0im    1.33748e76+0.0im     -0.000280658+2.38601e-42im"
      ]
     },
     "metadata": {},
     "output_type": "display_data"
    }
   ],
   "source": [
    "Rxy_matrix(α, grid)"
   ]
  },
  {
   "cell_type": "code",
   "execution_count": 7,
   "id": "e789b3d1",
   "metadata": {},
   "outputs": [
    {
     "data": {
      "text/plain": [
       "28800×28800 Matrix{Float64}:\n",
       "      3.08941e6      -2.4086e5   …    0.0        0.0        0.0\n",
       "     -2.4086e5        1.93271e6       0.0        0.0        0.0\n",
       "  41672.9        -59928.7             0.0        0.0        0.0\n",
       " -13725.9         11201.6             0.0        0.0        0.0\n",
       "   5804.07        -3845.63            0.0        0.0        0.0\n",
       "  -2755.66         1660.44       …    0.0        0.0        0.0\n",
       "   1361.66         -788.275           0.0        0.0        0.0\n",
       "   -650.431         377.671           0.0        0.0        0.0\n",
       "    259.874        -163.354           0.0        0.0        0.0\n",
       "    -34.4239         43.6512          0.0        0.0        0.0\n",
       "      ⋮                          ⋱                         \n",
       "      0.0             0.0            -0.802143   0.981044  -1.07594\n",
       "      0.0             0.0             0.546556  -0.836069   0.986773\n",
       "      0.0             0.0            -0.126919   0.629542  -0.873982\n",
       "      0.0             0.0            -0.694317  -0.297953   0.718931\n",
       "      0.0             0.0        …    2.84667   -0.336054  -0.479732\n",
       "      0.0             0.0           -13.5803     1.95759    0.0422586\n",
       "      0.0             0.0            29.5685    -9.82544    1.02114\n",
       "      0.0             0.0            -9.82544   23.2694    -5.85972\n",
       "      0.0             0.0             1.02114   -5.85972   16.4109"
      ]
     },
     "metadata": {},
     "output_type": "display_data"
    }
   ],
   "source": [
    "T_matrix(α,grid) "
   ]
  },
  {
   "cell_type": "code",
   "execution_count": null,
   "id": "82eb6f13",
   "metadata": {},
   "outputs": [],
   "source": [
    "V_matrix(α, grid, \"AV18\")"
   ]
  }
 ],
 "metadata": {
  "kernelspec": {
   "display_name": "Julia 1.11.4",
   "language": "julia",
   "name": "julia-1.11"
  },
  "language_info": {
   "file_extension": ".jl",
   "mimetype": "application/julia",
   "name": "julia",
   "version": "1.11.4"
  }
 },
 "nbformat": 4,
 "nbformat_minor": 5
}
