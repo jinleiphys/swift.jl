{
 "cells": [
  {
   "cell_type": "code",
   "execution_count": 1,
   "id": "b95d98be",
   "metadata": {},
   "outputs": [],
   "source": [
    "\n",
    "using Revise\n",
    "includet(\"../general_modules/channels.jl\")\n",
    "include(\"../general_modules/mesh.jl\")\n",
    "using .channels\n",
    "using .mesh\n",
    "using JSON"
   ]
  },
  {
   "cell_type": "code",
   "execution_count": 2,
   "id": "aa562f47",
   "metadata": {},
   "outputs": [
    {
     "name": "stdout",
     "output_type": "stream",
     "text": [
      "For J=0.0 T=0.0 parity=1 Number of channels: 1\n",
      "scaling factor for x: 0.3\n"
     ]
    },
    {
     "data": {
      "text/plain": [
       "Main.mesh.meshset(12, 12, 12, [-0.9815606342467192, -0.9041172563704748, -0.7699026741943047, -0.5873179542866175, -0.3678314989981802, -0.1252334085114689, 0.1252334085114689, 0.3678314989981802, 0.5873179542866175, 0.7699026741943047, 0.9041172563704748, 0.9815606342467192], [0.04717533638651175, 0.10693932599531826, 0.16007832854334625, 0.20316742672306587, 0.23349253653835492, 0.24914704581340288, 0.24914704581340288, 0.23349253653835492, 0.20316742672306587, 0.16007832854334625, 0.10693932599531826, 0.04717533638651175], [0.0848575044719742, 0.2856978124093846, 0.6049476415733046, 1.0477062209334076, 1.6216473060047178, 2.337844182123722, 3.2122166066967295, 4.268145709136995, 5.5415989902690015, 7.092535125720268, 9.036017587831902, 11.666785312828601], [0.14277897009800458, 0.259383321803658, 0.37995967777078926, 0.5068231073270444, 0.6428816610948332, 0.7921245262743847, 0.960438937417142, 1.1572465340299454, 1.3992307171257872, 1.7204236864089044, 2.2079451522012565, 3.215760611971282], [0.0848575044719742, 0.2856978124093846, 0.6049476415733046, 1.0477062209334076, 1.6216473060047178, 2.337844182123722, 3.2122166066967295, 4.268145709136995, 5.5415989902690015, 7.092535125720268, 9.036017587831902, 11.666785312828601], [0.14277897009800458, 0.259383321803658, 0.37995967777078926, 0.5068231073270444, 0.6428816610948332, 0.7921245262743847, 0.960438937417142, 1.1572465340299454, 1.3992307171257872, 1.7204236864089044, 2.2079451522012565, 3.215760611971282], 11.666785312828601, 11.666785312828601, 1.0, 0.3, 0.3, [0.282858348239914, 0.9523260413646153, 2.016492138577682, 3.4923540697780253, 5.4054910200157265, 7.792813940412407, 10.707388688989099, 14.227152363789983, 18.471996634230006, 23.641783752400894, 30.12005862610634, 38.88928437609534], [0.282858348239914, 0.9523260413646153, 2.016492138577682, 3.4923540697780253, 5.4054910200157265, 7.792813940412407, 10.707388688989099, 14.227152363789983, 18.471996634230006, 23.641783752400894, 30.12005862610634, 38.88928437609534], [2.6464754981695227, 1.9634912765596917, 1.6223002856488982, 1.404661879275012, 1.247195345459919, 1.1235781107361935, 1.020387478732711, 0.9295806086763798, 0.8453865514282729, 0.7623989568413893, 0.6729857362718576, 0.5576454259261682], [2.6464754981695227, 1.9634912765596917, 1.6223002856488982, 1.404661879275012, 1.247195345459919, 1.1235781107361935, 1.020387478732711, 0.9295806086763798, 0.8453865514282729, 0.7623989568413893, 0.6729857362718576, 0.5576454259261682])"
      ]
     },
     "metadata": {},
     "output_type": "display_data"
    }
   ],
   "source": [
    "data = JSON.parsefile(\"test.json\")\n",
    "Systems_params= data[\"Systems\"]\n",
    "mesh_params= data[\"Mesh\"]\n",
    "fermion=false\n",
    "α= α3b(fermion,0.0,0.0,1,Systems_params[\"lmax\"],Systems_params[\"lmin\"],Systems_params[\"λmax\"],Systems_params[\"λmin\"],Systems_params[\"s1\"],Systems_params[\"s2\"],Systems_params[\"s3\"],Systems_params[\"t1\"],Systems_params[\"t2\"],Systems_params[\"t3\"],Systems_params[\"MT\"])\n",
    "\n",
    "grid= initialmesh(mesh_params[\"nθ\"],mesh_params[\"nx\"],mesh_params[\"ny\"],Float64(mesh_params[\"xmax\"]),Float64(mesh_params[\"ymax\"]),Float64(mesh_params[\"alpha\"]))"
   ]
  },
  {
   "cell_type": "code",
   "execution_count": null,
   "id": "087a1535",
   "metadata": {},
   "outputs": [],
   "source": [
    "for i in 1:mesh_params[\"nx\"]\n",
    "    println(grid.xi[i], \"   \", grid.dxi[i])\n",
    "end"
   ]
  },
  {
   "cell_type": "code",
   "execution_count": null,
   "id": "056c1d49",
   "metadata": {},
   "outputs": [],
   "source": [
    "using Revise\n",
    "Revise.revise()\n",
    "includet(\"Gcoefficient.jl\")\n",
    "using .Gcoefficient"
   ]
  },
  {
   "cell_type": "markdown",
   "id": "9643889f",
   "metadata": {},
   "source": [
    "initialY(λmax, lmax, nθ, nx, ny, cosθi, xi, yi, P::Char)\n",
    "return Yλαout, Ylαin, Yλαin\n",
    "\n",
    "Yλin[iθ, iy, ix, nch, perm_index]"
   ]
  },
  {
   "cell_type": "markdown",
   "id": "0a47059e",
   "metadata": {},
   "source": []
  },
  {
   "cell_type": "code",
   "execution_count": null,
   "id": "6ba7154b",
   "metadata": {},
   "outputs": [],
   "source": [
    "Gαα=computeGcoefficient(α, grid)"
   ]
  },
  {
   "cell_type": "code",
   "execution_count": null,
   "id": "e1e1c070",
   "metadata": {},
   "outputs": [],
   "source": [
    "using Revise\n",
    "includet(\"twobody.jl\")\n",
    "using .twobodybound"
   ]
  },
  {
   "cell_type": "code",
   "execution_count": null,
   "id": "de84c67b",
   "metadata": {},
   "outputs": [],
   "source": [
    "potname=\"MT\"\n",
    "bound_states=bound2b(grid, potname)"
   ]
  },
  {
   "cell_type": "code",
   "execution_count": null,
   "id": "c50987ac",
   "metadata": {},
   "outputs": [],
   "source": [
    "using Revise\n",
    "includet(\"spline.jl\")\n",
    "using .spline"
   ]
  },
  {
   "cell_type": "code",
   "execution_count": null,
   "id": "55efb584",
   "metadata": {},
   "outputs": [],
   "source": [
    "\"\"\"\n",
    "Test the cubic Hermitian spline interpolation with a polynomial function.\n",
    "\"\"\"\n",
    "# Import Printf for formatting\n",
    "using Printf\n",
    "using Plots\n",
    "function test_cubherm_interpolation()\n",
    "    # Define the polynomial function f(x) = 5x^5 + 4x^4 + 3x^3 + 2x^2 + x\n",
    "    f(x) = 5*x^5 + 4*x^4 + 3*x^3 + 2*x^2 + x\n",
    "    \n",
    "    # Create a set of old grid points (coarse grid)\n",
    "    xold = collect(range(-1.0, 1.0, length=15))\n",
    "    \n",
    "    # Evaluate the function at the old grid points\n",
    "    yold = f.(xold)\n",
    "    \n",
    "    # println(\"Original grid points:\")\n",
    "    # for i in 1:length(xold)\n",
    "    #     println(\"x = $(xold[i]), f(x) = $(yold[i])\")\n",
    "    # end\n",
    "    # println()\n",
    "    \n",
    "    # Create a set of test points (fine grid) where we want to interpolate\n",
    "    xtest = collect(range(-0.95, 0.95, length=20))\n",
    "    \n",
    "    # Compute the exact values\n",
    "    yexact = f.(xtest)\n",
    "    \n",
    "    # Interpolate using our cubic Hermitian spline\n",
    "    yinterp = Float64[]\n",
    "    for x in xtest\n",
    "        push!(yinterp, cubherm_interp_point(xold, yold, x))\n",
    "    end\n",
    "    \n",
    "    # Compute errors\n",
    "    errors = abs.(yinterp - yexact)\n",
    "    max_error = maximum(errors)\n",
    "    avg_error = sum(errors) / length(errors)\n",
    "    \n",
    "    println(\"Interpolation results and errors:\")\n",
    "    println(\"   x       Exact        Interpolated       Error\")\n",
    "    println(\"------------------------------------------------------\")\n",
    "    for i in 1:length(xtest)\n",
    "        # Use simple string formatting instead of @printf/@sprintf\n",
    "        x_str = @sprintf(\"%.4f\", xtest[i])\n",
    "        exact_str = @sprintf(\"%.6f\", yexact[i])\n",
    "        interp_str = @sprintf(\"%.6f\", yinterp[i])\n",
    "        error_str = @sprintf(\"%.6e\", errors[i])\n",
    "        \n",
    "        println(\"$(lpad(x_str, 7))  $(lpad(exact_str, 12))  $(lpad(interp_str, 12))  $(lpad(error_str, 12))\")\n",
    "    end\n",
    "    \n",
    "    println(\"\\nMaximum error: $max_error\")\n",
    "    println(\"Average error: $avg_error\")\n",
    "    \n",
    "    # Optional: Plot the results if Plots.jl is available\n",
    "    try\n",
    "        \n",
    "        \n",
    "        p = plot(xold, yold, seriestype=:scatter, \n",
    "             label=\"Original Points\", markersize=6, legend=:topleft)\n",
    "        \n",
    "        plot!(p, xtest, yexact, \n",
    "              label=\"Exact Function\", linewidth=2)\n",
    "        \n",
    "        plot!(p, xtest, yinterp, \n",
    "              label=\"Interpolated\", linewidth=2, linestyle=:dash)\n",
    "        \n",
    "        # Plot error\n",
    "        p_error = plot(xtest, errors, \n",
    "                   label=\"Interpolation Error\", linewidth=2,\n",
    "                   xlabel=\"x\", ylabel=\"Error\", title=\"Interpolation Error\")\n",
    "        \n",
    "        # Display both plots\n",
    "        plot(p, p_error, layout=(2,1), size=(800, 600),\n",
    "             title=[\"Cubic Hermitian Spline Interpolation\" \"\"])\n",
    "        \n",
    "        savefig(\"interpolation_test.png\")\n",
    "        println(\"\\nPlot saved as 'interpolation_test.png'\")\n",
    "    catch\n",
    "        println(\"\\nPlotting skipped (Plots.jl not available)\")\n",
    "    end\n",
    "    \n",
    "    return max_error, avg_error\n",
    "end"
   ]
  },
  {
   "cell_type": "code",
   "execution_count": null,
   "id": "05754c5a",
   "metadata": {},
   "outputs": [],
   "source": [
    "using Printf \n",
    "test_cubherm_interpolation()"
   ]
  },
  {
   "cell_type": "code",
   "execution_count": 4,
   "id": "9cc31e61",
   "metadata": {},
   "outputs": [],
   "source": [
    "using Revise\n",
    "includet(\"matrices.jl\")\n",
    "using .matrices\n"
   ]
  },
  {
   "cell_type": "code",
   "execution_count": 5,
   "id": "42addaf9",
   "metadata": {},
   "outputs": [
    {
     "name": "stdout",
     "output_type": "stream",
     "text": [
      "x=0.14659943853232046 + 0.0im\n",
      "x=0.3458153726228561 + 0.0im\n",
      "x=0.5369464500410457 + 0.0im\n",
      "x=0.6979005909643313 + 0.0im\n",
      "x=0.8125926296227629 + 0.0im\n",
      "x=0.8719229543496174 + 0.0im\n",
      "x=0.8719229543496173 + 0.0im\n",
      "x=0.8125926296227629 + 0.0im\n",
      "x=0.6979005909643313 + 0.0im\n",
      "x=0.5369464500410457 + 0.0im\n",
      "x=0.3458153726228561 + 0.0im\n",
      "x=0.14659943853232046 + 0.0im\n"
     ]
    },
    {
     "data": {
      "text/plain": [
       "144×144 Matrix{ComplexF64}:\n",
       "    13.5258+0.0im    -0.154394+0.0im   0.0552328+0.0im  …   -3.81091e-7+0.0im\n",
       " -0.0906234+0.0im     0.609522+0.0im  -0.0280537+0.0im       2.23464e-7+0.0im\n",
       "    0.10647+0.0im   -0.0695871+0.0im   -0.185401+0.0im       1.06508e-6+0.0im\n",
       "  0.0540442+0.0im   -0.0418573+0.0im   0.0502355+0.0im       2.17303e-6+0.0im\n",
       "   0.031513+0.0im   -0.0204174+0.0im   0.0211575+0.0im       3.75134e-6+0.0im\n",
       "  0.0202052+0.0im    -0.012265+0.0im   0.0102876+0.0im  …    5.99549e-6+0.0im\n",
       "  0.0135434+0.0im  -0.00796131+0.0im  0.00624737+0.0im       9.16843e-6+0.0im\n",
       " 0.00922438+0.0im  -0.00531911+0.0im  0.00402597+0.0im       1.38576e-5+0.0im\n",
       " 0.00634814+0.0im  -0.00361301+0.0im  0.00267093+0.0im       2.17888e-5+0.0im\n",
       " 0.00448668+0.0im  -0.00252919+0.0im  0.00183847+0.0im       3.91817e-5+0.0im\n",
       "           ⋮                                            ⋱  \n",
       " -0.0416195+0.0im    0.0233633+0.0im  -0.0168647+0.0im  …  -0.000654077+0.0im\n",
       " -0.0260774+0.0im    0.0145708+0.0im  -0.0104346+0.0im     -0.000532121+0.0im\n",
       "  0.0507829+0.0im   -0.0285055+0.0im   0.0205629+0.0im      0.000797152+0.0im\n",
       "  0.0768467+0.0im   -0.0430439+0.0im   0.0309221+0.0im       0.00169561+0.0im\n",
       "  0.0267817+0.0im   -0.0148371+0.0im   0.0104431+0.0im       0.00156303+0.0im\n",
       "  -0.115636+0.0im    0.0674333+0.0im  -0.0533455+0.0im  …  -0.000509298+0.0im\n",
       "  0.0143751+0.0im  -0.00933935+0.0im  0.00945151+0.0im      -0.00552731+0.0im\n",
       " 0.00267217+0.0im  -0.00135199+0.0im  0.00077687+0.0im       0.00325158+0.0im\n",
       " -0.0833819+0.0im    0.0461649+0.0im  -0.0325388+0.0im         0.157704+0.0im"
      ]
     },
     "metadata": {},
     "output_type": "display_data"
    }
   ],
   "source": [
    "Rxy_matrix(α, grid)\n"
   ]
  },
  {
   "cell_type": "code",
   "execution_count": null,
   "id": "4075a7c2",
   "metadata": {},
   "outputs": [],
   "source": [
    "using Revise\n",
    "includet(\"threebodybound.jl\")\n",
    "using .threebodybound"
   ]
  },
  {
   "cell_type": "code",
   "execution_count": null,
   "id": "1f48478a",
   "metadata": {},
   "outputs": [],
   "source": [
    "ThreeBody_Bound(α, grid)"
   ]
  },
  {
   "cell_type": "code",
   "execution_count": null,
   "id": "e789b3d1",
   "metadata": {},
   "outputs": [],
   "source": [
    "T_matrix(α,grid) "
   ]
  },
  {
   "cell_type": "code",
   "execution_count": null,
   "id": "82eb6f13",
   "metadata": {},
   "outputs": [],
   "source": [
    "V_matrix(α, grid, \"MT\")"
   ]
  }
 ],
 "metadata": {
  "kernelspec": {
   "display_name": "Julia 1.11.4",
   "language": "julia",
   "name": "julia-1.11"
  },
  "language_info": {
   "file_extension": ".jl",
   "mimetype": "application/julia",
   "name": "julia",
   "version": "1.11.4"
  }
 },
 "nbformat": 4,
 "nbformat_minor": 5
}
