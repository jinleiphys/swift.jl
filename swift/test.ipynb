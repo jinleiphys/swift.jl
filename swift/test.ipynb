{
 "cells": [
  {
   "cell_type": "code",
   "execution_count": 19,
   "id": "b95d98be",
   "metadata": {},
   "outputs": [
    {
     "name": "stderr",
     "output_type": "stream",
     "text": [
      "WARNING: replacing module mesh.\n",
      "WARNING: using mesh.initialmesh in module Main conflicts with an existing identifier.\n"
     ]
    }
   ],
   "source": [
    "\n",
    "using Revise\n",
    "includet(\"../general_modules/channels.jl\")\n",
    "include(\"../general_modules/mesh.jl\")\n",
    "using .channels\n",
    "using .mesh\n",
    "using JSON"
   ]
  },
  {
   "cell_type": "code",
   "execution_count": null,
   "id": "aa562f47",
   "metadata": {},
   "outputs": [
    {
     "name": "stdout",
     "output_type": "stream",
     "text": [
      "For J=0.0 T=0.0 parity=1 Number of channels: 0\n",
      "scaling factor for x: 0.15032074721240762\n"
     ]
    },
    {
     "data": {
      "text/plain": [
       "Main.mesh.meshset(20, 20, 20, [-0.9931285991850949, -0.9639719272779138, -0.912234428251326, -0.8391169718222188, -0.7463319064601508, -0.636053680726515, -0.5108670019508271, -0.37370608871541955, -0.2277858511416451, -0.07652652113349732, 0.07652652113349732, 0.2277858511416451, 0.37370608871541955, 0.5108670019508271, 0.636053680726515, 0.7463319064601508, 0.8391169718222188, 0.912234428251326, 0.9639719272779138, 0.9931285991850949], [0.017614007139152055, 0.04060142980038697, 0.06267204833410904, 0.08327674157670457, 0.10193011981724034, 0.11819453196151841, 0.13168863844917655, 0.142096109318382, 0.14917298647260377, 0.15275338713072587, 0.15275338713072587, 0.14917298647260377, 0.142096109318382, 0.13168863844917655, 0.11819453196151841, 0.10193011981724034, 0.08327674157670457, 0.06267204833410904, 0.04060142980038697, 0.017614007139152055], [0.010603608926780523, 0.055938381339777916, 0.13778130652680518, 0.25664359346480425, 0.41326168629390836, 0.6086374785852973, 0.8440772973483274, 1.1212450771062241, 1.4422363052048262, 1.809681794402312, 2.2268956597201233, 2.6980913862819085, 3.228707497496717, 3.8259189816999775, 4.499483978213449, 5.263245597501301, 6.138055647734313, 7.1582730874475295, 8.389520519668668, 10.0], [0.027220090288089457, 0.06351904908716588, 0.10025034138330859, 0.13759645263940165, 0.17580608268021491, 0.21516235101093262, 0.25599339715054487, 0.29868971342689316, 0.343728799240642, 0.3917110233579324, 0.44341369504204725, 0.4998759787286289, 0.5625386385987805, 0.6334872112150172, 0.7159053337440183, 0.814997910151966, 0.9401078105697125, 1.1104666188556351, 1.3756345728279238, 1.9381438153574457], [0.010603608926780523, 0.055938381339777916, 0.13778130652680518, 0.25664359346480425, 0.41326168629390836, 0.6086374785852973, 0.8440772973483274, 1.1212450771062241, 1.4422363052048262, 1.809681794402312, 2.2268956597201233, 2.6980913862819085, 3.228707497496717, 3.8259189816999775, 4.499483978213449, 5.263245597501301, 6.138055647734313, 7.1582730874475295, 8.389520519668668, 10.0], [0.027220090288089457, 0.06351904908716588, 0.10025034138330859, 0.13759645263940165, 0.17580608268021491, 0.21516235101093262, 0.25599339715054487, 0.29868971342689316, 0.343728799240642, 0.3917110233579324, 0.44341369504204725, 0.4998759787286289, 0.5625386385987805, 0.6334872112150172, 0.7159053337440183, 0.814997910151966, 0.9401078105697125, 1.1104666188556351, 1.3756345728279238, 1.9381438153574457], 10.0, 10.0, 0.0, 0.15032074721240762, 0.15032074721240762, [0.0705398896919885, 0.37212681800161185, 0.916582102483273, 1.7073065310283437, 2.7491992553094318, 4.048925313850886, 5.6151749708616165, 7.459017453671063, 9.594392869581096, 12.038802546964316, 14.81429344263074, 17.948895520519375, 21.478788240285013, 25.451702793186904, 29.93255463170061, 35.013434240479, 40.83305705672857, 47.6199940473465, 55.810795750063896, 66.52441652561576], [0.0705398896919885, 0.37212681800161185, 0.916582102483273, 1.7073065310283437, 2.7491992553094318, 4.048925313850886, 5.6151749708616165, 7.459017453671063, 9.594392869581096, 12.038802546964316, 14.81429344263074, 17.948895520519375, 21.478788240285013, 25.451702793186904, 29.93255463170061, 35.013434240479, 40.83305705672857, 47.6199940473465, 55.810795750063896, 66.52441652561576], [6.06115261441605, 3.96778385623001, 3.158326831722479, 2.695854080188355, 2.3849707191147393, 2.1558416570369086, 1.9764490264324388, 1.8297420416680665, 1.7056583298403394, 1.5977804512172737, 1.5017424209518762, 1.4143889875724498, 1.3332875417975634, 1.256409102378269, 1.1818767818805198, 1.1076989714421968, 1.0313621034141505, 0.9489585563698777, 0.8526061460464357, 0.7183018751090455], [6.06115261441605, 3.96778385623001, 3.158326831722479, 2.695854080188355, 2.3849707191147393, 2.1558416570369086, 1.9764490264324388, 1.8297420416680665, 1.7056583298403394, 1.5977804512172737, 1.5017424209518762, 1.4143889875724498, 1.3332875417975634, 1.256409102378269, 1.1818767818805198, 1.1076989714421968, 1.0313621034141505, 0.9489585563698777, 0.8526061460464357, 0.7183018751090455])"
      ]
     },
     "metadata": {},
     "output_type": "display_data"
    }
   ],
   "source": [
    "data = JSON.parsefile(\"test.json\")\n",
    "Systems_params= data[\"Systems\"]\n",
    "mesh_params= data[\"Mesh\"]\n",
    "fermion=false\n",
    "\n",
    "α= α3b(fermion,0.0,0.0,1,Systems_params[\"lmax\"],Systems_params[\"lmin\"],Systems_params[\"λmax\"],Systems_params[\"λmin\"],Systems_params[\"s1\"],Systems_params[\"s2\"],Systems_params[\"s3\"],Systems_params[\"t1\"],Systems_params[\"t2\"],Systems_params[\"t3\"],Systems_params[\"MT\"])\n",
    "\n",
    "grid= initialmesh(mesh_params[\"nθ\"],mesh_params[\"nx\"],mesh_params[\"ny\"],Float64(mesh_params[\"xmax\"]),Float64(mesh_params[\"ymax\"]),Float64(mesh_params[\"alpha\"]))"
   ]
  },
  {
   "cell_type": "code",
   "execution_count": null,
   "id": "087a1535",
   "metadata": {},
   "outputs": [],
   "source": [
    "for i in 1:mesh_params[\"nx\"]\n",
    "    println(grid.xi[i], \"   \", grid.dxi[i])\n",
    "end"
   ]
  },
  {
   "cell_type": "code",
   "execution_count": 15,
   "id": "056c1d49",
   "metadata": {},
   "outputs": [],
   "source": [
    "using Revise\n",
    "Revise.revise()\n",
    "includet(\"Gcoefficient.jl\")\n",
    "using .Gcoefficient"
   ]
  },
  {
   "cell_type": "markdown",
   "id": "9643889f",
   "metadata": {},
   "source": [
    "initialY(λmax, lmax, nθ, nx, ny, cosθi, xi, yi, P::Char)\n",
    "return Yλαout, Ylαin, Yλαin\n",
    "\n",
    "Yλin[iθ, iy, ix, nch, perm_index]"
   ]
  },
  {
   "cell_type": "markdown",
   "id": "0a47059e",
   "metadata": {},
   "source": []
  },
  {
   "cell_type": "code",
   "execution_count": 17,
   "id": "6ba7154b",
   "metadata": {},
   "outputs": [
    {
     "data": {
      "text/plain": [
       "20×20×20×0×0×2 Array{ComplexF64, 6}"
      ]
     },
     "metadata": {},
     "output_type": "display_data"
    }
   ],
   "source": [
    "Gαα=computeGcoefficient(α, grid)"
   ]
  },
  {
   "cell_type": "code",
   "execution_count": 10,
   "id": "e1e1c070",
   "metadata": {},
   "outputs": [],
   "source": [
    "using Revise\n",
    "includet(\"twobody.jl\")\n",
    "using .twobodybound"
   ]
  },
  {
   "cell_type": "code",
   "execution_count": 14,
   "id": "de84c67b",
   "metadata": {},
   "outputs": [
    {
     "name": "stdout",
     "output_type": "stream",
     "text": [
      "For J=1.0 parity=+ Number of channels: 2\n",
      "Number of bound states: 1\n",
      "Bound state energies: [-2.183807213848866]\n"
     ]
    },
    {
     "data": {
      "text/plain": [
       "1-element Vector{Any}:\n",
       " (-2.183807213848866, [9.374102359288964e-5, 0.0012976542070245632, 0.006317508976450265, 0.022264673318424077, 0.057719247149088174, 0.11726384798501614, 0.19089002101713984, 0.2617542672238449, 0.31321869382684275, 0.3417805336714798  …  0.0, 0.0, 0.0, 0.0, 0.0, 0.0, 0.0, 0.0, 0.0, 0.0])"
      ]
     },
     "metadata": {},
     "output_type": "display_data"
    }
   ],
   "source": [
    "potname=\"MT\"\n",
    "bound_states=bound2b(grid, potname)"
   ]
  },
  {
   "cell_type": "code",
   "execution_count": null,
   "id": "c50987ac",
   "metadata": {},
   "outputs": [],
   "source": [
    "using Revise\n",
    "includet(\"spline.jl\")\n",
    "using .spline"
   ]
  },
  {
   "cell_type": "code",
   "execution_count": null,
   "id": "55efb584",
   "metadata": {},
   "outputs": [],
   "source": [
    "\"\"\"\n",
    "Test the cubic Hermitian spline interpolation with a polynomial function.\n",
    "\"\"\"\n",
    "# Import Printf for formatting\n",
    "using Printf\n",
    "using Plots\n",
    "function test_cubherm_interpolation()\n",
    "    # Define the polynomial function f(x) = 5x^5 + 4x^4 + 3x^3 + 2x^2 + x\n",
    "    f(x) = 5*x^5 + 4*x^4 + 3*x^3 + 2*x^2 + x\n",
    "    \n",
    "    # Create a set of old grid points (coarse grid)\n",
    "    xold = collect(range(-1.0, 1.0, length=15))\n",
    "    \n",
    "    # Evaluate the function at the old grid points\n",
    "    yold = f.(xold)\n",
    "    \n",
    "    # println(\"Original grid points:\")\n",
    "    # for i in 1:length(xold)\n",
    "    #     println(\"x = $(xold[i]), f(x) = $(yold[i])\")\n",
    "    # end\n",
    "    # println()\n",
    "    \n",
    "    # Create a set of test points (fine grid) where we want to interpolate\n",
    "    xtest = collect(range(-0.95, 0.95, length=20))\n",
    "    \n",
    "    # Compute the exact values\n",
    "    yexact = f.(xtest)\n",
    "    \n",
    "    # Interpolate using our cubic Hermitian spline\n",
    "    yinterp = Float64[]\n",
    "    for x in xtest\n",
    "        push!(yinterp, cubherm_interp_point(xold, yold, x))\n",
    "    end\n",
    "    \n",
    "    # Compute errors\n",
    "    errors = abs.(yinterp - yexact)\n",
    "    max_error = maximum(errors)\n",
    "    avg_error = sum(errors) / length(errors)\n",
    "    \n",
    "    println(\"Interpolation results and errors:\")\n",
    "    println(\"   x       Exact        Interpolated       Error\")\n",
    "    println(\"------------------------------------------------------\")\n",
    "    for i in 1:length(xtest)\n",
    "        # Use simple string formatting instead of @printf/@sprintf\n",
    "        x_str = @sprintf(\"%.4f\", xtest[i])\n",
    "        exact_str = @sprintf(\"%.6f\", yexact[i])\n",
    "        interp_str = @sprintf(\"%.6f\", yinterp[i])\n",
    "        error_str = @sprintf(\"%.6e\", errors[i])\n",
    "        \n",
    "        println(\"$(lpad(x_str, 7))  $(lpad(exact_str, 12))  $(lpad(interp_str, 12))  $(lpad(error_str, 12))\")\n",
    "    end\n",
    "    \n",
    "    println(\"\\nMaximum error: $max_error\")\n",
    "    println(\"Average error: $avg_error\")\n",
    "    \n",
    "    # Optional: Plot the results if Plots.jl is available\n",
    "    try\n",
    "        \n",
    "        \n",
    "        p = plot(xold, yold, seriestype=:scatter, \n",
    "             label=\"Original Points\", markersize=6, legend=:topleft)\n",
    "        \n",
    "        plot!(p, xtest, yexact, \n",
    "              label=\"Exact Function\", linewidth=2)\n",
    "        \n",
    "        plot!(p, xtest, yinterp, \n",
    "              label=\"Interpolated\", linewidth=2, linestyle=:dash)\n",
    "        \n",
    "        # Plot error\n",
    "        p_error = plot(xtest, errors, \n",
    "                   label=\"Interpolation Error\", linewidth=2,\n",
    "                   xlabel=\"x\", ylabel=\"Error\", title=\"Interpolation Error\")\n",
    "        \n",
    "        # Display both plots\n",
    "        plot(p, p_error, layout=(2,1), size=(800, 600),\n",
    "             title=[\"Cubic Hermitian Spline Interpolation\" \"\"])\n",
    "        \n",
    "        savefig(\"interpolation_test.png\")\n",
    "        println(\"\\nPlot saved as 'interpolation_test.png'\")\n",
    "    catch\n",
    "        println(\"\\nPlotting skipped (Plots.jl not available)\")\n",
    "    end\n",
    "    \n",
    "    return max_error, avg_error\n",
    "end"
   ]
  },
  {
   "cell_type": "code",
   "execution_count": null,
   "id": "05754c5a",
   "metadata": {},
   "outputs": [],
   "source": [
    "using Printf \n",
    "test_cubherm_interpolation()"
   ]
  },
  {
   "cell_type": "code",
   "execution_count": null,
   "id": "9cc31e61",
   "metadata": {},
   "outputs": [],
   "source": [
    "using Revise\n",
    "includet(\"matrices.jl\")\n",
    "using .matrices\n"
   ]
  },
  {
   "cell_type": "code",
   "execution_count": null,
   "id": "42addaf9",
   "metadata": {},
   "outputs": [],
   "source": [
    "Rxy_matrix(α, grid)\n"
   ]
  },
  {
   "cell_type": "code",
   "execution_count": null,
   "id": "4075a7c2",
   "metadata": {},
   "outputs": [],
   "source": [
    "using Revise\n",
    "includet(\"threebodybound.jl\")\n",
    "using .threebodybound"
   ]
  },
  {
   "cell_type": "code",
   "execution_count": null,
   "id": "1f48478a",
   "metadata": {},
   "outputs": [],
   "source": [
    "ThreeBody_Bound(α, grid)"
   ]
  },
  {
   "cell_type": "code",
   "execution_count": null,
   "id": "e789b3d1",
   "metadata": {},
   "outputs": [],
   "source": [
    "T_matrix(α,grid) "
   ]
  },
  {
   "cell_type": "code",
   "execution_count": null,
   "id": "82eb6f13",
   "metadata": {},
   "outputs": [],
   "source": [
    "V_matrix(α, grid, \"AV18\")"
   ]
  }
 ],
 "metadata": {
  "kernelspec": {
   "display_name": "Julia 1.11.4",
   "language": "julia",
   "name": "julia-1.11"
  },
  "language_info": {
   "file_extension": ".jl",
   "mimetype": "application/julia",
   "name": "julia",
   "version": "1.11.4"
  }
 },
 "nbformat": 4,
 "nbformat_minor": 5
}
