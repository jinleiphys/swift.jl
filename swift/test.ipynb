{
 "cells": [
  {
   "cell_type": "code",
   "execution_count": 1,
   "id": "b95d98be",
   "metadata": {},
   "outputs": [],
   "source": [
    "\n",
    "include(\"../general_modules/channels.jl\")\n",
    "include(\"../general_modules/mesh.jl\")\n",
    "using .channels\n",
    "using .mesh\n",
    "using JSON"
   ]
  },
  {
   "cell_type": "code",
   "execution_count": 3,
   "id": "aa562f47",
   "metadata": {},
   "outputs": [
    {
     "name": "stdout",
     "output_type": "stream",
     "text": [
      "For J=0.5 T=0.5 parity=1 Number of channels: 8\n"
     ]
    },
    {
     "data": {
      "text/plain": [
       "([0.010793571159988469, 0.05659276429335236, 0.13786183772187122, 0.25271446970529854, 0.3984609095574594, 0.5716855414653129, 0.768328316649816, 0.9837801753398278, 1.2129911485257514, 1.450588748496007, 1.6910039050937862, 1.9286015050640417, 2.1578124782499652, 2.373264336939977, 2.56990711212448, 2.7431317440323335, 2.8888781838844944, 3.0037308158679217, 3.0849998892964408, 3.130799082429805], [0.027668017714319135, 0.06377657679306871, 0.09844502331593069, 0.13081079977613538, 0.16011145779868483, 0.18565953665239512, 0.20685602955658772, 0.22320404656916054, 0.2343203792081908, 0.239944459410423, 0.239944459410423, 0.2343203792081908, 0.22320404656916054, 0.20685602955658772, 0.18565953665239512, 0.16011145779868483, 0.13081079977613538, 0.09844502331593069, 0.06377657679306871, 0.027668017714319135], [0.021207217853561045, 0.11187676267955583, 0.27556261305361035, 0.5132871869296085, 0.8265233725878167, 1.2172749571705945, 1.6881545946966547, 2.2424901542124482, 2.8844726104096523, 3.619363588804624, 4.4537913194402465, 5.396182772563817, 6.457414994993434, 7.651837963399955, 8.998967956426897, 10.526491195002603, 12.276111295468626, 14.316546174895059, 16.779041039337336, 20.0], [0.054440180576178915, 0.12703809817433176, 0.20050068276661717, 0.2751929052788033, 0.35161216536042983, 0.43032470202186524, 0.5119867943010897, 0.5973794268537863, 0.687457598481284, 0.7834220467158648, 0.8868273900840945, 0.9997519574572578, 1.125077277197561, 1.2669744224300343, 1.4318106674880366, 1.629995820303932, 1.880215621139425, 2.2209332377112703, 2.7512691456558476, 3.8762876307148915], [0.021207217853561045, 0.11187676267955583, 0.27556261305361035, 0.5132871869296085, 0.8265233725878167, 1.2172749571705945, 1.6881545946966547, 2.2424901542124482, 2.8844726104096523, 3.619363588804624, 4.4537913194402465, 5.396182772563817, 6.457414994993434, 7.651837963399955, 8.998967956426897, 10.526491195002603, 12.276111295468626, 14.316546174895059, 16.779041039337336, 20.0], [0.054440180576178915, 0.12703809817433176, 0.20050068276661717, 0.2751929052788033, 0.35161216536042983, 0.43032470202186524, 0.5119867943010897, 0.5973794268537863, 0.687457598481284, 0.7834220467158648, 0.8868273900840945, 0.9997519574572578, 1.125077277197561, 1.2669744224300343, 1.4318106674880366, 1.629995820303932, 1.880215621139425, 2.2209332377112703, 2.7512691456558476, 3.8762876307148915])"
      ]
     },
     "metadata": {},
     "output_type": "display_data"
    }
   ],
   "source": [
    "data = JSON.parsefile(\"test.json\")\n",
    "Systems_params= data[\"Systems\"]\n",
    "mesh_params= data[\"Mesh\"]\n",
    "α= α3b(0.5,0.5,1,Systems_params[\"lmax\"],Systems_params[\"lmin\"],Systems_params[\"λmax\"],Systems_params[\"λmin\"],Systems_params[\"s1\"],Systems_params[\"s2\"],Systems_params[\"s3\"],Systems_params[\"t1\"],Systems_params[\"t2\"],Systems_params[\"t3\"],Systems_params[\"MT\"])\n",
    "θi, dθi, xi, dxi, yi, dyi= initialmesh(mesh_params[\"nθ\"],mesh_params[\"nx\"],mesh_params[\"ny\"],Float64(mesh_params[\"xmax\"]),Float64(mesh_params[\"ymax\"]),Float64(mesh_params[\"alpha\"]))"
   ]
  },
  {
   "cell_type": "code",
   "execution_count": 5,
   "id": "056c1d49",
   "metadata": {},
   "outputs": [],
   "source": [
    "using Revise\n",
    "include(\"Gcoefficient.jl\")\n",
    "using .Gcoefficient"
   ]
  },
  {
   "cell_type": "markdown",
   "id": "9643889f",
   "metadata": {},
   "source": [
    "initialY(λmax, lmax, nθ, nx, ny, θi, xi, yi, P::Char)\n",
    "return Yλαout, Ylαin, Yλαin"
   ]
  },
  {
   "cell_type": "code",
   "execution_count": 10,
   "id": "3af551ba",
   "metadata": {},
   "outputs": [
    {
     "ename": "UndefVarError",
     "evalue": "UndefVarError: `sphericalharmonic` not defined in `Main.Gcoefficient`\nSuggestion: check for spelling errors or missing imports.",
     "output_type": "error",
     "traceback": [
      "UndefVarError: `sphericalharmonic` not defined in `Main.Gcoefficient`\n",
      "Suggestion: check for spelling errors or missing imports.\n",
      "\n",
      "Stacktrace:\n",
      " [1] initialY(λmax::Int64, lmax::Int64, nθ::Int64, nx::Int64, ny::Int64, θi::Vector{Float64}, xi::Vector{Float64}, yi::Vector{Float64}, P::Char)\n",
      "   @ Main.Gcoefficient ~/Desktop/code/swift.jl/swift/Gcoefficient.jl:168\n",
      " [2] top-level scope\n",
      "   @ ~/Desktop/code/swift.jl/swift/jl_notebook_cell_df34fa98e69747e1a8f8a730347b8e2f_W4sZmlsZQ==.jl:1"
     ]
    }
   ],
   "source": [
    "Yλαout, Ylαin, Yλαin = initialY(Systems_params[\"λmax\"], Systems_params[\"lmax\"], mesh_params[\"nθ\"],mesh_params[\"nx\"],mesh_params[\"ny\"], θi, xi, yi, '+')"
   ]
  }
 ],
 "metadata": {
  "kernelspec": {
   "display_name": "Julia 1.11.4",
   "language": "julia",
   "name": "julia-1.11"
  },
  "language_info": {
   "file_extension": ".jl",
   "mimetype": "application/julia",
   "name": "julia",
   "version": "1.11.4"
  }
 },
 "nbformat": 4,
 "nbformat_minor": 5
}
