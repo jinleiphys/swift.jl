{
 "cells": [
  {
   "cell_type": "code",
   "execution_count": null,
   "id": "b95d98be",
   "metadata": {},
   "outputs": [],
   "source": [
    "\n",
    "include(\"../general_modules/channels.jl\")\n",
    "include(\"../general_modules/mesh.jl\")\n",
    "using .channels\n",
    "using .mesh\n",
    "using JSON"
   ]
  },
  {
   "cell_type": "code",
   "execution_count": null,
   "id": "aa562f47",
   "metadata": {},
   "outputs": [],
   "source": [
    "data = JSON.parsefile(\"test.json\")\n",
    "Systems_params= data[\"Systems\"]\n",
    "mesh_params= data[\"Mesh\"]\n",
    "\n",
    "α= α3b(0.5,0.5,1,Systems_params[\"lmax\"],Systems_params[\"lmin\"],Systems_params[\"λmax\"],Systems_params[\"λmin\"],Systems_params[\"s1\"],Systems_params[\"s2\"],Systems_params[\"s3\"],Systems_params[\"t1\"],Systems_params[\"t2\"],Systems_params[\"t3\"],Systems_params[\"MT\"])\n",
    "\n",
    "grid= initialmesh(mesh_params[\"nθ\"],mesh_params[\"nx\"],mesh_params[\"ny\"],Float64(mesh_params[\"xmax\"]),Float64(mesh_params[\"ymax\"]),Float64(mesh_params[\"alpha\"]))"
   ]
  },
  {
   "cell_type": "code",
   "execution_count": null,
   "id": "087a1535",
   "metadata": {},
   "outputs": [],
   "source": [
    "for i in 1:mesh_params[\"nx\"]\n",
    "    println(grid.xi[i], \"   \", grid.dxi[i])\n",
    "end"
   ]
  },
  {
   "cell_type": "code",
   "execution_count": null,
   "id": "056c1d49",
   "metadata": {},
   "outputs": [],
   "source": [
    "using Revise\n",
    "Revise.revise()\n",
    "includet(\"Gcoefficient.jl\")\n",
    "using .Gcoefficient"
   ]
  },
  {
   "cell_type": "markdown",
   "id": "9643889f",
   "metadata": {},
   "source": [
    "initialY(λmax, lmax, nθ, nx, ny, cosθi, xi, yi, P::Char)\n",
    "return Yλαout, Ylαin, Yλαin\n",
    "\n",
    "Yλin[iθ, iy, ix, nch, perm_index]"
   ]
  },
  {
   "cell_type": "code",
   "execution_count": null,
   "id": "6ba7154b",
   "metadata": {},
   "outputs": [],
   "source": [
    "G1=computeGcoffecient(α, grid)"
   ]
  }
 ],
 "metadata": {
  "kernelspec": {
   "display_name": "Julia 1.11.4",
   "language": "julia",
   "name": "julia-1.11"
  },
  "language_info": {
   "file_extension": ".jl",
   "mimetype": "application/julia",
   "name": "julia",
   "version": "1.11.4"
  }
 },
 "nbformat": 4,
 "nbformat_minor": 5
}
