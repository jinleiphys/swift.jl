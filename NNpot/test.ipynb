{
 "cells": [
  {
   "cell_type": "code",
   "execution_count": 1,
   "metadata": {},
   "outputs": [],
   "source": [
    "include(\"nuclear_potentials.jl\")\n",
    "using .NuclearPotentials"
   ]
  },
  {
   "cell_type": "code",
   "execution_count": 2,
   "metadata": {},
   "outputs": [
    {
     "data": {
      "text/plain": [
       "example (generic function with 1 method)"
      ]
     },
     "metadata": {},
     "output_type": "display_data"
    }
   ],
   "source": [
    "function example(potname)\n",
    "    # Example: Calculate the deuteron potential (J=1, S=1, T=0) with AV18\n",
    "    angular_momenta = [0,2]  # S and D waves\n",
    "    s = 1\n",
    "    j = 1\n",
    "    t = 0\n",
    "    tz = -1  # np system\n",
    "    r = 1.0  # fm\n",
    "    potential = zeros(30)\n",
    "    for i in 1:30\n",
    "        r=i*0.05\n",
    "        potential1= potential_matrix(potname, r, angular_momenta, s, j, t, tz)\n",
    "        println(\"potential1=\", potential1[1,1])\n",
    "        potential[i]= potential1[1]\n",
    "        println(\"Deuteron potential at r = $r fm:\")\n",
    "    end\n",
    "    \n",
    "    \n",
    "    println(potential)\n",
    "end"
   ]
  },
  {
   "cell_type": "code",
   "execution_count": 3,
   "metadata": {},
   "outputs": [
    {
     "name": "stdout",
     "output_type": "stream",
     "text": [
      "potential1=0.0\n",
      "Deuteron potential at r = 0.05 fm:\n",
      "potential1=0.0\n",
      "Deuteron potential at r = 0.1 fm:\n",
      "potential1=0.0\n",
      "Deuteron potential at r = 0.15000000000000002 fm:\n",
      "potential1=0.0\n",
      "Deuteron potential at r = 0.2 fm:\n",
      "potential1=0.0\n",
      "Deuteron potential at r = 0.25 fm:\n",
      "potential1=0.0\n",
      "Deuteron potential at r = 0.30000000000000004 fm:\n",
      "potential1=0.0\n",
      "Deuteron potential at r = 0.35000000000000003 fm:\n",
      "potential1=0.0\n",
      "Deuteron potential at r = 0.4 fm:\n",
      "potential1=0.0\n",
      "Deuteron potential at r = 0.45 fm:\n",
      "potential1=0.0\n",
      "Deuteron potential at r = 0.5 fm:\n",
      "potential1=0.0\n",
      "Deuteron potential at r = 0.55 fm:\n",
      "potential1=0.0\n",
      "Deuteron potential at r = 0.6000000000000001 fm:\n",
      "potential1=0.0\n",
      "Deuteron potential at r = 0.65 fm:\n",
      "potential1=0.0\n",
      "Deuteron potential at r = 0.7000000000000001 fm:\n",
      "potential1=0.0\n",
      "Deuteron potential at r = 0.75 fm:\n",
      "potential1=0.0\n",
      "Deuteron potential at r = 0.8 fm:\n",
      "potential1=0.0\n",
      "Deuteron potential at r = 0.8500000000000001 fm:\n",
      "potential1=0.0\n",
      "Deuteron potential at r = 0.9 fm:\n",
      "potential1=0.0\n",
      "Deuteron potential at r = 0.9500000000000001 fm:\n",
      "potential1=0.0\n",
      "Deuteron potential at r = 1.0 fm:\n",
      "potential1=0.0\n",
      "Deuteron potential at r = 1.05 fm:\n",
      "potential1=0.0\n",
      "Deuteron potential at r = 1.1 fm:\n",
      "potential1=0.0\n",
      "Deuteron potential at r = 1.1500000000000001 fm:\n",
      "potential1=0.0\n",
      "Deuteron potential at r = 1.2000000000000002 fm:\n",
      "potential1=0.0\n",
      "Deuteron potential at r = 1.25 fm:\n",
      "potential1=0.0\n",
      "Deuteron potential at r = 1.3 fm:\n",
      "potential1=0.0\n",
      "Deuteron potential at r = 1.35 fm:\n",
      "potential1=0.0\n",
      "Deuteron potential at r = 1.4000000000000001 fm:\n",
      "potential1=0.0\n",
      "Deuteron potential at r = 1.4500000000000002 fm:\n",
      "potential1=0.0\n",
      "Deuteron potential at r = 1.5 fm:\n",
      "[0.0, 0.0, 0.0, 0.0, 0.0, 0.0, 0.0, 0.0, 0.0, 0.0, 0.0, 0.0, 0.0, 0.0, 0.0, 0.0, 0.0, 0.0, 0.0, 0.0, 0.0, 0.0, 0.0, 0.0, 0.0, 0.0, 0.0, 0.0, 0.0, 0.0]\n"
     ]
    }
   ],
   "source": [
    "example(\"NIJM\")"
   ]
  }
 ],
 "metadata": {
  "kernelspec": {
   "display_name": "Julia 1.11.4",
   "language": "julia",
   "name": "julia-1.11"
  },
  "language_info": {
   "file_extension": ".jl",
   "mimetype": "application/julia",
   "name": "julia",
   "version": "1.11.4"
  }
 },
 "nbformat": 4,
 "nbformat_minor": 2
}
