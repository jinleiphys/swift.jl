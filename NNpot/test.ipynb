{
 "cells": [
  {
   "cell_type": "code",
   "execution_count": 1,
   "metadata": {},
   "outputs": [],
   "source": [
    "include(\"nuclear_potentials.jl\")\n",
    "using .NuclearPotentials"
   ]
  },
  {
   "cell_type": "code",
   "execution_count": 8,
   "metadata": {},
   "outputs": [
    {
     "data": {
      "text/plain": [
       "example (generic function with 1 method)"
      ]
     },
     "execution_count": 8,
     "metadata": {},
     "output_type": "execute_result"
    }
   ],
   "source": [
    "function example()\n",
    "    # Example: Calculate the deuteron potential (J=1, S=1, T=0) with AV18\n",
    "    angular_momenta = [1]  # S and D waves\n",
    "    s = 1\n",
    "    j = 2\n",
    "    t = 0\n",
    "    tz = 0  # np system\n",
    "    r = 1.0  # fm\n",
    "    \n",
    "    potential = potential_matrix(AV18, r, angular_momenta, s, j, t, tz)\n",
    "    println(\"Deuteron potential at r = $r fm:\")\n",
    "    println(potential)\n",
    "end"
   ]
  },
  {
   "cell_type": "code",
   "execution_count": 10,
   "metadata": {},
   "outputs": [
    {
     "name": "stdout",
     "output_type": "stream",
     "text": [
      "Deuteron potential at r = 1.0 fm:\n",
      "[-7.499269251686798;;]\n"
     ]
    }
   ],
   "source": [
    "example()"
   ]
  }
 ],
 "metadata": {
  "kernelspec": {
   "display_name": "Julia 1.7.0",
   "language": "julia",
   "name": "julia-1.7"
  },
  "language_info": {
   "file_extension": ".jl",
   "mimetype": "application/julia",
   "name": "julia",
   "version": "1.7.0"
  }
 },
 "nbformat": 4,
 "nbformat_minor": 2
}
