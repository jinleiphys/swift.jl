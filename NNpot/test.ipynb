{
 "cells": [
  {
   "cell_type": "code",
   "execution_count": 1,
   "metadata": {},
   "outputs": [],
   "source": [
    "include(\"nuclear_potentials.jl\")\n",
    "using .NuclearPotentials"
   ]
  },
  {
   "cell_type": "code",
   "execution_count": 49,
   "metadata": {},
   "outputs": [
    {
     "data": {
      "text/plain": [
       "example (generic function with 1 method)"
      ]
     },
     "metadata": {},
     "output_type": "display_data"
    }
   ],
   "source": [
    "function example(potname)\n",
    "    # Example: Calculate the deuteron potential (J=1, S=1, T=0) with AV18\n",
    "    angular_momenta = [0,2]  # S and D waves\n",
    "    s = 1\n",
    "    j = 1\n",
    "    t = 0\n",
    "    tz = 0.5  # np system\n",
    "    r = 1.0  # fm\n",
    "    potential = zeros(30)\n",
    "    for i in 1:30\n",
    "        r=i*0.05\n",
    "        potential1= potential_matrix(potname, r, angular_momenta, s, j, t, tz)\n",
    "        println(\"potential1=\", potential1[1,1])\n",
    "        potential[i]= potential1[1]\n",
    "        println(\"Deuteron potential at r = $r fm:\")\n",
    "    end\n",
    "    \n",
    "    \n",
    "    println(potential)\n",
    "end"
   ]
  },
  {
   "cell_type": "code",
   "execution_count": 50,
   "metadata": {},
   "outputs": [
    {
     "ename": "MethodError",
     "evalue": "MethodError: no method matching potential_matrix(::PotentialType, ::Float64, ::Vector{Int64}, ::Int64, ::Int64, ::Int64, ::Float64)\nThe function `potential_matrix` exists, but no method is defined for this combination of argument types.\n\nClosest candidates are:\n  potential_matrix(::PotentialType, ::Float64, ::Vector{Int64}, ::Int64, ::Int64, ::Int64, !Matched::Int64)\n   @ Main.NuclearPotentials ~/Desktop/code/swift.jl/NNpot/nuclear_potentials.jl:196\n",
     "output_type": "error",
     "traceback": [
      "MethodError: no method matching potential_matrix(::PotentialType, ::Float64, ::Vector{Int64}, ::Int64, ::Int64, ::Int64, ::Float64)\n",
      "The function `potential_matrix` exists, but no method is defined for this combination of argument types.\n",
      "\n",
      "Closest candidates are:\n",
      "  potential_matrix(::PotentialType, ::Float64, ::Vector{Int64}, ::Int64, ::Int64, ::Int64, !Matched::Int64)\n",
      "   @ Main.NuclearPotentials ~/Desktop/code/swift.jl/NNpot/nuclear_potentials.jl:196\n",
      "\n",
      "\n",
      "Stacktrace:\n",
      " [1] example(potname::PotentialType)\n",
      "   @ Main ~/Desktop/code/swift.jl/NNpot/jl_notebook_cell_df34fa98e69747e1a8f8a730347b8e2f_W1sZmlsZQ==.jl:12\n",
      " [2] top-level scope\n",
      "   @ ~/Desktop/code/swift.jl/NNpot/jl_notebook_cell_df34fa98e69747e1a8f8a730347b8e2f_W2sZmlsZQ==.jl:1"
     ]
    }
   ],
   "source": [
    "example(AV18)"
   ]
  }
 ],
 "metadata": {
  "kernelspec": {
   "display_name": "Julia 1.11.4",
   "language": "julia",
   "name": "julia-1.11"
  },
  "language_info": {
   "file_extension": ".jl",
   "mimetype": "application/julia",
   "name": "julia",
   "version": "1.11.4"
  }
 },
 "nbformat": 4,
 "nbformat_minor": 2
}
